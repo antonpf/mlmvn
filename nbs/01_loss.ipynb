{
 "cells": [
  {
   "cell_type": "code",
   "execution_count": null,
   "metadata": {},
   "outputs": [],
   "source": [
    "#| default_exp loss"
   ]
  },
  {
   "cell_type": "markdown",
   "metadata": {},
   "source": [
    "# Loss\n",
    "\n",
    "> API details."
   ]
  },
  {
   "cell_type": "code",
   "execution_count": null,
   "metadata": {},
   "outputs": [],
   "source": [
    "#|hide\n",
    "from nbdev.showdoc import *"
   ]
  },
  {
   "cell_type": "code",
   "execution_count": null,
   "metadata": {},
   "outputs": [],
   "source": [
    "#|export\n",
    "import math\n",
    "import torch\n",
    "import torch.nn as nn\n",
    "import numpy as np\n",
    "from torch.autograd import Function"
   ]
  },
  {
   "cell_type": "code",
   "execution_count": null,
   "metadata": {},
   "outputs": [],
   "source": [
    "#|export\n",
    "class ComplexMSELoss(Function):\n",
    "    \n",
    "    @staticmethod\n",
    "    def forward(ctx, y_pred, y, categories, periodicity):    \n",
    "        y_tmp = y\n",
    "        if y.size().__len__() == 1:\n",
    "            y_tmp = torch.unsqueeze(y, 1)\n",
    "\n",
    "        # Class to several angles due to periodicity using bisector\n",
    "        target_angles = (\n",
    "            (categories * torch.arange(periodicity) + y_tmp + 0.5)\n",
    "            / (categories * periodicity)\n",
    "            * 2\n",
    "            * np.pi\n",
    "        )\n",
    "        \n",
    "        predicted_angles = torch.remainder(y_pred.angle() + 2 * np.pi, 2 * np.pi)\n",
    "        # errors = torch.exp(1.0j * target_angles) - torch.exp(1.0j * predicted_angles.unsqueeze(1))\n",
    "        errors = torch.exp(1.0j * target_angles) - torch.exp(1.0j * predicted_angles)\n",
    "        loss_angle = target_angles - predicted_angles\n",
    "\n",
    "\n",
    "        if periodicity > 1:\n",
    "            # select smallest error\n",
    "            idx = torch.argmin(torch.abs(errors), dim=1, keepdim=True)\n",
    "            errors = errors.gather(1, idx)\n",
    "\n",
    "            idx = torch.argmin(torch.abs(loss_angle), dim=1, keepdim=True)\n",
    "            loss_angle = loss_angle.gather(1, idx)\n",
    "\n",
    "        \n",
    "\n",
    "        ctx.save_for_backward(y_pred, y, errors)\n",
    "        # return errors.mean()\n",
    "        return torch.mean(\n",
    "            torch.square(\n",
    "                np.pi - torch.abs(torch.abs(loss_angle) - np.pi)\n",
    "            )\n",
    "        ) \n",
    "    \n",
    "    @staticmethod\n",
    "    def backward(ctx, grad_output):\n",
    "        y_pred, y, errors = ctx.saved_tensors\n",
    "        grad_input = errors\n",
    "        if y_pred.shape != errors.shape: grad_input = errors.squeeze()\n",
    "        return grad_input, None, None, None"
   ]
  }
 ],
 "metadata": {
  "kernelspec": {
   "display_name": "Python 3.9.13 ('mlmvn')",
   "language": "python",
   "name": "python3"
  },
  "language_info": {
   "name": "python",
   "version": "3.9.13"
  },
  "vscode": {
   "interpreter": {
    "hash": "60921e9341117d933bcb4a7bf88489ff9d34b3e2ff6ec9ca6bb1293af9510160"
   }
  }
 },
 "nbformat": 4,
 "nbformat_minor": 4
}
