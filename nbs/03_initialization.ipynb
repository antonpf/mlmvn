{
 "cells": [
  {
   "cell_type": "code",
   "execution_count": null,
   "metadata": {},
   "outputs": [],
   "source": [
    "# | default_exp init"
   ]
  },
  {
   "cell_type": "markdown",
   "metadata": {},
   "source": [
    "# Initialization\n",
    "> Implementation of various random initialization strategies suitable for complex-valued layers."
   ]
  },
  {
   "cell_type": "code",
   "execution_count": null,
   "metadata": {},
   "outputs": [],
   "source": [
    "# |hide\n",
    "from nbdev.showdoc import *"
   ]
  },
  {
   "cell_type": "code",
   "execution_count": null,
   "metadata": {},
   "outputs": [],
   "source": [
    "# | export\n",
    "import math\n",
    "import torch\n",
    "import numpy as np\n",
    "from torch.nn import init"
   ]
  },
  {
   "cell_type": "code",
   "execution_count": null,
   "metadata": {},
   "outputs": [],
   "source": [
    "# | export\n",
    "def cplx_kaiming_normal_(tensor, a=0.0, mode=\"fan_in\", nonlinearity=\"leaky_relu\"):\n",
    "    a = math.sqrt(1 + 2 * a * a)\n",
    "    init.kaiming_normal_(tensor.real, a=a, mode=mode, nonlinearity=nonlinearity)\n",
    "    init.kaiming_normal_(tensor.imag, a=a, mode=mode, nonlinearity=nonlinearity)"
   ]
  },
  {
   "cell_type": "code",
   "execution_count": null,
   "metadata": {},
   "outputs": [],
   "source": [
    "# | export\n",
    "def cplx_kaiming_uniform_(tensor, a=0.0, mode=\"fan_in\", nonlinearity=\"leaky_relu\"):\n",
    "    a = math.sqrt(1 + 2 * a * a)\n",
    "    init.kaiming_uniform_(tensor.real, a=a, mode=mode, nonlinearity=nonlinearity)\n",
    "    init.kaiming_uniform_(tensor.imag, a=a, mode=mode, nonlinearity=nonlinearity)"
   ]
  },
  {
   "cell_type": "code",
   "execution_count": null,
   "metadata": {},
   "outputs": [],
   "source": [
    "# | export\n",
    "def cplx_xavier_normal_(tensor, gain=1.0):\n",
    "    init.xavier_normal_(tensor.real, gain=gain / math.sqrt(2))\n",
    "    init.xavier_normal_(tensor.imag, gain=gain / math.sqrt(2))"
   ]
  },
  {
   "cell_type": "code",
   "execution_count": null,
   "metadata": {},
   "outputs": [],
   "source": [
    "# | export\n",
    "def cplx_xavier_uniform_(tensor, gain=1.0):\n",
    "    init.xavier_uniform_(tensor.real, gain=gain / math.sqrt(2))\n",
    "    init.xavier_uniform_(tensor.imag, gain=gain / math.sqrt(2))"
   ]
  },
  {
   "cell_type": "code",
   "execution_count": null,
   "metadata": {},
   "outputs": [],
   "source": [
    "# | export\n",
    "def cplx_trabelsi_standard_(tensor, kind=\"glorot\"):\n",
    "    \"\"\"Standard complex initialization proposed in Trabelsi et al. (2018).\"\"\"\n",
    "    kind = kind.lower()\n",
    "    assert kind in (\"glorot\", \"xavier\", \"kaiming\", \"he\")\n",
    "\n",
    "    fan_in, fan_out = init._calculate_fan_in_and_fan_out(tensor)\n",
    "    if kind == \"glorot\" or kind == \"xavier\":\n",
    "        scale = 1 / math.sqrt(fan_in + fan_out)\n",
    "    else:\n",
    "        scale = 1 / math.sqrt(fan_in)\n",
    "\n",
    "    # Rayleigh(\\sigma / \\sqrt2) x uniform[-\\pi, +\\pi] on p. 7\n",
    "    rho = np.random.rayleigh(scale, size=tensor.shape)\n",
    "    theta = np.random.uniform(-np.pi, +np.pi, size=tensor.shape)\n",
    "\n",
    "    # eq. (8) on p. 6\n",
    "    with torch.no_grad():\n",
    "        tensor.real.copy_(torch.from_numpy(np.cos(theta) * rho))\n",
    "        tensor.imag.copy_(torch.from_numpy(np.sin(theta) * rho))"
   ]
  },
  {
   "cell_type": "code",
   "execution_count": null,
   "metadata": {},
   "outputs": [],
   "source": [
    "# | export\n",
    "def cplx_trabelsi_independent_(tensor, kind=\"glorot\"):\n",
    "    \"\"\"Orthogonal complex initialization proposed in Trabelsi et al. (2018).\"\"\"\n",
    "    kind = kind.lower()\n",
    "    assert kind in (\"glorot\", \"xavier\", \"kaiming\", \"he\")\n",
    "\n",
    "    ndim = tensor.dim()\n",
    "    if ndim == 2:\n",
    "        shape = tensor.shape\n",
    "    else:\n",
    "        shape = int(np.prod(tensor.shape[:2])), int(np.prod(tensor.shape[2:]))\n",
    "\n",
    "    # generate a semi-unitary (orthogonal) matrix from a random matrix\n",
    "    # M = U V is semi-unitary: V^H U^H U V = I_k\n",
    "    Z = np.random.rand(*shape) + 1j * np.random.rand(*shape)\n",
    "\n",
    "    # Z is n x m, so u is n x n and vh is m x m\n",
    "    u, _, vh = np.linalg.svd(Z, compute_uv=True, full_matrices=True, hermitian=False)\n",
    "    k = min(*shape)\n",
    "    M = np.dot(u[:, :k], vh[:, :k].conjugate().T)\n",
    "\n",
    "    fan_in, fan_out = init._calculate_fan_in_and_fan_out(tensor)\n",
    "    if kind == \"glorot\" or kind == \"xavier\":\n",
    "        scale = 1 / math.sqrt(fan_in + fan_out)\n",
    "    else:\n",
    "        scale = 1 / math.sqrt(fan_in)\n",
    "\n",
    "    M /= M.std() / scale\n",
    "    M = M.reshape(tensor.shape)\n",
    "    with torch.no_grad():\n",
    "        tensor.real.copy_(torch.from_numpy(M.real))\n",
    "        tensor.imag.copy_(torch.from_numpy(M.imag))"
   ]
  },
  {
   "cell_type": "code",
   "execution_count": null,
   "metadata": {},
   "outputs": [],
   "source": [
    "# | export\n",
    "def cplx_normal_independent_(tensor, a=0.0, b=1.0):\n",
    "    init.normal_(tensor.real, a, b)\n",
    "    init.normal_(tensor.imag, a, b)"
   ]
  },
  {
   "cell_type": "code",
   "execution_count": null,
   "metadata": {},
   "outputs": [],
   "source": [
    "# | export\n",
    "def cplx_uniform_independent_(tensor, a=0.0, b=1.0):\n",
    "    init.uniform_(tensor.real, a, b)\n",
    "    init.uniform_(tensor.imag, a, b)"
   ]
  },
  {
   "cell_type": "code",
   "execution_count": null,
   "metadata": {},
   "outputs": [],
   "source": [
    "# | export\n",
    "def ones_(tensor, imag_zero=False):\n",
    "    tensor.real = 1\n",
    "    if not imag_zero:\n",
    "        tensor.imag = 1\n",
    "    else:\n",
    "        tensor.imag = 0"
   ]
  },
  {
   "cell_type": "code",
   "execution_count": null,
   "metadata": {},
   "outputs": [],
   "source": [
    "# | export\n",
    "def zeros_(tensor):\n",
    "    tensor.real = 0\n",
    "    tensor.imag = 0"
   ]
  },
  {
   "cell_type": "code",
   "execution_count": null,
   "metadata": {},
   "outputs": [],
   "source": [
    "weights = torch.randn(48, 100, dtype=torch.cdouble) / math.sqrt(48)"
   ]
  },
  {
   "cell_type": "code",
   "execution_count": null,
   "metadata": {},
   "outputs": [],
   "source": [
    "cplx_kaiming_normal_(weights)"
   ]
  },
  {
   "cell_type": "code",
   "execution_count": null,
   "metadata": {},
   "outputs": [],
   "source": [
    "cplx_trabelsi_standard_(weights)"
   ]
  },
  {
   "cell_type": "code",
   "execution_count": null,
   "metadata": {},
   "outputs": [],
   "source": [
    "ones_(weights, imag_zero=True)"
   ]
  },
  {
   "cell_type": "code",
   "execution_count": null,
   "metadata": {},
   "outputs": [],
   "source": [
    "cplx_normal_independent_(weights)"
   ]
  },
  {
   "cell_type": "code",
   "execution_count": null,
   "metadata": {},
   "outputs": [],
   "source": [
    "cplx_normal_independent_(weights)"
   ]
  },
  {
   "cell_type": "code",
   "execution_count": null,
   "metadata": {},
   "outputs": [
    {
     "data": {
      "text/plain": [
       "tensor([[-0.0470+0.7112j, -1.5469+0.1394j, -1.1867-0.1471j,  ...,\n",
       "          0.5766+0.8785j,  0.6712+0.0261j,  0.0456-0.7064j],\n",
       "        [-0.6531-1.1577j,  0.8416-0.2790j,  0.0602+0.5025j,  ...,\n",
       "         -0.6614-2.2219j,  0.7899-1.3343j,  0.3995+1.1260j],\n",
       "        [-1.7843-0.4350j,  1.7556-1.0172j, -0.3011-0.9143j,  ...,\n",
       "         -0.7598+1.0774j, -0.6681+0.5441j,  1.6245-2.0797j],\n",
       "        ...,\n",
       "        [-1.0470+1.3312j, -0.6345+1.6134j, -0.9516+0.6245j,  ...,\n",
       "         -0.0545-0.2412j,  0.3157+1.3666j,  0.4336-1.8152j],\n",
       "        [-1.6996+1.1974j,  0.6489-0.8106j, -0.3492-1.3665j,  ...,\n",
       "          1.5693+0.1399j, -0.3388+0.8230j,  0.6139-0.0835j],\n",
       "        [-1.1932+0.1981j, -0.2530-0.4910j,  0.4789-0.0780j,  ...,\n",
       "          1.5589+0.9441j,  1.1046-0.4397j, -2.2771-1.6190j]],\n",
       "       dtype=torch.complex128)"
      ]
     },
     "execution_count": null,
     "metadata": {},
     "output_type": "execute_result"
    }
   ],
   "source": [
    "weights"
   ]
  }
 ],
 "metadata": {
  "kernelspec": {
   "display_name": "Python 3.9.13 ('mlmvn')",
   "language": "python",
   "name": "python3"
  }
 },
 "nbformat": 4,
 "nbformat_minor": 2
}
