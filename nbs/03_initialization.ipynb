{
 "cells": [
  {
   "cell_type": "code",
   "execution_count": null,
   "metadata": {},
   "outputs": [],
   "source": [
    "# | default_exp init"
   ]
  },
  {
   "cell_type": "markdown",
   "metadata": {},
   "source": [
    "# Initialization\n",
    "> Implementation of various random initialization strategies suitable for complex-valued layers."
   ]
  },
  {
   "cell_type": "code",
   "execution_count": null,
   "metadata": {},
   "outputs": [],
   "source": [
    "# |hide\n",
    "from nbdev.showdoc import *"
   ]
  },
  {
   "cell_type": "code",
   "execution_count": null,
   "metadata": {},
   "outputs": [],
   "source": [
    "# | export\n",
    "import math\n",
    "import torch\n",
    "import numpy as np\n",
    "from torch.nn import init"
   ]
  },
  {
   "cell_type": "code",
   "execution_count": null,
   "metadata": {},
   "outputs": [],
   "source": [
    "# | export\n",
    "def get_fans(cplxtensor):\n",
    "    \"\"\"Almost verbatim copy of `init._calculate_fan_in_and_fan_out`\"\"\"\n",
    "    ndim = cplxtensor.dim()\n",
    "    if ndim < 2:\n",
    "        raise ValueError(\n",
    "            \"Fan in and fan out can not be computed for tensor with \"\n",
    "            \"fewer than 2 dimensions.\"\n",
    "        )\n",
    "\n",
    "    n_fmaps_output, n_fmaps_input, *rest = cplxtensor.shape\n",
    "    if ndim == 2:\n",
    "        fan_in, fan_out = n_fmaps_output, n_fmaps_input\n",
    "\n",
    "    else:\n",
    "        receptive_field_size = np.prod((1, *rest))\n",
    "        fan_in = n_fmaps_input * receptive_field_size\n",
    "        fan_out = n_fmaps_output * receptive_field_size\n",
    "\n",
    "    return fan_in, fan_out"
   ]
  },
  {
   "cell_type": "code",
   "execution_count": null,
   "metadata": {},
   "outputs": [],
   "source": [
    "# | export\n",
    "def cplx_kaiming_normal_(tensor, a=0.0, mode=\"fan_in\", nonlinearity=\"leaky_relu\"):\n",
    "    a = math.sqrt(1 + 2 * a * a)\n",
    "    init.kaiming_normal_(tensor.real, a=a, mode=mode, nonlinearity=nonlinearity)\n",
    "    init.kaiming_normal_(tensor.imag, a=a, mode=mode, nonlinearity=nonlinearity)"
   ]
  },
  {
   "cell_type": "code",
   "execution_count": null,
   "metadata": {},
   "outputs": [],
   "source": [
    "# | export\n",
    "def cplx_xavier_normal_(tensor, gain=1.0):\n",
    "    init.xavier_normal_(tensor.real, gain=gain / math.sqrt(2))\n",
    "    init.xavier_normal_(tensor.imag, gain=gain / math.sqrt(2))"
   ]
  },
  {
   "cell_type": "code",
   "execution_count": null,
   "metadata": {},
   "outputs": [],
   "source": [
    "# | export\n",
    "def cplx_kaiming_uniform_(tensor, a=0.0, mode=\"fan_in\", nonlinearity=\"leaky_relu\"):\n",
    "    a = math.sqrt(1 + 2 * a * a)\n",
    "    init.kaiming_uniform_(tensor.real, a=a, mode=mode, nonlinearity=nonlinearity)\n",
    "    init.kaiming_uniform_(tensor.imag, a=a, mode=mode, nonlinearity=nonlinearity)"
   ]
  },
  {
   "cell_type": "code",
   "execution_count": null,
   "metadata": {},
   "outputs": [],
   "source": [
    "# | export\n",
    "def cplx_xavier_uniform_(tensor, gain=1.0):\n",
    "    init.xavier_uniform_(tensor.real, gain=gain / math.sqrt(2))\n",
    "    init.xavier_uniform_(tensor.imag, gain=gain / math.sqrt(2))"
   ]
  },
  {
   "cell_type": "code",
   "execution_count": null,
   "metadata": {},
   "outputs": [],
   "source": [
    "# | export\n",
    "def cplx_trabelsi_standard_(tensor, kind=\"glorot\"):\n",
    "    \"\"\"Standard complex initialization proposed in Trabelsi et al. (2018).\"\"\"\n",
    "    kind = kind.lower()\n",
    "    assert kind in (\"glorot\", \"xavier\", \"kaiming\", \"he\")\n",
    "\n",
    "    fan_in, fan_out = init._calculate_fan_in_and_fan_out(tensor)\n",
    "    if kind == \"glorot\" or kind == \"xavier\":\n",
    "        scale = 1 / math.sqrt(fan_in + fan_out)\n",
    "    else:\n",
    "        scale = 1 / math.sqrt(fan_in)\n",
    "\n",
    "    # Rayleigh(\\sigma / \\sqrt2) x uniform[-\\pi, +\\pi] on p. 7\n",
    "    rho = np.random.rayleigh(scale, size=tensor.shape)\n",
    "    theta = np.random.uniform(-np.pi, +np.pi, size=tensor.shape)\n",
    "\n",
    "    # eq. (8) on p. 6\n",
    "    with torch.no_grad():\n",
    "        tensor.real.copy_(torch.from_numpy(np.cos(theta) * rho))\n",
    "        tensor.imag.copy_(torch.from_numpy(np.sin(theta) * rho))"
   ]
  },
  {
   "cell_type": "code",
   "execution_count": null,
   "metadata": {},
   "outputs": [],
   "source": [
    "# | export\n",
    "def cplx_trabelsi_independent_(tensor, kind=\"glorot\"):\n",
    "    \"\"\"Orthogonal complex initialization proposed in Trabelsi et al. (2018).\"\"\"\n",
    "    kind = kind.lower()\n",
    "    assert kind in (\"glorot\", \"xavier\", \"kaiming\", \"he\")\n",
    "\n",
    "    ndim = tensor.dim()\n",
    "    if ndim == 2:\n",
    "        shape = tensor.shape\n",
    "    else:\n",
    "        shape = int(np.prod(tensor.shape[:2])), int(np.prod(tensor.shape[2:]))\n",
    "\n",
    "    # generate a semi-unitary (orthogonal) matrix from a random matrix\n",
    "    # M = U V is semi-unitary: V^H U^H U V = I_k\n",
    "    Z = np.random.rand(*shape) + 1j * np.random.rand(*shape)\n",
    "\n",
    "    # Z is n x m, so u is n x n and vh is m x m\n",
    "    u, _, vh = np.linalg.svd(Z, compute_uv=True, full_matrices=True, hermitian=False)\n",
    "    k = min(*shape)\n",
    "    M = np.dot(u[:, :k], vh[:, :k].conjugate().T)\n",
    "\n",
    "    fan_in, fan_out = init._calculate_fan_in_and_fan_out(tensor)\n",
    "    if kind == \"glorot\" or kind == \"xavier\":\n",
    "        scale = 1 / math.sqrt(fan_in + fan_out)\n",
    "    else:\n",
    "        scale = 1 / math.sqrt(fan_in)\n",
    "\n",
    "    M /= M.std() / scale\n",
    "    M = M.reshape(tensor.shape)\n",
    "    with torch.no_grad():\n",
    "        tensor.real.copy_(torch.from_numpy(M.real))\n",
    "        tensor.imag.copy_(torch.from_numpy(M.imag))"
   ]
  },
  {
   "cell_type": "code",
   "execution_count": null,
   "metadata": {},
   "outputs": [],
   "source": [
    "# | export\n",
    "def cplx_uniform_independent_(tensor, a=0.0, b=1.0):\n",
    "    init.uniform_(tensor.real, a, b)\n",
    "    init.uniform_(tensor.imag, a, b)"
   ]
  },
  {
   "cell_type": "code",
   "execution_count": null,
   "metadata": {},
   "outputs": [],
   "source": [
    "# | export\n",
    "def ones_(tensor, imag_zero=False):\n",
    "    tensor.real = 1\n",
    "    if not imag_zero:\n",
    "        tensor.imag = 1\n",
    "    else:\n",
    "        tensor.imag = 0"
   ]
  },
  {
   "cell_type": "code",
   "execution_count": null,
   "metadata": {},
   "outputs": [],
   "source": [
    "# | export\n",
    "def zeros_(tensor):\n",
    "    tensor.real = 0\n",
    "    tensor.imag = 0"
   ]
  },
  {
   "cell_type": "code",
   "execution_count": null,
   "metadata": {},
   "outputs": [],
   "source": [
    "weights = torch.randn(48, 100, dtype=torch.cdouble) / math.sqrt(48)"
   ]
  },
  {
   "cell_type": "code",
   "execution_count": null,
   "metadata": {},
   "outputs": [],
   "source": [
    "cplx_kaiming_normal_(weights)"
   ]
  },
  {
   "cell_type": "code",
   "execution_count": null,
   "metadata": {},
   "outputs": [],
   "source": [
    "cplx_trabelsi_standard_(weights)"
   ]
  },
  {
   "cell_type": "code",
   "execution_count": null,
   "metadata": {},
   "outputs": [],
   "source": [
    "ones_(weights, imag_zero=True)"
   ]
  },
  {
   "cell_type": "code",
   "execution_count": null,
   "metadata": {},
   "outputs": [
    {
     "data": {
      "text/plain": [
       "tensor([[-0.0639+0.0598j,  0.0096-0.0157j, -0.0034+0.0258j,  ...,\n",
       "          0.0597+0.1678j, -0.1941-0.0643j, -0.0859+0.0302j],\n",
       "        [ 0.1408+0.0399j, -0.0184+0.0744j, -0.0116-0.0638j,  ...,\n",
       "          0.0015-0.0343j,  0.0500+0.0194j, -0.0193+0.1579j],\n",
       "        [ 0.1240+0.0365j,  0.0625+0.1287j, -0.0760-0.0389j,  ...,\n",
       "         -0.0329-0.0883j, -0.0886+0.0832j, -0.0763+0.0033j],\n",
       "        ...,\n",
       "        [-0.0690-0.0864j,  0.0969-0.0260j,  0.0542+0.0594j,  ...,\n",
       "         -0.0266-0.0080j, -0.0857-0.0438j, -0.0829+0.0879j],\n",
       "        [ 0.0309-0.0178j, -0.0471-0.0125j, -0.0295-0.0489j,  ...,\n",
       "          0.1484-0.1507j,  0.0723-0.1205j,  0.0248+0.0568j],\n",
       "        [-0.0315+0.0104j, -0.1373+0.0039j, -0.0147+0.1844j,  ...,\n",
       "         -0.0114-0.0055j,  0.0397+0.0040j, -0.0397+0.0574j]],\n",
       "       dtype=torch.complex128)"
      ]
     },
     "execution_count": null,
     "metadata": {},
     "output_type": "execute_result"
    }
   ],
   "source": [
    "weights"
   ]
  }
 ],
 "metadata": {
  "kernelspec": {
   "display_name": "Python 3.9.13 ('mlmvn')",
   "language": "python",
   "name": "python3"
  }
 },
 "nbformat": 4,
 "nbformat_minor": 2
}
