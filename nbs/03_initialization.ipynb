{
 "cells": [
  {
   "cell_type": "code",
   "execution_count": null,
   "metadata": {},
   "outputs": [],
   "source": [
    "# | default_exp init"
   ]
  },
  {
   "cell_type": "markdown",
   "metadata": {},
   "source": [
    "# Initialization\n",
    "> Implementation of various random initialization strategies suitable for complex-valued layers."
   ]
  },
  {
   "cell_type": "code",
   "execution_count": null,
   "metadata": {},
   "outputs": [],
   "source": [
    "# |hide\n",
    "from nbdev.showdoc import *"
   ]
  },
  {
   "cell_type": "code",
   "execution_count": null,
   "metadata": {},
   "outputs": [],
   "source": [
    "# | export\n",
    "import math\n",
    "import torch\n",
    "import numpy as np\n",
    "from torch.nn import init"
   ]
  },
  {
   "cell_type": "code",
   "execution_count": null,
   "metadata": {},
   "outputs": [],
   "source": [
    "# | export\n",
    "def cplx_kaiming_normal_(tensor, a=0.0, mode=\"fan_in\", nonlinearity=\"leaky_relu\"):\n",
    "    a = math.sqrt(1 + 2 * a * a)\n",
    "    init.kaiming_normal_(tensor.real, a=a, mode=mode, nonlinearity=nonlinearity)\n",
    "    init.kaiming_normal_(tensor.imag, a=a, mode=mode, nonlinearity=nonlinearity)"
   ]
  },
  {
   "cell_type": "code",
   "execution_count": null,
   "metadata": {},
   "outputs": [],
   "source": [
    "# | export\n",
    "def cplx_kaiming_uniform_(tensor, a=0.0, mode=\"fan_in\", nonlinearity=\"leaky_relu\"):\n",
    "    a = math.sqrt(1 + 2 * a * a)\n",
    "    init.kaiming_uniform_(tensor.real, a=a, mode=mode, nonlinearity=nonlinearity)\n",
    "    init.kaiming_uniform_(tensor.imag, a=a, mode=mode, nonlinearity=nonlinearity)"
   ]
  },
  {
   "cell_type": "code",
   "execution_count": null,
   "metadata": {},
   "outputs": [],
   "source": [
    "# | export\n",
    "def cplx_xavier_normal_(tensor, gain=1.0):\n",
    "    init.xavier_normal_(tensor.real, gain=gain / math.sqrt(2))\n",
    "    init.xavier_normal_(tensor.imag, gain=gain / math.sqrt(2))"
   ]
  },
  {
   "cell_type": "code",
   "execution_count": null,
   "metadata": {},
   "outputs": [],
   "source": [
    "# | export\n",
    "def cplx_xavier_uniform_(tensor, gain=1.0):\n",
    "    init.xavier_uniform_(tensor.real, gain=gain / math.sqrt(2))\n",
    "    init.xavier_uniform_(tensor.imag, gain=gain / math.sqrt(2))"
   ]
  },
  {
   "cell_type": "code",
   "execution_count": null,
   "metadata": {},
   "outputs": [],
   "source": [
    "# | export\n",
    "def cplx_trabelsi_standard_(tensor, kind=\"glorot\"):\n",
    "    \"\"\"Standard complex initialization proposed in Trabelsi et al. (2018).\"\"\"\n",
    "    kind = kind.lower()\n",
    "    assert kind in (\"glorot\", \"xavier\", \"kaiming\", \"he\")\n",
    "\n",
    "    fan_in, fan_out = init._calculate_fan_in_and_fan_out(tensor)\n",
    "    if kind == \"glorot\" or kind == \"xavier\":\n",
    "        scale = 1 / math.sqrt(fan_in + fan_out)\n",
    "    else:\n",
    "        scale = 1 / math.sqrt(fan_in)\n",
    "\n",
    "    # Rayleigh(\\sigma / \\sqrt2) x uniform[-\\pi, +\\pi] on p. 7\n",
    "    rho = np.random.rayleigh(scale, size=tensor.shape)\n",
    "    theta = np.random.uniform(-np.pi, +np.pi, size=tensor.shape)\n",
    "\n",
    "    # eq. (8) on p. 6\n",
    "    with torch.no_grad():\n",
    "        tensor.real.copy_(torch.from_numpy(np.cos(theta) * rho))\n",
    "        tensor.imag.copy_(torch.from_numpy(np.sin(theta) * rho))"
   ]
  },
  {
   "cell_type": "code",
   "execution_count": null,
   "metadata": {},
   "outputs": [],
   "source": [
    "# | export\n",
    "def cplx_trabelsi_independent_(tensor, kind=\"glorot\"):\n",
    "    \"\"\"Orthogonal complex initialization proposed in Trabelsi et al. (2018).\"\"\"\n",
    "    kind = kind.lower()\n",
    "    assert kind in (\"glorot\", \"xavier\", \"kaiming\", \"he\")\n",
    "\n",
    "    ndim = tensor.dim()\n",
    "    if ndim == 2:\n",
    "        shape = tensor.shape\n",
    "    else:\n",
    "        shape = int(np.prod(tensor.shape[:2])), int(np.prod(tensor.shape[2:]))\n",
    "\n",
    "    # generate a semi-unitary (orthogonal) matrix from a random matrix\n",
    "    # M = U V is semi-unitary: V^H U^H U V = I_k\n",
    "    Z = np.random.rand(*shape) + 1j * np.random.rand(*shape)\n",
    "\n",
    "    # Z is n x m, so u is n x n and vh is m x m\n",
    "    u, _, vh = np.linalg.svd(Z, compute_uv=True, full_matrices=True, hermitian=False)\n",
    "    k = min(*shape)\n",
    "    M = np.dot(u[:, :k], vh[:, :k].conjugate().T)\n",
    "\n",
    "    fan_in, fan_out = init._calculate_fan_in_and_fan_out(tensor)\n",
    "    if kind == \"glorot\" or kind == \"xavier\":\n",
    "        scale = 1 / math.sqrt(fan_in + fan_out)\n",
    "    else:\n",
    "        scale = 1 / math.sqrt(fan_in)\n",
    "\n",
    "    M /= M.std() / scale\n",
    "    M = M.reshape(tensor.shape)\n",
    "    with torch.no_grad():\n",
    "        tensor.real.copy_(torch.from_numpy(M.real))\n",
    "        tensor.imag.copy_(torch.from_numpy(M.imag))"
   ]
  },
  {
   "cell_type": "code",
   "execution_count": null,
   "metadata": {},
   "outputs": [],
   "source": [
    "# | export\n",
    "def cplx_normal_independent_(tensor, a=0.0, b=1.0):\n",
    "    init.normal_(tensor.real, a, b)\n",
    "    init.normal_(tensor.imag, a, b)"
   ]
  },
  {
   "cell_type": "code",
   "execution_count": null,
   "metadata": {},
   "outputs": [],
   "source": [
    "# | export\n",
    "def cplx_uniform_independent_(tensor, a=0.0, b=1.0):\n",
    "    init.uniform_(tensor.real, a, b)\n",
    "    init.uniform_(tensor.imag, a, b)"
   ]
  },
  {
   "cell_type": "code",
   "execution_count": null,
   "metadata": {},
   "outputs": [],
   "source": [
    "# | export\n",
    "def ones_(tensor, imag_zero=False):\n",
    "    tensor.real = 1\n",
    "    if not imag_zero:\n",
    "        tensor.imag = 1\n",
    "    else:\n",
    "        tensor.imag = 0"
   ]
  },
  {
   "cell_type": "code",
   "execution_count": null,
   "metadata": {},
   "outputs": [],
   "source": [
    "# | export\n",
    "def zeros_(tensor):\n",
    "    tensor.real = 0\n",
    "    tensor.imag = 0"
   ]
  },
  {
   "cell_type": "code",
   "execution_count": null,
   "metadata": {},
   "outputs": [],
   "source": [
    "weights = torch.randn(48, 100, dtype=torch.cdouble) / math.sqrt(48)"
   ]
  },
  {
   "cell_type": "code",
   "execution_count": null,
   "metadata": {},
   "outputs": [],
   "source": [
    "cplx_kaiming_normal_(weights)"
   ]
  },
  {
   "cell_type": "code",
   "execution_count": null,
   "metadata": {},
   "outputs": [],
   "source": [
    "cplx_trabelsi_standard_(weights)"
   ]
  },
  {
   "cell_type": "code",
   "execution_count": null,
   "metadata": {},
   "outputs": [],
   "source": [
    "ones_(weights, imag_zero=True)"
   ]
  },
  {
   "cell_type": "code",
   "execution_count": null,
   "metadata": {},
   "outputs": [],
   "source": [
    "cplx_normal_independent_(weights)"
   ]
  },
  {
   "cell_type": "code",
   "execution_count": null,
   "metadata": {},
   "outputs": [],
   "source": [
    "cplx_normal_independent_(weights)"
   ]
  },
  {
   "cell_type": "code",
   "execution_count": null,
   "metadata": {},
   "outputs": [
    {
     "data": {
      "text/plain": [
       "tensor([[ 0.4300+0.3978j,  0.4044+0.0886j, -0.0497+0.3637j,  ...,\n",
       "         -1.1625-0.2458j, -0.3606+1.3778j,  1.3233+0.1381j],\n",
       "        [-0.0352+0.4488j, -0.4317+0.1049j, -0.5743-0.0114j,  ...,\n",
       "          1.3755-0.1862j, -0.1263+1.6037j, -0.4251+0.0149j],\n",
       "        [ 0.1022+2.1415j, -0.3880-0.8916j,  0.9741+0.4967j,  ...,\n",
       "         -0.4281+1.6826j, -0.3992+0.4414j,  1.5657+0.3260j],\n",
       "        ...,\n",
       "        [-1.2332+1.4589j, -0.0185-3.0959j, -0.4712+2.1996j,  ...,\n",
       "         -0.4455+1.3777j,  0.4046-0.8535j,  1.3204+1.6157j],\n",
       "        [-1.3413-0.8369j, -1.7481+0.1788j,  0.2018-0.2512j,  ...,\n",
       "         -0.3099-1.4537j,  0.1969+3.0771j,  0.7079+1.1503j],\n",
       "        [ 1.7616+1.3624j,  0.6755+0.8201j, -0.2582+0.6527j,  ...,\n",
       "         -1.9779+0.6458j,  0.1358+0.4088j,  0.0482+0.3482j]],\n",
       "       dtype=torch.complex128)"
      ]
     },
     "execution_count": null,
     "metadata": {},
     "output_type": "execute_result"
    }
   ],
   "source": [
    "weights"
   ]
  }
 ],
 "metadata": {
  "kernelspec": {
   "display_name": "Python 3.9.13 ('mlmvn')",
   "language": "python",
   "name": "python3"
  }
 },
 "nbformat": 4,
 "nbformat_minor": 2
}
