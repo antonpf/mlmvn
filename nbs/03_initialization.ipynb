{
 "cells": [
  {
   "cell_type": "code",
   "execution_count": null,
   "metadata": {},
   "outputs": [],
   "source": [
    "# | default_exp init"
   ]
  },
  {
   "cell_type": "markdown",
   "metadata": {},
   "source": [
    "# Initialization\n",
    "> Implementation of various random initialization strategies suitable for complex-valued layers."
   ]
  },
  {
   "cell_type": "code",
   "execution_count": null,
   "metadata": {},
   "outputs": [],
   "source": [
    "# |hide\n",
    "from nbdev.showdoc import *"
   ]
  },
  {
   "cell_type": "code",
   "execution_count": null,
   "metadata": {},
   "outputs": [],
   "source": [
    "# | export\n",
    "import math\n",
    "import torch\n",
    "import numpy as np\n",
    "from torch.nn import init"
   ]
  },
  {
   "cell_type": "code",
   "execution_count": null,
   "metadata": {},
   "outputs": [],
   "source": [
    "# | export\n",
    "def cplx_kaiming_normal_(tensor, a=0.0, mode=\"fan_in\", nonlinearity=\"leaky_relu\"):\n",
    "    a = math.sqrt(1 + 2 * a * a)\n",
    "    init.kaiming_normal_(tensor.real, a=a, mode=mode, nonlinearity=nonlinearity)\n",
    "    init.kaiming_normal_(tensor.imag, a=a, mode=mode, nonlinearity=nonlinearity)"
   ]
  },
  {
   "cell_type": "code",
   "execution_count": null,
   "metadata": {},
   "outputs": [],
   "source": [
    "# | export\n",
    "def cplx_kaiming_uniform_(tensor, a=0.0, mode=\"fan_in\", nonlinearity=\"leaky_relu\"):\n",
    "    a = math.sqrt(1 + 2 * a * a)\n",
    "    init.kaiming_uniform_(tensor.real, a=a, mode=mode, nonlinearity=nonlinearity)\n",
    "    init.kaiming_uniform_(tensor.imag, a=a, mode=mode, nonlinearity=nonlinearity)"
   ]
  },
  {
   "cell_type": "code",
   "execution_count": null,
   "metadata": {},
   "outputs": [],
   "source": [
    "# | export\n",
    "def cplx_xavier_normal_(tensor, gain=1.0):\n",
    "    init.xavier_normal_(tensor.real, gain=gain / math.sqrt(2))\n",
    "    init.xavier_normal_(tensor.imag, gain=gain / math.sqrt(2))"
   ]
  },
  {
   "cell_type": "code",
   "execution_count": null,
   "metadata": {},
   "outputs": [],
   "source": [
    "# | export\n",
    "def cplx_xavier_uniform_(tensor, gain=1.0):\n",
    "    init.xavier_uniform_(tensor.real, gain=gain / math.sqrt(2))\n",
    "    init.xavier_uniform_(tensor.imag, gain=gain / math.sqrt(2))"
   ]
  },
  {
   "cell_type": "code",
   "execution_count": null,
   "metadata": {},
   "outputs": [],
   "source": [
    "# | export\n",
    "def cplx_trabelsi_standard_(tensor, kind=\"glorot\"):\n",
    "    \"\"\"Standard complex initialization proposed in Trabelsi et al. (2018).\"\"\"\n",
    "    kind = kind.lower()\n",
    "    assert kind in (\"glorot\", \"xavier\", \"kaiming\", \"he\")\n",
    "\n",
    "    fan_in, fan_out = init._calculate_fan_in_and_fan_out(tensor)\n",
    "    if kind == \"glorot\" or kind == \"xavier\":\n",
    "        scale = 1 / math.sqrt(fan_in + fan_out)\n",
    "    else:\n",
    "        scale = 1 / math.sqrt(fan_in)\n",
    "\n",
    "    # Rayleigh(\\sigma / \\sqrt2) x uniform[-\\pi, +\\pi] on p. 7\n",
    "    rho = np.random.rayleigh(scale, size=tensor.shape)\n",
    "    theta = np.random.uniform(-np.pi, +np.pi, size=tensor.shape)\n",
    "\n",
    "    # eq. (8) on p. 6\n",
    "    with torch.no_grad():\n",
    "        tensor.real.copy_(torch.from_numpy(np.cos(theta) * rho))\n",
    "        tensor.imag.copy_(torch.from_numpy(np.sin(theta) * rho))"
   ]
  },
  {
   "cell_type": "code",
   "execution_count": null,
   "metadata": {},
   "outputs": [],
   "source": [
    "# | export\n",
    "def cplx_trabelsi_independent_(tensor, kind=\"glorot\"):\n",
    "    \"\"\"Orthogonal complex initialization proposed in Trabelsi et al. (2018).\"\"\"\n",
    "    kind = kind.lower()\n",
    "    assert kind in (\"glorot\", \"xavier\", \"kaiming\", \"he\")\n",
    "\n",
    "    ndim = tensor.dim()\n",
    "    if ndim == 2:\n",
    "        shape = tensor.shape\n",
    "    else:\n",
    "        shape = int(np.prod(tensor.shape[:2])), int(np.prod(tensor.shape[2:]))\n",
    "\n",
    "    # generate a semi-unitary (orthogonal) matrix from a random matrix\n",
    "    # M = U V is semi-unitary: V^H U^H U V = I_k\n",
    "    Z = np.random.rand(*shape) + 1j * np.random.rand(*shape)\n",
    "\n",
    "    # Z is n x m, so u is n x n and vh is m x m\n",
    "    u, _, vh = np.linalg.svd(Z, compute_uv=True, full_matrices=True, hermitian=False)\n",
    "    k = min(*shape)\n",
    "    M = np.dot(u[:, :k], vh[:, :k].conjugate().T)\n",
    "\n",
    "    fan_in, fan_out = init._calculate_fan_in_and_fan_out(tensor)\n",
    "    if kind == \"glorot\" or kind == \"xavier\":\n",
    "        scale = 1 / math.sqrt(fan_in + fan_out)\n",
    "    else:\n",
    "        scale = 1 / math.sqrt(fan_in)\n",
    "\n",
    "    M /= M.std() / scale\n",
    "    M = M.reshape(tensor.shape)\n",
    "    with torch.no_grad():\n",
    "        tensor.real.copy_(torch.from_numpy(M.real))\n",
    "        tensor.imag.copy_(torch.from_numpy(M.imag))"
   ]
  },
  {
   "cell_type": "code",
   "execution_count": null,
   "metadata": {},
   "outputs": [],
   "source": [
    "# | export\n",
    "def cplx_normal_independent_(tensor, a=0.0, b=1.0):\n",
    "    init.normal_(tensor.real, a, b)\n",
    "    init.normal_(tensor.imag, a, b)"
   ]
  },
  {
   "cell_type": "code",
   "execution_count": null,
   "metadata": {},
   "outputs": [],
   "source": [
    "# | export\n",
    "def cplx_uniform_independent_(tensor, a=0.0, b=1.0):\n",
    "    init.uniform_(tensor.real, a, b)\n",
    "    init.uniform_(tensor.imag, a, b)"
   ]
  },
  {
   "cell_type": "code",
   "execution_count": null,
   "metadata": {},
   "outputs": [],
   "source": [
    "# | export\n",
    "def ones_(tensor, imag_zero=False):\n",
    "    tensor.real = 1\n",
    "    if not imag_zero:\n",
    "        tensor.imag = 1\n",
    "    else:\n",
    "        tensor.imag = 0"
   ]
  },
  {
   "cell_type": "code",
   "execution_count": null,
   "metadata": {},
   "outputs": [],
   "source": [
    "# | export\n",
    "def zeros_(tensor):\n",
    "    tensor.real = 0\n",
    "    tensor.imag = 0"
   ]
  },
  {
   "cell_type": "code",
   "execution_count": null,
   "metadata": {},
   "outputs": [],
   "source": [
    "weights = torch.randn(48, 100, dtype=torch.cdouble) / math.sqrt(48)"
   ]
  },
  {
   "cell_type": "code",
   "execution_count": null,
   "metadata": {},
   "outputs": [],
   "source": [
    "cplx_kaiming_normal_(weights)"
   ]
  },
  {
   "cell_type": "code",
   "execution_count": null,
   "metadata": {},
   "outputs": [],
   "source": [
    "cplx_trabelsi_standard_(weights)"
   ]
  },
  {
   "cell_type": "code",
   "execution_count": null,
   "metadata": {},
   "outputs": [],
   "source": [
    "ones_(weights, imag_zero=True)"
   ]
  },
  {
   "cell_type": "code",
   "execution_count": null,
   "metadata": {},
   "outputs": [],
   "source": [
    "cplx_normal_independent_(weights)"
   ]
  },
  {
   "cell_type": "code",
   "execution_count": null,
   "metadata": {},
   "outputs": [],
   "source": [
    "cplx_normal_independent_(weights)"
   ]
  },
  {
   "cell_type": "code",
   "execution_count": null,
   "metadata": {},
   "outputs": [
    {
     "data": {
      "text/plain": [
       "tensor([[ 1.2088-0.1780j,  1.3915+0.0717j, -0.4758-0.0159j,  ...,\n",
       "          1.2787-0.4958j, -1.3118-0.1963j, -0.1222+2.1602j],\n",
       "        [-1.0095+2.3892j, -0.4441+1.6676j,  0.6802+1.2186j,  ...,\n",
       "         -0.2286+0.4150j, -0.1627+0.8436j,  0.4031+0.5756j],\n",
       "        [ 0.1665-0.5673j,  0.7762-1.4712j,  0.8819-0.6611j,  ...,\n",
       "         -0.2478-0.8351j,  0.5986+0.3264j,  0.9021-0.5091j],\n",
       "        ...,\n",
       "        [ 0.5833-0.1446j,  0.3841+0.0449j, -0.7109-0.9702j,  ...,\n",
       "          1.4883+0.1660j,  0.2870-0.5798j,  2.3875+2.6999j],\n",
       "        [-0.2952+0.8427j, -0.6253+2.1380j, -0.5874-0.0462j,  ...,\n",
       "          1.7140-0.2101j, -0.2020+0.7448j,  0.1977+1.1116j],\n",
       "        [-2.0322+0.3303j, -0.0070+0.4699j, -1.3509-0.4418j,  ...,\n",
       "          0.5421-1.1324j,  0.8526+1.6163j,  2.2733-0.3466j]],\n",
       "       dtype=torch.complex128)"
      ]
     },
     "execution_count": null,
     "metadata": {},
     "output_type": "execute_result"
    }
   ],
   "source": [
    "weights"
   ]
  }
 ],
 "metadata": {
  "kernelspec": {
   "display_name": "python3",
   "language": "python",
   "name": "python3"
  }
 },
 "nbformat": 4,
 "nbformat_minor": 2
}
