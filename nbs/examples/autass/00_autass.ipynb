{
 "cells": [
  {
   "cell_type": "markdown",
   "metadata": {},
   "source": [
    "# Sensorless Drive Diagnosis\n",
    "\n",
    "> In this example, the main focus is the classification of individual states of a motor."
   ]
  },
  {
   "cell_type": "markdown",
   "metadata": {},
   "source": [
    "The dataset used in this work is taken from the research project AutASS \\cite{AutASS.}. It contains phase-related motor currents for fault detection in electromechanical drive systems. The dataset is designed to explore methods to use drives as sensors and to infer different faults of the motor in the sense of a self-diagnosis of the drive behaviour. One goal was to realise the diagnostic functions of the motor without additional sensors. The dataset contains various faults and damages of the drive train's components. The types of faults include wear, incorrect assembly, or overload. The dataset was generated on a test bench with a 425 W permanent magnet synchronous motor. The axles, bearings, and force transducers were used to simulate various defective drive conditions and generate the required data. More information on the measurement procedure and a detailed description of the demonstrator can be found in \\cite{Lessmeier.2014}. The individual states of the motor (one non-fault state and 10 different fault states) are described as follows: Each state is measured three times at a total of 12 different operating conditions (different speeds, load torques, and load forces). For the classification of the different operating states, characteristics are calculated from the time signals of the synchronous motor. The basis for this is the decomposition of the current signals by means of empirical mode decomposition (EMD). The original signal is decomposed into so-called intrinsic mode functions (IMF) and residuals, each containing a frequency inherent in the signal. Each IMF and residual is further divided into intervals related to the mechanical properties of the drive. From these, again, statistical features are generated (empirical mean, standard deviation, skewness, and excess). A detailed description of the EMD process and the feature extraction procedure can be found in \\cite{Bator.2012}."
   ]
  },
  {
   "cell_type": "code",
   "execution_count": 1,
   "metadata": {},
   "outputs": [],
   "source": [
    "# |hide\n",
    "from nbdev.showdoc import *"
   ]
  },
  {
   "cell_type": "code",
   "execution_count": 2,
   "metadata": {},
   "outputs": [],
   "source": [
    "import torch\n",
    "import torch.nn as nn\n",
    "import numpy as np\n",
    "import pandas as pd\n",
    "import copy\n",
    "\n",
    "# from mlflow import log_metric, log_param, log_artifacts\n",
    "from sklearn.metrics import classification_report\n",
    "from sklearn.metrics import confusion_matrix\n",
    "from sklearn.model_selection import train_test_split\n",
    "from sklearn.preprocessing import StandardScaler\n",
    "from matplotlib import pyplot as plt\n",
    "\n",
    "from mlmvn.layers import FirstLayer, HiddenLayer, OutputLayer, cmplx_phase_activation\n",
    "from mlmvn.loss import ComplexMSELoss\n",
    "from mlmvn.optim import MySGD, ECL"
   ]
  },
  {
   "cell_type": "code",
   "execution_count": 3,
   "metadata": {},
   "outputs": [],
   "source": [
    "def set_device():\n",
    "    \"\"\"\n",
    "    Set the device. CUDA if available, CPU otherwise\n",
    "\n",
    "    Args:\n",
    "      None\n",
    "\n",
    "    Returns:\n",
    "      Nothing\n",
    "    \"\"\"\n",
    "    device = \"cuda\" if torch.cuda.is_available() else \"cpu\"\n",
    "    if device != \"cuda\":\n",
    "        print(\n",
    "            \"GPU is not enabled in this notebook. \\n\"\n",
    "            \"If you want to enable it, in the menu under `Runtime` -> \\n\"\n",
    "            \"`Hardware accelerator.` and select `GPU` from the dropdown menu\"\n",
    "        )\n",
    "    else:\n",
    "        print(\n",
    "            \"GPU is enabled in this notebook. \\n\"\n",
    "            \"If you want to disable it, in the menu under `Runtime` -> \\n\"\n",
    "            \"`Hardware accelerator.` and select `None` from the dropdown menu\"\n",
    "        )\n",
    "\n",
    "    return device"
   ]
  },
  {
   "cell_type": "code",
   "execution_count": 4,
   "metadata": {},
   "outputs": [],
   "source": [
    "# print(torch.cuda.is_available())\n",
    "# DEVICE = set_device()"
   ]
  },
  {
   "cell_type": "code",
   "execution_count": 5,
   "metadata": {},
   "outputs": [],
   "source": [
    "def reverse_one_hot(x, neuronCats):\n",
    "    a = np.zeros(len(x))\n",
    "    x = torch.detach(x)\n",
    "    for i in range(len(x)):\n",
    "        a[i] = torch.max(x[i]) - 1 + np.argmax(x[i]) * neuronCats\n",
    "    return a\n",
    "\n",
    "\n",
    "def accuracy(out, yb):\n",
    "    out = out.type(torch.double)\n",
    "    yb = yb.type(torch.double)\n",
    "    x = 0\n",
    "    for i in range(len(out)):\n",
    "        x += torch.equal(out[i], yb[i])\n",
    "    return x / len(out)"
   ]
  },
  {
   "cell_type": "code",
   "execution_count": 6,
   "metadata": {},
   "outputs": [],
   "source": [
    "# ------- control variables: -------\n",
    "# number of categories a neuron can distinguish / parameter that determines the number of output neurons\n",
    "neuronCats = 1\n",
    "# number of categories per neuron, i.e. neuronCats (+ 1 for others in case of multiple Outputs)\n",
    "categories = 2\n",
    "# how often a classification sector occurs (1 means no periodicity)\n",
    "periodicity = 1"
   ]
  },
  {
   "cell_type": "markdown",
   "metadata": {},
   "source": [
    "## Load Data"
   ]
  },
  {
   "cell_type": "code",
   "execution_count": 7,
   "metadata": {},
   "outputs": [],
   "source": [
    "train_csv = pd.read_csv(\n",
    "    \"data/autass_data2.csv\",\n",
    "    header=None,\n",
    "    dtype=np.double,\n",
    ")\n",
    "data = np.array(train_csv.values[:, 1:50])\n",
    "del train_csv"
   ]
  },
  {
   "cell_type": "code",
   "execution_count": 8,
   "metadata": {},
   "outputs": [],
   "source": [
    "X = data[:, 0:48]\n",
    "y = data[:, 48].astype(int) - 1\n",
    "\n",
    "yt = copy.copy(y)\n",
    "yt[yt == 0] = 20\n",
    "yt[yt == 1] = 21\n",
    "yt[yt == 2] = 22\n",
    "yt[yt == 3] = 23\n",
    "yt[yt == 4] = 26\n",
    "yt[yt == 5] = 24\n",
    "yt[yt == 6] = 27\n",
    "yt[yt == 7] = 29\n",
    "yt[yt == 8] = 30\n",
    "yt[yt == 9] = 25\n",
    "yt[yt == 10] = 28\n",
    "yt -= 20\n",
    "y = yt\n",
    "del yt"
   ]
  },
  {
   "cell_type": "code",
   "execution_count": 9,
   "metadata": {},
   "outputs": [
    {
     "name": "stderr",
     "output_type": "stream",
     "text": [
      "/tmp/ipykernel_311923/965947326.py:30: UserWarning: To copy construct from a tensor, it is recommended to use sourceTensor.clone().detach() or sourceTensor.clone().detach().requires_grad_(True), rather than torch.tensor(sourceTensor).\n",
      "  x_train, y_train, x_valid, y_valid = map(\n"
     ]
    }
   ],
   "source": [
    "x_train, x_valid, y_train, y_valid = train_test_split(\n",
    "    X, y, train_size=46806, random_state=42\n",
    ")\n",
    "\n",
    "# one-hot encoding\n",
    "numSamples, numFeatures = x_valid.shape\n",
    "y_valid_int = y_valid\n",
    "y2 = y_valid + 1  # auxiliary variable so that classes start at 1 and not 0\n",
    "numClasses = max(y2)\n",
    "target_ids = range(numClasses)\n",
    "no = int(np.ceil(numClasses / neuronCats))  # number of output neurons\n",
    "if no != 1:\n",
    "    y_valid = torch.zeros(numSamples, no)\n",
    "    for i in range(numSamples):\n",
    "        k = int(np.ceil(y2[i] / neuronCats)) - 1\n",
    "        c = np.mod((y2[i] - 1), neuronCats) + 1\n",
    "        y_valid[i, k] = c\n",
    "numSamples, numFeatures = x_train.shape\n",
    "y_train_int = y_train\n",
    "y2 = y_train + 1  # auxiliary variable so that classes start at 1 and not 0\n",
    "if no != 1:\n",
    "    y_train = torch.zeros(numSamples, no)\n",
    "    for i in range(numSamples):\n",
    "        k = int(np.ceil(y2[i] / neuronCats)) - 1\n",
    "        c = np.mod((y2[i] - 1), neuronCats) + 1\n",
    "        y_train[i, k] = c\n",
    "del y2\n",
    "\n",
    "# Convert numpy arrays into torch tensors\n",
    "x_train, y_train, x_valid, y_valid = map(\n",
    "    torch.tensor, (x_train, y_train, x_valid, y_valid)\n",
    ")\n",
    "if y_train.size().__len__() == 1:\n",
    "    y_train = torch.unsqueeze(y_train, 1)\n",
    "    y_valid = torch.unsqueeze(y_valid, 1)\n",
    "\n",
    "# convert angles to complex numbers on unit-circle\n",
    "x_train = torch.exp(1.0j * x_train)\n",
    "x_valid = torch.exp(1.0j * x_valid)\n",
    "\n",
    "# ns = number of samples , ni = number of inputs / input neurons\n",
    "ns, ni = x_train.shape"
   ]
  },
  {
   "cell_type": "code",
   "execution_count": 10,
   "metadata": {},
   "outputs": [
    {
     "data": {
      "text/plain": [
       "torch.Size([46806, 48])"
      ]
     },
     "execution_count": 10,
     "metadata": {},
     "output_type": "execute_result"
    }
   ],
   "source": [
    "x_train = x_train\n",
    "y_train = y_train\n",
    "x_train.shape"
   ]
  },
  {
   "cell_type": "code",
   "execution_count": 11,
   "metadata": {},
   "outputs": [
    {
     "data": {
      "text/plain": [
       "torch.Size([46806, 11])"
      ]
     },
     "execution_count": 11,
     "metadata": {},
     "output_type": "execute_result"
    }
   ],
   "source": [
    "y_train.shape"
   ]
  },
  {
   "cell_type": "markdown",
   "metadata": {},
   "source": [
    "## Model"
   ]
  },
  {
   "cell_type": "code",
   "execution_count": 12,
   "metadata": {},
   "outputs": [],
   "source": [
    "class Model(nn.Module):\n",
    "    def __init__(self, categories, periodicity):\n",
    "        super().__init__()\n",
    "        self.categories = categories\n",
    "        self.periodicity = periodicity\n",
    "\n",
    "        self.first_linear = FirstLayer(48, 100)\n",
    "        self.phase_act1 = cmplx_phase_activation()\n",
    "        self.linear_out = OutputLayer(100, 11)\n",
    "        self.phase_act2 = cmplx_phase_activation()\n",
    "\n",
    "    def forward(self, x):\n",
    "        x = self.first_linear(x)\n",
    "        x = self.phase_act1(x)\n",
    "        x = self.linear_out(x)\n",
    "        x = self.phase_act2(x)\n",
    "        return x\n",
    "\n",
    "    def angle2class(self, x: torch.tensor) -> torch.tensor:\n",
    "        tmp = x.angle() + 2 * np.pi\n",
    "        angle = torch.remainder(tmp, 2 * np.pi)\n",
    "\n",
    "        # This will be the discrete output (the number of sector)\n",
    "        o = torch.floor(self.categories * self.periodicity * angle / (2 * np.pi))\n",
    "        return torch.remainder(o, self.categories)\n",
    "\n",
    "    def predict(self, x):\n",
    "        \"\"\"\n",
    "        Performs the prediction task of the network\n",
    "\n",
    "        Args:\n",
    "          x: torch.Tensor\n",
    "            Input tensor of size ([3])\n",
    "\n",
    "        Returns:\n",
    "          Most likely class i.e., Label with the highest score\n",
    "        \"\"\"\n",
    "        # Pass the data through the networks\n",
    "        output = self.forward(x)\n",
    "\n",
    "        # # Choose the label with the highest score\n",
    "        # return torch.argmax(output, 1)\n",
    "        return self.angle2class(output)\n",
    "\n",
    "\n",
    "def train(\n",
    "    model, X, y, epochs, batch_size, optimizer, criterion, categories, periodicity\n",
    "):\n",
    "    # List of losses for visualization\n",
    "    losses = []\n",
    "    scores = []\n",
    "\n",
    "    list_weights = []\n",
    "    list_bias = []\n",
    "    list_outputs = []\n",
    "    list_self_adjusting_learning_rate = []\n",
    "\n",
    "    for i in range(epochs):\n",
    "        # Pass the data through the network and compute the loss\n",
    "        # We'll use the whole dataset during the training instead of using batches\n",
    "        # in to order to keep the code simple for now.\n",
    "\n",
    "        batch_loss = []\n",
    "\n",
    "        for j in range((X.shape[0] - 1) // batch_size + 1):\n",
    "            start_j = j * batch_size\n",
    "            end_j = start_j + batch_size\n",
    "            xb = X[start_j:end_j]\n",
    "            yb = y[start_j:end_j]\n",
    "\n",
    "            xb = xb\n",
    "            yb = yb\n",
    "\n",
    "            # Forward pass: Compute predicted y by passing x to the model\n",
    "            y_pred = model(xb)\n",
    "\n",
    "            loss = criterion(y_pred, yb, categories, periodicity)\n",
    "            # wandb.log({\"loss\": torch.abs(loss)})\n",
    "\n",
    "            # if i % 10 == 9: print(torch.abs(loss))\n",
    "            batch_loss.append((torch.abs(loss)).detach().numpy())\n",
    "\n",
    "            # Zero gradients, perform a backward pass, and update the weights.\n",
    "            optimizer.zero_grad()\n",
    "            loss.backward()\n",
    "            optimizer.step(inputs=xb, layers=list(model.children()))\n",
    "\n",
    "        losses.append(sum(batch_loss) / len(batch_loss))\n",
    "        if i % 10 == 9:\n",
    "            print(f\"Epoch {i} loss is {losses[-1]}\")\n",
    "        y_pred = model.predict(X)\n",
    "        scores.append(accuracy(y_pred.squeeze(), y))\n",
    "\n",
    "    return (\n",
    "        losses,\n",
    "        scores,\n",
    "        list_weights,\n",
    "        list_bias,\n",
    "        list_outputs,\n",
    "        list_self_adjusting_learning_rate,\n",
    "    )"
   ]
  },
  {
   "cell_type": "code",
   "execution_count": 13,
   "metadata": {},
   "outputs": [],
   "source": [
    "# model = Model(categories=categories, periodicity=periodicity)\n",
    "# criterion = ComplexMSELoss.apply\n",
    "# optimizer = torch.optim.SGD(model.parameters(), lr=1)\n",
    "categories = 2\n",
    "periodicity = 1\n",
    "\n",
    "model = Model(categories=categories, periodicity=periodicity)\n",
    "criterion = ComplexMSELoss.apply\n",
    "# optimizer = torch.optim.SGD(model.parameters(), lr=1)\n",
    "optimizer = ECL(model.parameters(), lr=1)"
   ]
  },
  {
   "cell_type": "code",
   "execution_count": 14,
   "metadata": {},
   "outputs": [
    {
     "name": "stdout",
     "output_type": "stream",
     "text": [
      "Epoch 9 loss is 0.08542458695925653\n",
      "Epoch 19 loss is 0.06998964440409244\n",
      "Epoch 29 loss is 0.05413325925017511\n",
      "Epoch 39 loss is 0.04792540236866594\n",
      "Epoch 49 loss is 0.05052181809519565\n",
      "Epoch 59 loss is 0.04746973222770766\n",
      "Epoch 69 loss is 0.04235613600457632\n",
      "Epoch 79 loss is 0.03502795134388942\n",
      "Epoch 89 loss is 0.03189377506389075\n",
      "Epoch 99 loss is 0.03223617876889478\n"
     ]
    }
   ],
   "source": [
    "(\n",
    "    losses,\n",
    "    scores,\n",
    "    list_weights,\n",
    "    list_bias,\n",
    "    list_outputs,\n",
    "    list_self_adjusting_learning_rate,\n",
    ") = train(\n",
    "    model,\n",
    "    x_train,\n",
    "    y_train,\n",
    "    epochs=100,\n",
    "    batch_size=538,\n",
    "    optimizer=optimizer,\n",
    "    criterion=criterion,\n",
    "    categories=categories,\n",
    "    periodicity=periodicity,\n",
    ")"
   ]
  },
  {
   "cell_type": "code",
   "execution_count": 15,
   "metadata": {},
   "outputs": [
    {
     "data": {
      "image/png": "[encoded data removed]",
      "text/plain": [
       "<Figure size 1400x400 with 2 Axes>"
      ]
     },
     "metadata": {},
     "output_type": "display_data"
    }
   ],
   "source": [
    "def plot_loss(title, losses, scores):\n",
    "    plt.rcParams[\"axes.grid\"] = True\n",
    "    fig, (ax1, ax2) = plt.subplots(1, 2, figsize=(14, 4))\n",
    "    fig.suptitle(\"CVNN - Autass\")\n",
    "    ax1.plot(np.linspace(1, len(losses), len(losses)), losses)\n",
    "    ax1.set_xlabel(\"Epoch\")\n",
    "    ax1.set_ylabel(\"Loss by Epoch\")\n",
    "    ax1.set_title(\"Loss\")\n",
    "    ax1.set_xlim(0, len(losses))\n",
    "\n",
    "    ax2.plot(np.linspace(1, len(scores), len(scores)), scores)\n",
    "    ax2.set_xlabel(\"Epoch\")\n",
    "    ax2.set_ylabel(\"Loss by Epoch\")\n",
    "    ax2.set_title(\"Loss\")\n",
    "    ax2.set_xlim(0, len(scores))\n",
    "\n",
    "    plt.show()\n",
    "\n",
    "\n",
    "plot_loss(\n",
    "    \"CVNN - Autass\",\n",
    "    losses,\n",
    "    scores,\n",
    ")"
   ]
  },
  {
   "cell_type": "code",
   "execution_count": 16,
   "metadata": {},
   "outputs": [],
   "source": [
    "y_pred = model.predict(x_valid)"
   ]
  },
  {
   "cell_type": "code",
   "execution_count": 17,
   "metadata": {},
   "outputs": [
    {
     "data": {
      "text/plain": [
       "tensor([[0., 0., 0.,  ..., 0., 0., 0.],\n",
       "        [0., 0., 0.,  ..., 1., 0., 0.],\n",
       "        [1., 0., 0.,  ..., 0., 0., 0.],\n",
       "        ...,\n",
       "        [1., 0., 0.,  ..., 0., 0., 0.],\n",
       "        [0., 0., 0.,  ..., 0., 1., 0.],\n",
       "        [0., 0., 0.,  ..., 0., 1., 0.]])"
      ]
     },
     "execution_count": 17,
     "metadata": {},
     "output_type": "execute_result"
    }
   ],
   "source": [
    "y_valid"
   ]
  },
  {
   "cell_type": "code",
   "execution_count": 18,
   "metadata": {},
   "outputs": [
    {
     "data": {
      "text/plain": [
       "tensor([[0., 0., 0.,  ..., 0., 0., 0.],\n",
       "        [0., 0., 0.,  ..., 1., 0., 0.],\n",
       "        [1., 0., 0.,  ..., 0., 0., 0.],\n",
       "        ...,\n",
       "        [1., 0., 0.,  ..., 0., 0., 0.],\n",
       "        [0., 0., 0.,  ..., 0., 1., 0.],\n",
       "        [0., 0., 0.,  ..., 0., 1., 0.]], dtype=torch.float64,\n",
       "       grad_fn=<RemainderBackward0>)"
      ]
     },
     "execution_count": 18,
     "metadata": {},
     "output_type": "execute_result"
    }
   ],
   "source": [
    "y_pred"
   ]
  },
  {
   "cell_type": "code",
   "execution_count": 19,
   "metadata": {},
   "outputs": [
    {
     "data": {
      "text/plain": [
       "0.9640263180381099"
      ]
     },
     "execution_count": 19,
     "metadata": {},
     "output_type": "execute_result"
    }
   ],
   "source": [
    "acc = accuracy(y_pred.squeeze(), y_valid)\n",
    "acc"
   ]
  }
 ],
 "metadata": {
  "kernelspec": {
   "display_name": "Python 3.9.13 ('mlmvn')",
   "language": "python",
   "name": "python3"
  },
  "language_info": {
   "codemirror_mode": {
    "name": "ipython",
    "version": 3
   },
   "file_extension": ".py",
   "mimetype": "text/x-python",
   "name": "python",
   "nbconvert_exporter": "python",
   "pygments_lexer": "ipython3",
   "version": "3.9.13"
  },
  "vscode": {
   "interpreter": {
    "hash": "c568d6a12656118814b96ac3ebcb0c8cd764080d822194fd9cd37091701f0506"
   }
  }
 },
 "nbformat": 4,
 "nbformat_minor": 2
}
