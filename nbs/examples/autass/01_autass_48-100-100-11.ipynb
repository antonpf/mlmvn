{
 "cells": [
  {
   "cell_type": "markdown",
   "metadata": {},
   "source": [
    "# Sensorless Drive Diagnosis\n",
    "\n",
    "> In this example, the main focus is the classification of individual states of a motor."
   ]
  },
  {
   "cell_type": "code",
   "execution_count": null,
   "metadata": {},
   "outputs": [],
   "source": [
    "# |hide\n",
    "from nbdev.showdoc import *"
   ]
  },
  {
   "cell_type": "code",
   "execution_count": null,
   "metadata": {},
   "outputs": [],
   "source": [
    "# | hide\n",
    "import torch\n",
    "import torch.nn as nn\n",
    "import numpy as np\n",
    "import pandas as pd\n",
    "import copy\n",
    "\n",
    "# from mlflow import log_metric, log_param, log_artifacts\n",
    "from sklearn.metrics import classification_report\n",
    "from sklearn.metrics import confusion_matrix\n",
    "from sklearn.model_selection import train_test_split\n",
    "from sklearn.preprocessing import StandardScaler\n",
    "from sklearn.model_selection import train_test_split, StratifiedShuffleSplit\n",
    "from matplotlib import pyplot as plt\n",
    "import seaborn as sns\n",
    "\n",
    "from mlmvn.layers import FirstLayer, HiddenLayer, OutputLayer, cmplx_phase_activation\n",
    "from mlmvn.loss import ComplexMSELoss\n",
    "from mlmvn.optim import MySGD, ECL\n",
    "\n",
    "import wandb"
   ]
  },
  {
   "cell_type": "code",
   "execution_count": null,
   "metadata": {},
   "outputs": [
    {
     "name": "stderr",
     "output_type": "stream",
     "text": [
      "Failed to detect the name of this notebook, you can set it manually with the WANDB_NOTEBOOK_NAME environment variable to enable code saving.\n",
      "\u001b[34m\u001b[1mwandb\u001b[0m: Currently logged in as: \u001b[33mantonpf\u001b[0m. Use \u001b[1m`wandb login --relogin`\u001b[0m to force relogin\n"
     ]
    },
    {
     "data": {
      "text/plain": [
       "True"
      ]
     },
     "execution_count": null,
     "metadata": {},
     "output_type": "execute_result"
    }
   ],
   "source": [
    "wandb.login()"
   ]
  },
  {
   "cell_type": "code",
   "execution_count": null,
   "metadata": {},
   "outputs": [],
   "source": [
    "# | hide\n",
    "# --- helper functions ---\n",
    "def reverse_one_hot(x, neuronCats):\n",
    "    a = np.zeros(len(x))\n",
    "    x = torch.detach(x)\n",
    "    for i in range(len(x)):\n",
    "        a[i] = torch.max(x[i]) - 1 + np.argmax(x[i]) * neuronCats\n",
    "    return a\n",
    "\n",
    "\n",
    "def accuracy(out, yb):\n",
    "    out = out.type(torch.double)\n",
    "    yb = yb.type(torch.double)\n",
    "    x = 0\n",
    "    for i in range(len(out)):\n",
    "        x += torch.equal(out[i], yb[i])\n",
    "    return x / len(out)\n",
    "\n",
    "\n",
    "def prepare_data(x_train, x_valid, y_train, y_valid, neuronCats):\n",
    "    # one-hot encoding\n",
    "    numSamples, numFeatures = x_valid.shape\n",
    "    y_valid_int = y_valid\n",
    "    y2 = y_valid + 1  # auxiliary variable so that classes start at 1 and not 0\n",
    "    numClasses = max(y2)\n",
    "    target_ids = range(numClasses)\n",
    "    no = int(np.ceil(numClasses / neuronCats))  # number of output neurons\n",
    "    if no != 1:\n",
    "        y_valid = torch.zeros(numSamples, no)\n",
    "        for i in range(numSamples):\n",
    "            k = int(np.ceil(y2[i] / neuronCats)) - 1\n",
    "            c = np.mod((y2[i] - 1), neuronCats) + 1\n",
    "            y_valid[i, k] = c\n",
    "    numSamples, numFeatures = x_train.shape\n",
    "    y_train_int = y_train\n",
    "    y2 = y_train + 1  # auxiliary variable so that classes start at 1 and not 0\n",
    "    if no != 1:\n",
    "        y_train = torch.zeros(numSamples, no)\n",
    "        for i in range(numSamples):\n",
    "            k = int(np.ceil(y2[i] / neuronCats)) - 1\n",
    "            c = np.mod((y2[i] - 1), neuronCats) + 1\n",
    "            y_train[i, k] = c\n",
    "    del y2\n",
    "\n",
    "    # Convert numpy arrays into torch tensors\n",
    "    x_train, y_train, x_valid, y_valid = map(\n",
    "        torch.tensor, (x_train, y_train, x_valid, y_valid)\n",
    "    )\n",
    "    if y_train.size().__len__() == 1:\n",
    "        y_train = torch.unsqueeze(y_train, 1)\n",
    "        y_valid = torch.unsqueeze(y_valid, 1)\n",
    "\n",
    "    # convert angles to complex numbers on unit-circle\n",
    "    x_train = torch.exp(1.0j * x_train)\n",
    "    x_valid = torch.exp(1.0j * x_valid)\n",
    "\n",
    "    return x_train, x_valid, y_train, y_valid\n",
    "\n",
    "\n",
    "def get_splitted_data(X, y, neuronCats):\n",
    "    x_train, x_valid, y_train, y_valid = train_test_split(\n",
    "        X, y, train_size=46806, random_state=42\n",
    "    )\n",
    "    x_train, x_valid, y_train, y_valid = prepare_data(\n",
    "        x_train, x_valid, y_train, y_valid, neuronCats\n",
    "    )\n",
    "\n",
    "    return x_train, x_valid, y_train, y_valid\n",
    "\n",
    "\n",
    "def get_splitted_data_by_index(X, y, neuronCats, train_index, test_index):\n",
    "    x_train, x_valid = X[train_index], X[test_index]\n",
    "    y_train, y_valid = y[train_index], y[test_index]\n",
    "    x_train, x_valid, y_train, y_valid = prepare_data(\n",
    "        x_train, x_valid, y_train, y_valid, neuronCats\n",
    "    )\n",
    "    return x_train, x_valid, y_train, y_valid\n",
    "\n",
    "\n",
    "# --- Plots ---\n",
    "def plot_loss(title, losses, scores):\n",
    "    plt.rcParams[\"axes.grid\"] = True\n",
    "    fig, (ax1) = plt.subplots(1, 1, figsize=(8, 4))\n",
    "    fig.suptitle(\"CVNN - Moons\")\n",
    "    ax1.plot(np.linspace(1, len(losses), len(losses)), losses)\n",
    "    ax1.set_xlabel(\"Epoch\")\n",
    "    ax1.set_xlim(0, len(losses))\n",
    "\n",
    "    ax1.plot(np.linspace(1, len(scores), len(scores)), scores)\n",
    "    ax1.set_xlabel(\"Epoch\")\n",
    "    ax1.set_xlim(0, len(losses))\n",
    "\n",
    "    ax1.legend([\"Acc\", \"Loss\"])\n",
    "\n",
    "    plt.show()\n",
    "\n",
    "\n",
    "def plot_weights(title, ylabel_1, ylabel_2, weights_real, weights_imag):\n",
    "    # y_min = np.min([np.min(weights_real), np.min(weights_imag)])\n",
    "    # y_max = np.max([np.max(weights_real), np.max(weights_imag)])\n",
    "\n",
    "    fig, ax = plt.subplots(ncols=2, nrows=1, figsize=(14, 3))\n",
    "    fig.suptitle(title)\n",
    "    ax[0].plot(np.linspace(1, len(weights_real), len(weights_real)), weights_real)\n",
    "    ax[0].set_xlabel(\"Step\")\n",
    "    ax[0].set_ylabel(ylabel_1)\n",
    "    # ax[0].set_title(\"Real Valued Weigts\")\n",
    "    ax[0].set_xlim(0, len(weights_real))\n",
    "    # ax[0].set_ylim(y_min, y_max)\n",
    "\n",
    "    ax[1].plot(np.linspace(1, len(weights_imag), len(weights_imag)), weights_imag)\n",
    "    ax[1].set_xlabel(\"Step\")\n",
    "    ax[1].set_ylabel(ylabel_2)\n",
    "    # ax[1].set_title(\"Imaginary Valued Weights\")\n",
    "    ax[1].set_xlim(0, len(weights_imag))\n",
    "    # ax[1].set_ylim(y_min, y_max)\n",
    "\n",
    "    plt.show()\n",
    "\n",
    "\n",
    "# --- Logging ---\n",
    "model_dict: dict = {}\n",
    "\n",
    "\n",
    "def fc_hook(layer_name, module, grad_input, grad_output):\n",
    "    if layer_name in model_dict:\n",
    "        model_dict[layer_name][\"weights\"].append(module.weights.detach().clone())\n",
    "        model_dict[layer_name][\"bias\"].append(module.bias.detach().clone())\n",
    "        model_dict[layer_name][\"grad_input\"].append(grad_input)\n",
    "        model_dict[layer_name][\"grad_output\"].append(grad_output)\n",
    "    else:\n",
    "        model_dict[layer_name] = {}\n",
    "        model_dict[layer_name][\"weights\"] = []\n",
    "        model_dict[layer_name][\"weights\"].append(module.weights.detach().clone())\n",
    "        model_dict[layer_name][\"bias\"] = []\n",
    "        model_dict[layer_name][\"bias\"].append(module.bias.detach().clone())\n",
    "        model_dict[layer_name][\"grad_input\"] = []\n",
    "        model_dict[layer_name][\"grad_input\"].append(grad_input)\n",
    "        model_dict[layer_name][\"grad_output\"] = []\n",
    "        model_dict[layer_name][\"grad_output\"].append(grad_output)"
   ]
  },
  {
   "cell_type": "code",
   "execution_count": null,
   "metadata": {},
   "outputs": [],
   "source": [
    "# | hide\n",
    "# control variables\n",
    "# number of categories a neuron can distinguish / parameter that determines the number of output neurons\n",
    "neuronCats = 1\n",
    "# number of categories per neuron, i.e. neuronCats (+ 1 for others in case of multiple Outputs)\n",
    "categories = 2\n",
    "# how often a classification sector occurs (1 means no periodicity)\n",
    "periodicity = 1\n",
    "# path to store best model parameters\n",
    "PATH = \"/home/antonpfeifer/Documents/mlmvn/nbs/examples/autass/models/autass-mlmvn_48-100-100-11.pt\""
   ]
  },
  {
   "cell_type": "markdown",
   "metadata": {},
   "source": [
    "## Load Data"
   ]
  },
  {
   "cell_type": "code",
   "execution_count": null,
   "metadata": {},
   "outputs": [],
   "source": [
    "train_csv = pd.read_csv(\n",
    "    \"data/autass_data2.csv\",\n",
    "    header=None,\n",
    "    dtype=np.double,\n",
    ")\n",
    "data = np.array(train_csv.values[:, 1:50])\n",
    "del train_csv"
   ]
  },
  {
   "cell_type": "code",
   "execution_count": null,
   "metadata": {},
   "outputs": [],
   "source": [
    "X = data[:, 0:48]\n",
    "y = data[:, 48].astype(int) - 1\n",
    "\n",
    "yt = copy.copy(y)\n",
    "yt[yt == 0] = 20\n",
    "yt[yt == 1] = 21\n",
    "yt[yt == 2] = 22\n",
    "yt[yt == 3] = 23\n",
    "yt[yt == 4] = 26\n",
    "yt[yt == 5] = 24\n",
    "yt[yt == 6] = 27\n",
    "yt[yt == 7] = 29\n",
    "yt[yt == 8] = 30\n",
    "yt[yt == 9] = 25\n",
    "yt[yt == 10] = 28\n",
    "yt -= 20\n",
    "y = yt\n",
    "del yt"
   ]
  },
  {
   "cell_type": "markdown",
   "metadata": {},
   "source": [
    "## Model"
   ]
  },
  {
   "cell_type": "code",
   "execution_count": null,
   "metadata": {},
   "outputs": [],
   "source": [
    "class Model(nn.Module):\n",
    "    def __init__(self, categories, periodicity):\n",
    "        super().__init__()\n",
    "        self.categories = categories\n",
    "        self.periodicity = periodicity\n",
    "        self.first_linear = FirstLayer(48, 100)\n",
    "        self.phase_act1 = cmplx_phase_activation()\n",
    "        self.linear_hidden = HiddenLayer(100, 100)\n",
    "        self.phase_act2 = cmplx_phase_activation()\n",
    "        self.linear_out = OutputLayer(100, 11)\n",
    "        self.phase_act3 = cmplx_phase_activation()\n",
    "        # # Hooks\n",
    "        # self.first_layer_hook_handle = self.first_linear.register_full_backward_hook(\n",
    "        #     self.first_layer_backward_hook\n",
    "        # )\n",
    "        # self.hidden_hook_handle = self.linear_hidden.register_full_backward_hook(\n",
    "        #     self.hidden_layer_backward_hook\n",
    "        # )\n",
    "        # self.output_hook_handle = self.linear_out.register_full_backward_hook(\n",
    "        #     self.output_layer_backward_hook\n",
    "        # )\n",
    "\n",
    "    def forward(self, x):\n",
    "        x = self.first_linear(x)\n",
    "        x = self.phase_act1(x)\n",
    "        x = self.linear_hidden(x)\n",
    "        x = self.phase_act2(x)\n",
    "        x = self.linear_out(x)\n",
    "        x = self.phase_act3(x)\n",
    "        return x\n",
    "\n",
    "    def first_layer_backward_hook(self, module, grad_input, grad_output):\n",
    "        fc_hook(\"first_layer\", module, grad_input, grad_output)\n",
    "\n",
    "    def hidden_layer_backward_hook(self, module, grad_input, grad_output):\n",
    "        fc_hook(\"hidden_layer\", module, grad_input, grad_output)\n",
    "\n",
    "    def output_layer_backward_hook(self, module, grad_input, grad_output):\n",
    "        fc_hook(\"output_layer\", module, grad_input, grad_output)\n",
    "\n",
    "    def angle2class(self, x: torch.tensor) -> torch.tensor:\n",
    "        tmp = x.angle() + 2 * np.pi\n",
    "        angle = torch.remainder(tmp, 2 * np.pi)\n",
    "\n",
    "        # This will be the discrete output (the number of sector)\n",
    "        o = torch.floor(self.categories * self.periodicity * angle / (2 * np.pi))\n",
    "        return torch.remainder(o, self.categories)\n",
    "\n",
    "    def predict(self, x):\n",
    "        \"\"\"\n",
    "        Performs the prediction task of the network\n",
    "\n",
    "        Args:\n",
    "          x: torch.Tensor\n",
    "            Input tensor of size ([3])\n",
    "\n",
    "        Returns:\n",
    "          Most likely class i.e., Label with the highest score\n",
    "        \"\"\"\n",
    "        # Pass the data through the networks\n",
    "        output = self.forward(x)\n",
    "\n",
    "        # # Choose the label with the highest score\n",
    "        # return torch.argmax(output, 1)\n",
    "        return self.angle2class(output)\n",
    "\n",
    "\n",
    "def fit(model, X, y, epochs, batch_size, optimizer, criterion, categories, periodicity):\n",
    "    # List of losses for visualization\n",
    "    losses = []\n",
    "    scores = []\n",
    "    acc_best = 0\n",
    "\n",
    "    # start a new experiment\n",
    "    wandb.init(project=\"SDD-mlmvn\", entity=\"antonpf\")\n",
    "\n",
    "    #  capture a dictionary of hyperparameters with config\n",
    "    wandb.config = {\n",
    "        \"learning_rate\": 1,\n",
    "        \"epochs\": epochs,\n",
    "        \"batch_size\": batch_size,\n",
    "        \"optim\": \"ECL\",\n",
    "        \"categories\": categories,\n",
    "        \"periodicity\": periodicity,\n",
    "        \"layer\": \"[48-100-100-11]\",\n",
    "    }\n",
    "\n",
    "    for i in range(epochs):\n",
    "        # Pass the data through the network and compute the loss\n",
    "        # We'll use the whole dataset during the training instead of using batches\n",
    "        # in to order to keep the code simple for now.\n",
    "\n",
    "        batch_loss = []\n",
    "\n",
    "        for j in range((X.shape[0] - 1) // batch_size + 1):\n",
    "            start_j = j * batch_size\n",
    "            end_j = start_j + batch_size\n",
    "            xb = X[start_j:end_j]\n",
    "            yb = y[start_j:end_j]\n",
    "\n",
    "            y_pred = model(xb)\n",
    "            loss = criterion(y_pred, yb, categories, periodicity)\n",
    "            batch_loss.append((torch.abs(loss)).detach().numpy())\n",
    "\n",
    "            optimizer.zero_grad()\n",
    "            loss.backward()\n",
    "            optimizer.step(inputs=xb, layers=list(model.children()))\n",
    "\n",
    "        losses.append(sum(batch_loss) / len(batch_loss))\n",
    "        if i % 10 == 9:\n",
    "            print(f\"Epoch {i} loss is {losses[-1]}\")\n",
    "        y_pred = model.predict(X)\n",
    "        scores.append(accuracy(y_pred.squeeze(), y))\n",
    "\n",
    "        log_dict = {\n",
    "            \"loss\": torch.tensor(losses[-1]),\n",
    "            \"acc\": torch.tensor(scores[-1]),\n",
    "        }\n",
    "        wandb.log(log_dict)\n",
    "\n",
    "        # for key in model_dict:\n",
    "        #     for key_layer in model_dict[key]:\n",
    "        #         if key_layer in [\"weights\", \"bias\"]:\n",
    "        #             log_label = str(key) + \"_\" + str(key_layer)\n",
    "        #             log_label.replace(\" \", \"\")\n",
    "        #             wandb.log(\n",
    "        #                 {\n",
    "        #                     log_label\n",
    "        #                     + \"_real\": wandb.Histogram(\n",
    "        #                         model_dict[key][key_layer][-1].real\n",
    "        #                     ),\n",
    "        #                     log_label\n",
    "        #                     + \"_imag\": wandb.Histogram(\n",
    "        #                         model_dict[key][key_layer][-1].imag\n",
    "        #                     ),\n",
    "        #                     log_label\n",
    "        #                     + \"_mag\": torch.abs(model_dict[key][key_layer][-1]),\n",
    "        #                     log_label\n",
    "        #                     + \"_angle\": torch.angle(model_dict[key][key_layer][-1]),\n",
    "        #                 }\n",
    "        #             )\n",
    "\n",
    "        if scores[-1] > acc_best:\n",
    "            acc_best = scores[-1]\n",
    "            torch.save(model.state_dict(), PATH)\n",
    "\n",
    "    return losses, scores"
   ]
  },
  {
   "cell_type": "code",
   "execution_count": null,
   "metadata": {},
   "outputs": [],
   "source": [
    "model = Model(categories=categories, periodicity=periodicity)\n",
    "epochs = 200\n",
    "batch_size = 538\n",
    "lr = 1\n",
    "criterion = ComplexMSELoss.apply\n",
    "optimizer = ECL(model.parameters(), lr=lr)"
   ]
  },
  {
   "cell_type": "code",
   "execution_count": null,
   "metadata": {},
   "outputs": [
    {
     "name": "stderr",
     "output_type": "stream",
     "text": [
      "/tmp/ipykernel_19351/3139655883.py:46: UserWarning: To copy construct from a tensor, it is recommended to use sourceTensor.clone().detach() or sourceTensor.clone().detach().requires_grad_(True), rather than torch.tensor(sourceTensor).\n",
      "  x_train, y_train, x_valid, y_valid = map(\n"
     ]
    },
    {
     "data": {
      "text/html": [
       "wandb version 0.13.3 is available!  To upgrade, please run:\n",
       " $ pip install wandb --upgrade"
      ],
      "text/plain": [
       "<IPython.core.display.HTML object>"
      ]
     },
     "metadata": {},
     "output_type": "display_data"
    },
    {
     "data": {
      "text/html": [
       "Tracking run with wandb version 0.13.1"
      ],
      "text/plain": [
       "<IPython.core.display.HTML object>"
      ]
     },
     "metadata": {},
     "output_type": "display_data"
    },
    {
     "data": {
      "text/html": [
       "Run data is saved locally in <code>/home/antonpfeifer/Documents/mlmvn/nbs/examples/autass/wandb/run-20220913_162226-2rzpp3qk</code>"
      ],
      "text/plain": [
       "<IPython.core.display.HTML object>"
      ]
     },
     "metadata": {},
     "output_type": "display_data"
    },
    {
     "data": {
      "text/html": [
       "Syncing run <strong><a href=\"https://wandb.ai/antonpf/SDD-mlmvn/runs/2rzpp3qk\" target=\"_blank\">worthy-armadillo-5</a></strong> to <a href=\"https://wandb.ai/antonpf/SDD-mlmvn\" target=\"_blank\">Weights & Biases</a> (<a href=\"https://wandb.me/run\" target=\"_blank\">docs</a>)<br/>"
      ],
      "text/plain": [
       "<IPython.core.display.HTML object>"
      ]
     },
     "metadata": {},
     "output_type": "display_data"
    },
    {
     "name": "stdout",
     "output_type": "stream",
     "text": [
      "Epoch 9 loss is 0.17714069397515003\n",
      "Epoch 19 loss is 0.1076765790476502\n",
      "Epoch 29 loss is 0.11679937599503104\n",
      "Epoch 39 loss is 0.10970274023853611\n",
      "Epoch 49 loss is 0.11591797384705302\n",
      "Epoch 59 loss is 0.15452203518020574\n",
      "Epoch 69 loss is 0.22985131524722105\n",
      "Epoch 79 loss is 0.23364070163387785\n",
      "Epoch 89 loss is 0.24446913291539146\n",
      "Epoch 99 loss is 0.24804885367559937\n",
      "Epoch 109 loss is 0.2513044281722091\n",
      "Epoch 119 loss is 0.22793165361522089\n",
      "Epoch 129 loss is 0.21631879442933652\n",
      "Epoch 139 loss is 0.2096489138194796\n",
      "Epoch 149 loss is 0.2210406544902411\n",
      "Epoch 159 loss is 0.221399182574426\n",
      "Epoch 169 loss is 0.2010340941763731\n",
      "Epoch 179 loss is 0.18405739747913286\n",
      "Epoch 189 loss is 0.18122284966829147\n",
      "Epoch 199 loss is 0.1826200454568166\n"
     ]
    },
    {
     "data": {
      "image/png": "[encoded data removed]",
      "text/plain": [
       "<Figure size 800x400 with 1 Axes>"
      ]
     },
     "metadata": {},
     "output_type": "display_data"
    },
    {
     "name": "stdout",
     "output_type": "stream",
     "text": [
      "Train Acc.:  0.8973208563004743\n",
      "Val Acc.:  0.8843886183029992\n",
      "              precision    recall  f1-score   support\n",
      "\n",
      "           0       0.96      0.93      0.95      1074\n",
      "           1       0.88      0.85      0.87      1089\n",
      "           2       0.98      0.95      0.96      1044\n",
      "           3       0.97      0.96      0.96      1048\n",
      "           4       0.89      0.86      0.88      1057\n",
      "           5       0.88      0.88      0.88      1072\n",
      "           6       0.90      0.83      0.86      1066\n",
      "           7       1.00      0.99      1.00      1103\n",
      "           8       1.00      1.00      1.00      1108\n",
      "           9       0.90      0.90      0.90      1030\n",
      "          10       0.98      0.95      0.97      1012\n",
      "\n",
      "   micro avg       0.94      0.92      0.93     11703\n",
      "   macro avg       0.94      0.92      0.93     11703\n",
      "weighted avg       0.94      0.92      0.93     11703\n",
      " samples avg       0.90      0.92      0.91     11703\n",
      "\n"
     ]
    }
   ],
   "source": [
    "x_train, x_valid, y_train, y_valid = get_splitted_data(X, y, neuronCats)\n",
    "\n",
    "losses, scores = fit(\n",
    "    model,\n",
    "    x_train,\n",
    "    y_train,\n",
    "    epochs=epochs,\n",
    "    batch_size=batch_size,\n",
    "    optimizer=optimizer,\n",
    "    criterion=criterion,\n",
    "    categories=categories,\n",
    "    periodicity=periodicity,\n",
    ")\n",
    "\n",
    "model.load_state_dict(torch.load(PATH))\n",
    "\n",
    "plot_loss(\n",
    "    \"CVNN - Autass\",\n",
    "    losses,\n",
    "    scores,\n",
    ")\n",
    "\n",
    "y_pred = model.predict(x_train)\n",
    "acc = accuracy(y_pred.squeeze(), y_train)\n",
    "print(\"Train Acc.: \", acc)\n",
    "\n",
    "y_pred = model.predict(x_valid)\n",
    "acc = accuracy(y_pred.squeeze(), y_valid)\n",
    "print(\"Val Acc.: \", acc)\n",
    "\n",
    "print(classification_report(y_valid, y_pred.detach().numpy(), zero_division=0))"
   ]
  },
  {
   "cell_type": "code",
   "execution_count": null,
   "metadata": {},
   "outputs": [
    {
     "name": "stderr",
     "output_type": "stream",
     "text": [
      "/tmp/ipykernel_188026/1602644682.py:44: UserWarning: To copy construct from a tensor, it is recommended to use sourceTensor.clone().detach() or sourceTensor.clone().detach().requires_grad_(True), rather than torch.tensor(sourceTensor).\n",
      "  x_train, y_train, x_valid, y_valid = map(\n"
     ]
    },
    {
     "data": {
      "text/html": [
       "wandb version 0.13.3 is available!  To upgrade, please run:\n",
       " $ pip install wandb --upgrade"
      ],
      "text/plain": [
       "<IPython.core.display.HTML object>"
      ]
     },
     "metadata": {},
     "output_type": "display_data"
    },
    {
     "data": {
      "text/html": [
       "Tracking run with wandb version 0.13.1"
      ],
      "text/plain": [
       "<IPython.core.display.HTML object>"
      ]
     },
     "metadata": {},
     "output_type": "display_data"
    },
    {
     "data": {
      "text/html": [
       "Run data is saved locally in <code>/run/media/antonp/Daten/Dev/mlmvn_pytorch/mlmvn/nbs/examples/autass/wandb/run-20220913_140208-3gh3jgqu</code>"
      ],
      "text/plain": [
       "<IPython.core.display.HTML object>"
      ]
     },
     "metadata": {},
     "output_type": "display_data"
    },
    {
     "data": {
      "text/html": [
       "Syncing run <strong><a href=\"https://wandb.ai/antonpf/SDD-mlmvn/runs/3gh3jgqu\" target=\"_blank\">resilient-universe-2</a></strong> to <a href=\"https://wandb.ai/antonpf/SDD-mlmvn\" target=\"_blank\">Weights & Biases</a> (<a href=\"https://wandb.me/run\" target=\"_blank\">docs</a>)<br/>"
      ],
      "text/plain": [
       "<IPython.core.display.HTML object>"
      ]
     },
     "metadata": {},
     "output_type": "display_data"
    },
    {
     "name": "stdout",
     "output_type": "stream",
     "text": [
      "Epoch 9 loss is 0.10144539033235152\n",
      "Epoch 19 loss is 0.0679025598619397\n",
      "Epoch 29 loss is 0.05832453244921018\n",
      "Epoch 39 loss is 0.05330274653409411\n",
      "Epoch 49 loss is 0.05319324370316005\n",
      "Epoch 59 loss is 0.044635720249053906\n",
      "Epoch 69 loss is 0.043026019504023814\n",
      "Epoch 79 loss is 0.04028874306022859\n",
      "Epoch 89 loss is 0.04095585907247847\n",
      "Epoch 99 loss is 0.04000913598848863\n",
      "Epoch 109 loss is 0.028132917843380293\n",
      "Epoch 119 loss is 0.05133809219547272\n",
      "Epoch 129 loss is 0.02603198195086114\n",
      "Epoch 139 loss is 0.027299120611501294\n",
      "Epoch 149 loss is 0.02876049258186353\n",
      "Epoch 159 loss is 0.029775431600440307\n",
      "Epoch 169 loss is 0.031261582040874064\n",
      "Epoch 179 loss is 0.031197979172097764\n",
      "Epoch 189 loss is 0.024516412289404585\n",
      "Epoch 199 loss is 0.02427502322165331\n"
     ]
    },
    {
     "data": {
      "image/png": "[encoded data removed]",
      "text/plain": [
       "<Figure size 800x400 with 1 Axes>"
      ]
     },
     "metadata": {},
     "output_type": "display_data"
    },
    {
     "name": "stdout",
     "output_type": "stream",
     "text": [
      "Train Acc.:  0.9843185848270558\n",
      "Val Acc.:  0.9712869594941036\n",
      "              precision    recall  f1-score   support\n",
      "\n",
      "           0       0.99      0.98      0.98      1063\n",
      "           1       0.97      0.96      0.96      1064\n",
      "           2       1.00      0.99      0.99      1064\n",
      "           3       1.00      0.99      0.99      1064\n",
      "           4       0.97      0.97      0.97      1064\n",
      "           5       0.97      0.96      0.97      1063\n",
      "           6       0.97      0.95      0.96      1064\n",
      "           7       1.00      1.00      1.00      1064\n",
      "           8       1.00      1.00      1.00      1064\n",
      "           9       0.98      0.96      0.97      1064\n",
      "          10       0.99      0.98      0.98      1064\n",
      "\n",
      "   micro avg       0.98      0.98      0.98     11702\n",
      "   macro avg       0.98      0.98      0.98     11702\n",
      "weighted avg       0.98      0.98      0.98     11702\n",
      " samples avg       0.97      0.98      0.98     11702\n",
      "\n"
     ]
    },
    {
     "name": "stderr",
     "output_type": "stream",
     "text": [
      "/tmp/ipykernel_188026/1602644682.py:44: UserWarning: To copy construct from a tensor, it is recommended to use sourceTensor.clone().detach() or sourceTensor.clone().detach().requires_grad_(True), rather than torch.tensor(sourceTensor).\n",
      "  x_train, y_train, x_valid, y_valid = map(\n"
     ]
    },
    {
     "data": {
      "text/html": [
       "Finishing last run (ID:3gh3jgqu) before initializing another..."
      ],
      "text/plain": [
       "<IPython.core.display.HTML object>"
      ]
     },
     "metadata": {},
     "output_type": "display_data"
    },
    {
     "data": {
      "text/html": [
       "Waiting for W&B process to finish... <strong style=\"color:green\">(success).</strong>"
      ],
      "text/plain": [
       "<IPython.core.display.HTML object>"
      ]
     },
     "metadata": {},
     "output_type": "display_data"
    },
    {
     "data": {
      "application/vnd.jupyter.widget-view+json": {
       "model_id": "0e9641f5a00b466b820c3bf7677b9834",
       "version_major": 2,
       "version_minor": 0
      },
      "text/plain": [
       "VBox(children=(Label(value='0.001 MB of 0.001 MB uploaded (0.000 MB deduped)\\r'), FloatProgress(value=1.0, max…"
      ]
     },
     "metadata": {},
     "output_type": "display_data"
    },
    {
     "ename": "",
     "evalue": "",
     "output_type": "error",
     "traceback": [
      "\u001b[1;31mCanceled future for execute_request message before replies were done"
     ]
    },
    {
     "ename": "",
     "evalue": "",
     "output_type": "error",
     "traceback": [
      "\u001b[1;31mThe Kernel crashed while executing code in the the current cell or a previous cell. Please review the code in the cell(s) to identify a possible cause of the failure. Click <a href='https://aka.ms/vscodeJupyterKernelCrash'>here</a> for more info. View Jupyter <a href='command:jupyter.viewOutput'>log</a> for further details."
     ]
    }
   ],
   "source": [
    "sss = StratifiedShuffleSplit(n_splits=5, test_size=0.2, random_state=42)\n",
    "list_acc = []\n",
    "list_loss = []\n",
    "\n",
    "for train_index, test_index in sss.split(X, y):\n",
    "    model_dict: dict = {}\n",
    "    x_train, x_valid, y_train, y_valid = get_splitted_data_by_index(\n",
    "        X, y, neuronCats, train_index, test_index\n",
    "    )\n",
    "    losses, scores = fit(\n",
    "        model,\n",
    "        x_train,\n",
    "        y_train,\n",
    "        epochs=epochs,\n",
    "        batch_size=batch_size,\n",
    "        optimizer=optimizer,\n",
    "        criterion=criterion,\n",
    "        categories=categories,\n",
    "        periodicity=periodicity,\n",
    "    )\n",
    "\n",
    "    model.load_state_dict(torch.load(PATH))\n",
    "\n",
    "    plot_loss(\n",
    "        \"CVNN - Autass\",\n",
    "        losses,\n",
    "        scores,\n",
    "    )\n",
    "\n",
    "    list_acc.append(scores)\n",
    "    list_loss.append(losses)\n",
    "\n",
    "    y_pred = model.predict(x_train)\n",
    "    acc = accuracy(y_pred.squeeze(), y_train)\n",
    "    print(\"Train Acc.: \", acc)\n",
    "\n",
    "    y_pred = model.predict(x_valid)\n",
    "    acc = accuracy(y_pred.squeeze(), y_valid)\n",
    "    print(\"Val Acc.: \", acc)\n",
    "\n",
    "    print(classification_report(y_valid, y_pred.detach().numpy(), zero_division=0))"
   ]
  },
  {
   "cell_type": "markdown",
   "metadata": {},
   "source": [
    "## Plot Model Weights"
   ]
  },
  {
   "cell_type": "code",
   "execution_count": null,
   "metadata": {},
   "outputs": [],
   "source": [
    "# for key in model_dict:\n",
    "#     print(key)\n",
    "#     list_weights = model_dict[key][\"weights\"]\n",
    "#     list_bias = model_dict[key][\"bias\"]\n",
    "\n",
    "#     weights = []\n",
    "#     biases = []\n",
    "#     for weight, bias in zip(list_weights, list_bias):\n",
    "#         # test = list_weights[0][0].flatten() + list_weights[0][1].flatten()\n",
    "#         weights.append(np.concatenate([weight.flatten()]))\n",
    "#         biases.append(np.concatenate([bias.flatten()]))\n",
    "\n",
    "#     weights_real = np.real(weights)\n",
    "#     weights_imag = np.imag(weights)\n",
    "\n",
    "#     weights_mag = np.abs(weights)\n",
    "#     weights_angle = np.angle(weights)\n",
    "\n",
    "#     bias_real = np.real(biases)\n",
    "#     bias_imag = np.imag(biases)\n",
    "\n",
    "#     bias_mag = np.abs(biases)\n",
    "#     bias_angle = np.angle(biases)\n",
    "\n",
    "#     plot_weights(str(key)+\" weights\", \"Weights [Re]\", \"Weigths [Imag]\", weights_real, weights_imag)\n",
    "#     plot_weights(str(key)+\" bias\", \"Bias [Re]\", \"Bias [Imag]\", bias_real, bias_imag)\n",
    "#     plot_weights(str(key)+\" bias\", \"Bias [Re]\", \"Bias [Imag]\", weights_mag, weights_angle)\n",
    "#     plot_weights(str(key)+\" bias\", \"Bias [Re]\", \"Bias [Imag]\", bias_mag, bias_angle)"
   ]
  }
 ],
 "metadata": {
  "kernelspec": {
   "display_name": "Python 3.9.13 ('mlmvn')",
   "language": "python",
   "name": "python3"
  }
 },
 "nbformat": 4,
 "nbformat_minor": 2
}
