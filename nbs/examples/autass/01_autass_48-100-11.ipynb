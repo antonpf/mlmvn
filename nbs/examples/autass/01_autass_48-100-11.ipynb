{
 "cells": [
  {
   "cell_type": "markdown",
   "metadata": {},
   "source": [
    "# Sensorless Drive Diagnosis\n",
    "\n",
    "> In this example, the main focus is the classification of individual states of a motor."
   ]
  },
  {
   "cell_type": "code",
   "execution_count": null,
   "metadata": {},
   "outputs": [],
   "source": [
    "# |hide\n",
    "from nbdev.showdoc import *"
   ]
  },
  {
   "cell_type": "code",
   "execution_count": null,
   "metadata": {},
   "outputs": [],
   "source": [
    "# | hide\n",
    "import torch\n",
    "import torch.nn as nn\n",
    "import numpy as np\n",
    "import pandas as pd\n",
    "import copy\n",
    "\n",
    "# from mlflow import log_metric, log_param, log_artifacts\n",
    "from sklearn.metrics import classification_report\n",
    "from sklearn.metrics import confusion_matrix\n",
    "from sklearn.model_selection import train_test_split\n",
    "from sklearn.preprocessing import StandardScaler\n",
    "from sklearn.model_selection import train_test_split, StratifiedShuffleSplit\n",
    "from matplotlib import pyplot as plt\n",
    "import seaborn as sns\n",
    "\n",
    "from mlmvn.layers import FirstLayer, HiddenLayer, OutputLayer, cmplx_phase_activation\n",
    "from mlmvn.loss import ComplexMSELoss\n",
    "from mlmvn.optim import MySGD, ECL\n",
    "\n",
    "import wandb"
   ]
  },
  {
   "cell_type": "code",
   "execution_count": null,
   "metadata": {},
   "outputs": [
    {
     "name": "stderr",
     "output_type": "stream",
     "text": [
      "\u001b[34m\u001b[1mwandb\u001b[0m: Currently logged in as: \u001b[33mantonpf\u001b[0m. Use \u001b[1m`wandb login --relogin`\u001b[0m to force relogin\n"
     ]
    },
    {
     "data": {
      "text/plain": [
       "True"
      ]
     },
     "execution_count": null,
     "metadata": {},
     "output_type": "execute_result"
    }
   ],
   "source": [
    "wandb.login()"
   ]
  },
  {
   "cell_type": "code",
   "execution_count": null,
   "metadata": {},
   "outputs": [],
   "source": [
    "# | hide\n",
    "# --- helper functions ---\n",
    "def reverse_one_hot(x, neuronCats):\n",
    "    a = np.zeros(len(x))\n",
    "    x = torch.detach(x)\n",
    "    for i in range(len(x)):\n",
    "        a[i] = torch.max(x[i]) - 1 + np.argmax(x[i]) * neuronCats\n",
    "    return a\n",
    "\n",
    "\n",
    "def accuracy(out, yb):\n",
    "    out = out.type(torch.double)\n",
    "    yb = yb.type(torch.double)\n",
    "    x = 0\n",
    "    for i in range(len(out)):\n",
    "        x += torch.equal(out[i], yb[i])\n",
    "    return x / len(out)\n",
    "\n",
    "\n",
    "def prepare_data(x_train, x_valid, y_train, y_valid, neuronCats):\n",
    "    # one-hot encoding\n",
    "    numSamples, numFeatures = x_valid.shape\n",
    "    y_valid_int = y_valid\n",
    "    y2 = y_valid + 1  # auxiliary variable so that classes start at 1 and not 0\n",
    "    numClasses = max(y2)\n",
    "    target_ids = range(numClasses)\n",
    "    no = int(np.ceil(numClasses / neuronCats))  # number of output neurons\n",
    "    if no != 1:\n",
    "        y_valid = torch.zeros(numSamples, no)\n",
    "        for i in range(numSamples):\n",
    "            k = int(np.ceil(y2[i] / neuronCats)) - 1\n",
    "            c = np.mod((y2[i] - 1), neuronCats) + 1\n",
    "            y_valid[i, k] = c\n",
    "    numSamples, numFeatures = x_train.shape\n",
    "    y_train_int = y_train\n",
    "    y2 = y_train + 1  # auxiliary variable so that classes start at 1 and not 0\n",
    "    if no != 1:\n",
    "        y_train = torch.zeros(numSamples, no)\n",
    "        for i in range(numSamples):\n",
    "            k = int(np.ceil(y2[i] / neuronCats)) - 1\n",
    "            c = np.mod((y2[i] - 1), neuronCats) + 1\n",
    "            y_train[i, k] = c\n",
    "    del y2\n",
    "\n",
    "    # Convert numpy arrays into torch tensors\n",
    "    x_train, y_train, x_valid, y_valid = map(\n",
    "        torch.tensor, (x_train, y_train, x_valid, y_valid)\n",
    "    )\n",
    "    if y_train.size().__len__() == 1:\n",
    "        y_train = torch.unsqueeze(y_train, 1)\n",
    "        y_valid = torch.unsqueeze(y_valid, 1)\n",
    "\n",
    "    # convert angles to complex numbers on unit-circle\n",
    "    x_train = torch.exp(1.0j * x_train)\n",
    "    x_valid = torch.exp(1.0j * x_valid)\n",
    "\n",
    "    return x_train, x_valid, y_train, y_valid\n",
    "\n",
    "\n",
    "def get_splitted_data(X, y, neuronCats):\n",
    "    x_train, x_valid, y_train, y_valid = train_test_split(\n",
    "        X, y, train_size=46806, random_state=42\n",
    "    )\n",
    "    x_train, x_valid, y_train, y_valid = prepare_data(\n",
    "        x_train, x_valid, y_train, y_valid, neuronCats\n",
    "    )\n",
    "\n",
    "    return x_train, x_valid, y_train, y_valid\n",
    "\n",
    "\n",
    "def get_splitted_data_by_index(X, y, neuronCats, train_index, test_index):\n",
    "    x_train, x_valid = X[train_index], X[test_index]\n",
    "    y_train, y_valid = y[train_index], y[test_index]\n",
    "    x_train, x_valid, y_train, y_valid = prepare_data(\n",
    "        x_train, x_valid, y_train, y_valid, neuronCats\n",
    "    )\n",
    "    return x_train, x_valid, y_train, y_valid\n",
    "\n",
    "\n",
    "# --- Plots ---\n",
    "def plot_loss(title, losses, scores):\n",
    "    plt.rcParams[\"axes.grid\"] = True\n",
    "    fig, (ax1) = plt.subplots(1, 1, figsize=(8, 4))\n",
    "    fig.suptitle(\"CVNN - Moons\")\n",
    "    ax1.plot(np.linspace(1, len(losses), len(losses)), losses)\n",
    "    ax1.set_xlabel(\"Epoch\")\n",
    "    ax1.set_xlim(0, len(losses))\n",
    "\n",
    "    ax1.plot(np.linspace(1, len(scores), len(scores)), scores)\n",
    "    ax1.set_xlabel(\"Epoch\")\n",
    "    ax1.set_xlim(0, len(losses))\n",
    "\n",
    "    ax1.legend([\"Acc\", \"Loss\"])\n",
    "\n",
    "    plt.show()\n",
    "\n",
    "\n",
    "def plot_weights(title, ylabel_1, ylabel_2, weights_real, weights_imag):\n",
    "    # y_min = np.min([np.min(weights_real), np.min(weights_imag)])\n",
    "    # y_max = np.max([np.max(weights_real), np.max(weights_imag)])\n",
    "\n",
    "    fig, ax = plt.subplots(ncols=2, nrows=1, figsize=(14, 3))\n",
    "    fig.suptitle(title)\n",
    "    ax[0].plot(np.linspace(1, len(weights_real), len(weights_real)), weights_real)\n",
    "    ax[0].set_xlabel(\"Step\")\n",
    "    ax[0].set_ylabel(ylabel_1)\n",
    "    # ax[0].set_title(\"Real Valued Weigts\")\n",
    "    ax[0].set_xlim(0, len(weights_real))\n",
    "    # ax[0].set_ylim(y_min, y_max)\n",
    "\n",
    "    ax[1].plot(np.linspace(1, len(weights_imag), len(weights_imag)), weights_imag)\n",
    "    ax[1].set_xlabel(\"Step\")\n",
    "    ax[1].set_ylabel(ylabel_2)\n",
    "    # ax[1].set_title(\"Imaginary Valued Weights\")\n",
    "    ax[1].set_xlim(0, len(weights_imag))\n",
    "    # ax[1].set_ylim(y_min, y_max)\n",
    "\n",
    "    plt.show()\n",
    "\n",
    "\n",
    "def plot_loss_acc_list(title, list_losses, list_scores, image_name):\n",
    "    losses = np.mean(list_losses, axis=0)\n",
    "    scores = np.mean(list_scores, axis=0)\n",
    "\n",
    "    losses_std = np.std(list_losses, axis=0)\n",
    "    scores_std = np.std(list_scores, axis=0)\n",
    "\n",
    "    fig, (ax1) = plt.subplots(1, 1, figsize=(10, 3))\n",
    "    fig.suptitle(title)\n",
    "    ax1.plot(np.linspace(1, len(losses), len(losses)), losses)\n",
    "    ax1.fill_between(\n",
    "        np.linspace(1, len(losses), len(losses)),\n",
    "        losses + losses_std,\n",
    "        losses - losses_std,\n",
    "        alpha=0.5,\n",
    "        linewidth=0,\n",
    "    )\n",
    "\n",
    "    ax1.plot(np.linspace(1, len(scores), len(scores)), scores)\n",
    "    ax1.fill_between(\n",
    "        np.linspace(1, len(scores), len(scores)),\n",
    "        scores + scores_std,\n",
    "        scores - scores_std,\n",
    "        alpha=0.5,\n",
    "        linewidth=0,\n",
    "    )\n",
    "    ax1.set_xlabel(\"Epoch\")\n",
    "\n",
    "    plt.legend([\"Loss Mean\", \"Loss Std\", \"Acc. Mean\", \"Acc. Std\"])\n",
    "    fig.savefig(image_name, format=\"png\", dpi=600)\n",
    "\n",
    "    plt.show()\n",
    "    # save\n",
    "    # fig.savefig(image_name + \".svg\", format=\"svg\", dpi=600)\n",
    "\n",
    "\n",
    "# --- Logging ---\n",
    "model_dict: dict = {}\n",
    "\n",
    "\n",
    "def fc_hook(layer_name, module, grad_input, grad_output):\n",
    "    if layer_name in model_dict:\n",
    "        model_dict[layer_name][\"weights\"].append(module.weights.detach().clone())\n",
    "        model_dict[layer_name][\"bias\"].append(module.bias.detach().clone())\n",
    "        model_dict[layer_name][\"grad_input\"].append(grad_input)\n",
    "        model_dict[layer_name][\"grad_output\"].append(grad_output)\n",
    "    else:\n",
    "        model_dict[layer_name] = {}\n",
    "        model_dict[layer_name][\"weights\"] = []\n",
    "        model_dict[layer_name][\"weights\"].append(module.weights.detach().clone())\n",
    "        model_dict[layer_name][\"bias\"] = []\n",
    "        model_dict[layer_name][\"bias\"].append(module.bias.detach().clone())\n",
    "        model_dict[layer_name][\"grad_input\"] = []\n",
    "        model_dict[layer_name][\"grad_input\"].append(grad_input)\n",
    "        model_dict[layer_name][\"grad_output\"] = []\n",
    "        model_dict[layer_name][\"grad_output\"].append(grad_output)"
   ]
  },
  {
   "cell_type": "code",
   "execution_count": null,
   "metadata": {},
   "outputs": [],
   "source": [
    "# | hide\n",
    "# control variables\n",
    "# number of categories a neuron can distinguish / parameter that determines the number of output neurons\n",
    "neuronCats = 1\n",
    "# number of categories per neuron, i.e. neuronCats (+ 1 for others in case of multiple Outputs)\n",
    "categories = 2\n",
    "# how often a classification sector occurs (1 means no periodicity)\n",
    "periodicity = 1\n",
    "# path to store best model parameters\n",
    "PATH = \"/run/media/antonp/Daten/Dev/mlmvn_pytorch/mlmvn/nbs/examples/autass/models/autass-mlmvn_48-100-11.pt\""
   ]
  },
  {
   "cell_type": "markdown",
   "metadata": {},
   "source": [
    "## Load Data"
   ]
  },
  {
   "cell_type": "code",
   "execution_count": null,
   "metadata": {},
   "outputs": [],
   "source": [
    "train_csv = pd.read_csv(\n",
    "    \"data/autass_data2.csv\",\n",
    "    header=None,\n",
    "    dtype=np.double,\n",
    ")\n",
    "data = np.array(train_csv.values[:, 1:50])\n",
    "del train_csv"
   ]
  },
  {
   "cell_type": "code",
   "execution_count": null,
   "metadata": {},
   "outputs": [],
   "source": [
    "X = data[:, 0:48]\n",
    "y = data[:, 48].astype(int) - 1\n",
    "\n",
    "yt = copy.copy(y)\n",
    "yt[yt == 0] = 20\n",
    "yt[yt == 1] = 21\n",
    "yt[yt == 2] = 22\n",
    "yt[yt == 3] = 23\n",
    "yt[yt == 4] = 26\n",
    "yt[yt == 5] = 24\n",
    "yt[yt == 6] = 27\n",
    "yt[yt == 7] = 29\n",
    "yt[yt == 8] = 30\n",
    "yt[yt == 9] = 25\n",
    "yt[yt == 10] = 28\n",
    "yt -= 20\n",
    "y = yt\n",
    "del yt"
   ]
  },
  {
   "cell_type": "markdown",
   "metadata": {},
   "source": [
    "## Model"
   ]
  },
  {
   "cell_type": "code",
   "execution_count": null,
   "metadata": {},
   "outputs": [],
   "source": [
    "class Model(nn.Module):\n",
    "    def __init__(self, categories, periodicity):\n",
    "        super().__init__()\n",
    "        self.categories = categories\n",
    "        self.periodicity = periodicity\n",
    "        self.first_linear = FirstLayer(48, 100)\n",
    "        self.phase_act1 = cmplx_phase_activation()\n",
    "        self.linear_out = OutputLayer(100, 11)\n",
    "        self.phase_act2 = cmplx_phase_activation()\n",
    "        # # Hooks\n",
    "        # self.first_layer_hook_handle = self.first_linear.register_full_backward_hook(\n",
    "        #     self.first_layer_backward_hook\n",
    "        # )\n",
    "        # self.output_hook_handle = self.linear_out.register_full_backward_hook(\n",
    "        #     self.output_layer_backward_hook\n",
    "        # )\n",
    "\n",
    "    def forward(self, x):\n",
    "        x = self.first_linear(x)\n",
    "        x = self.phase_act1(x)\n",
    "        x = self.linear_out(x)\n",
    "        x = self.phase_act2(x)\n",
    "        return x\n",
    "\n",
    "    def first_layer_backward_hook(self, module, grad_input, grad_output):\n",
    "        fc_hook(\"first_layer\", module, grad_input, grad_output)\n",
    "\n",
    "    def hidden_layer_backward_hook(self, module, grad_input, grad_output):\n",
    "        fc_hook(\"hidden_layer\", module, grad_input, grad_output)\n",
    "\n",
    "    def output_layer_backward_hook(self, module, grad_input, grad_output):\n",
    "        fc_hook(\"output_layer\", module, grad_input, grad_output)\n",
    "\n",
    "    def angle2class(self, x: torch.tensor) -> torch.tensor:\n",
    "        tmp = x.angle() + 2 * np.pi\n",
    "        angle = torch.remainder(tmp, 2 * np.pi)\n",
    "\n",
    "        # This will be the discrete output (the number of sector)\n",
    "        o = torch.floor(self.categories * self.periodicity * angle / (2 * np.pi))\n",
    "        return torch.remainder(o, self.categories)\n",
    "\n",
    "    def predict(self, x):\n",
    "        \"\"\"\n",
    "        Performs the prediction task of the network\n",
    "\n",
    "        Args:\n",
    "          x: torch.Tensor\n",
    "            Input tensor of size ([3])\n",
    "\n",
    "        Returns:\n",
    "          Most likely class i.e., Label with the highest score\n",
    "        \"\"\"\n",
    "        # Pass the data through the networks\n",
    "        output = self.forward(x)\n",
    "\n",
    "        # # Choose the label with the highest score\n",
    "        # return torch.argmax(output, 1)\n",
    "        return self.angle2class(output)\n",
    "\n",
    "\n",
    "def fit(model, X, y, epochs, batch_size, optimizer, criterion, categories, periodicity):\n",
    "    # List of losses for visualization\n",
    "    losses = []\n",
    "    scores = []\n",
    "    acc_best = 0\n",
    "\n",
    "    # start a new experiment\n",
    "    wandb.init(project=\"SDD-mlmvn\", entity=\"antonpf\")\n",
    "\n",
    "    #  capture a dictionary of hyperparameters with config\n",
    "    wandb.config = {\n",
    "        \"learning_rate\": 1,\n",
    "        \"epochs\": epochs,\n",
    "        \"batch_size\": batch_size,\n",
    "        \"optim\": \"ECL\",\n",
    "        \"categories\": categories,\n",
    "        \"periodicity\": periodicity,\n",
    "        \"layer\": \"[48-100-11]\",\n",
    "    }\n",
    "\n",
    "    for i in range(epochs):\n",
    "        # Pass the data through the network and compute the loss\n",
    "        # We'll use the whole dataset during the training instead of using batches\n",
    "        # in to order to keep the code simple for now.\n",
    "\n",
    "        batch_loss = []\n",
    "\n",
    "        for j in range((X.shape[0] - 1) // batch_size + 1):\n",
    "            start_j = j * batch_size\n",
    "            end_j = start_j + batch_size\n",
    "            xb = X[start_j:end_j]\n",
    "            yb = y[start_j:end_j]\n",
    "\n",
    "            y_pred = model(xb)\n",
    "            loss = criterion(y_pred, yb, categories, periodicity)\n",
    "            batch_loss.append((torch.abs(loss)).detach().numpy())\n",
    "\n",
    "            optimizer.zero_grad()\n",
    "            loss.backward()\n",
    "            optimizer.step(inputs=xb, layers=list(model.children()))\n",
    "\n",
    "        losses.append(sum(batch_loss) / len(batch_loss))\n",
    "        if i % 10 == 9:\n",
    "            print(f\"Epoch {i} loss is {losses[-1]}\")\n",
    "        y_pred = model.predict(X)\n",
    "        scores.append(accuracy(y_pred.squeeze(), y))\n",
    "\n",
    "        log_dict = {\n",
    "            \"loss\": torch.tensor(losses[-1]),\n",
    "            \"acc\": torch.tensor(scores[-1]),\n",
    "        }\n",
    "        wandb.log(log_dict)\n",
    "\n",
    "        # for key in model_dict:\n",
    "        #     for key_layer in model_dict[key]:\n",
    "        #         if key_layer in [\"weights\", \"bias\"]:\n",
    "        #             log_label = str(key) + \"_\" + str(key_layer)\n",
    "        #             log_label.replace(\" \", \"\")\n",
    "        #             wandb.log(\n",
    "        #                 {\n",
    "        #                     log_label\n",
    "        #                     + \"_real\": wandb.Histogram(\n",
    "        #                         model_dict[key][key_layer][-1].real\n",
    "        #                     ),\n",
    "        #                     log_label\n",
    "        #                     + \"_imag\": wandb.Histogram(\n",
    "        #                         model_dict[key][key_layer][-1].imag\n",
    "        #                     ),\n",
    "        #                     log_label\n",
    "        #                     + \"_mag\": torch.abs(model_dict[key][key_layer][-1]),\n",
    "        #                     log_label\n",
    "        #                     + \"_angle\": torch.angle(model_dict[key][key_layer][-1]),\n",
    "        #                 }\n",
    "        #             )\n",
    "\n",
    "        if scores[-1] > acc_best:\n",
    "            acc_best = scores[-1]\n",
    "            torch.save(model.state_dict(), PATH)\n",
    "\n",
    "    return losses, scores"
   ]
  },
  {
   "cell_type": "code",
   "execution_count": null,
   "metadata": {},
   "outputs": [],
   "source": [
    "model = Model(categories=categories, periodicity=periodicity)\n",
    "epochs = 200\n",
    "batch_size = 538\n",
    "lr = 1\n",
    "criterion = ComplexMSELoss.apply\n",
    "optimizer = ECL(model.parameters(), lr=lr)"
   ]
  },
  {
   "cell_type": "code",
   "execution_count": null,
   "metadata": {},
   "outputs": [
    {
     "data": {
      "text/html": [
       "wandb version 0.13.3 is available!  To upgrade, please run:\n",
       " $ pip install wandb --upgrade"
      ],
      "text/plain": [
       "<IPython.core.display.HTML object>"
      ]
     },
     "metadata": {},
     "output_type": "display_data"
    },
    {
     "data": {
      "text/html": [
       "Tracking run with wandb version 0.13.1"
      ],
      "text/plain": [
       "<IPython.core.display.HTML object>"
      ]
     },
     "metadata": {},
     "output_type": "display_data"
    },
    {
     "data": {
      "text/html": [
       "Run data is saved locally in <code>/run/media/antonp/Daten/Dev/mlmvn_pytorch/mlmvn/nbs/examples/autass/wandb/run-20220913_133138-3owg8ejg</code>"
      ],
      "text/plain": [
       "<IPython.core.display.HTML object>"
      ]
     },
     "metadata": {},
     "output_type": "display_data"
    },
    {
     "data": {
      "text/html": [
       "Syncing run <strong><a href=\"https://wandb.ai/antonpf/SDD-mlmvn/runs/3owg8ejg\" target=\"_blank\">chocolate-darkness-1</a></strong> to <a href=\"https://wandb.ai/antonpf/SDD-mlmvn\" target=\"_blank\">Weights & Biases</a> (<a href=\"https://wandb.me/run\" target=\"_blank\">docs</a>)<br/>"
      ],
      "text/plain": [
       "<IPython.core.display.HTML object>"
      ]
     },
     "metadata": {},
     "output_type": "display_data"
    },
    {
     "name": "stdout",
     "output_type": "stream",
     "text": [
      "Epoch 9 loss is 0.11467477424779243\n",
      "Epoch 19 loss is 0.07103397985116855\n",
      "Epoch 29 loss is 0.061110800927285824\n",
      "Epoch 39 loss is 0.05612390729371852\n",
      "Epoch 49 loss is 0.05755218794006612\n",
      "Epoch 59 loss is 0.05011145414095284\n",
      "Epoch 69 loss is 0.04560203592095569\n",
      "Epoch 79 loss is 0.03906279908470004\n",
      "Epoch 89 loss is 0.03606708531771284\n",
      "Epoch 99 loss is 0.03728207701803584\n",
      "Epoch 109 loss is 0.03377671005648842\n",
      "Epoch 119 loss is 0.035183003270241445\n",
      "Epoch 129 loss is 0.03136096161831314\n",
      "Epoch 139 loss is 0.030035327149109663\n",
      "Epoch 149 loss is 0.03067666302214878\n",
      "Epoch 159 loss is 0.02747269773755479\n",
      "Epoch 169 loss is 0.02956413597358904\n",
      "Epoch 179 loss is 0.029255775382918372\n",
      "Epoch 189 loss is 0.026400348127052234\n",
      "Epoch 199 loss is 0.02391605622613005\n"
     ]
    },
    {
     "data": {
      "text/plain": [
       "<All keys matched successfully>"
      ]
     },
     "execution_count": null,
     "metadata": {},
     "output_type": "execute_result"
    }
   ],
   "source": [
    "x_train, x_valid, y_train, y_valid = get_splitted_data(X, y, neuronCats)\n",
    "\n",
    "losses, scores = fit(\n",
    "    model,\n",
    "    x_train,\n",
    "    y_train,\n",
    "    epochs=epochs,\n",
    "    batch_size=batch_size,\n",
    "    optimizer=optimizer,\n",
    "    criterion=criterion,\n",
    "    categories=categories,\n",
    "    periodicity=periodicity,\n",
    ")\n",
    "\n",
    "model.load_state_dict(torch.load(PATH))\n",
    "\n",
    "plot_loss(\n",
    "    \"CVNN - Autass\",\n",
    "    losses,\n",
    "    scores,\n",
    ")\n",
    "\n",
    "y_pred = model.predict(x_train)\n",
    "acc = accuracy(y_pred.squeeze(), y_train)\n",
    "print(\"Train Acc.: \", acc)\n",
    "\n",
    "y_pred = model.predict(x_valid)\n",
    "acc = accuracy(y_pred.squeeze(), y_valid)\n",
    "print(\"Val Acc.: \", acc)\n",
    "\n",
    "print(classification_report(y_valid, y_pred.detach().numpy(), zero_division=0))"
   ]
  },
  {
   "cell_type": "code",
   "execution_count": null,
   "metadata": {},
   "outputs": [
    {
     "name": "stderr",
     "output_type": "stream",
     "text": [
      "/tmp/ipykernel_210316/3139655883.py:46: UserWarning: To copy construct from a tensor, it is recommended to use sourceTensor.clone().detach() or sourceTensor.clone().detach().requires_grad_(True), rather than torch.tensor(sourceTensor).\n",
      "  x_train, y_train, x_valid, y_valid = map(\n"
     ]
    },
    {
     "data": {
      "text/html": [
       "wandb version 0.13.3 is available!  To upgrade, please run:\n",
       " $ pip install wandb --upgrade"
      ],
      "text/plain": [
       "<IPython.core.display.HTML object>"
      ]
     },
     "metadata": {},
     "output_type": "display_data"
    },
    {
     "data": {
      "text/html": [
       "Tracking run with wandb version 0.13.1"
      ],
      "text/plain": [
       "<IPython.core.display.HTML object>"
      ]
     },
     "metadata": {},
     "output_type": "display_data"
    },
    {
     "data": {
      "text/html": [
       "Run data is saved locally in <code>/run/media/antonp/Daten/Dev/mlmvn_pytorch/mlmvn/nbs/examples/autass/wandb/run-20220913_173912-3iyb248f</code>"
      ],
      "text/plain": [
       "<IPython.core.display.HTML object>"
      ]
     },
     "metadata": {},
     "output_type": "display_data"
    },
    {
     "data": {
      "text/html": [
       "Syncing run <strong><a href=\"https://wandb.ai/antonpf/SDD-mlmvn/runs/3iyb248f\" target=\"_blank\">chocolate-spaceship-7</a></strong> to <a href=\"https://wandb.ai/antonpf/SDD-mlmvn\" target=\"_blank\">Weights & Biases</a> (<a href=\"https://wandb.me/run\" target=\"_blank\">docs</a>)<br/>"
      ],
      "text/plain": [
       "<IPython.core.display.HTML object>"
      ]
     },
     "metadata": {},
     "output_type": "display_data"
    },
    {
     "name": "stdout",
     "output_type": "stream",
     "text": [
      "Epoch 9 loss is 0.09555149603237259\n",
      "Epoch 19 loss is 0.07180477353342492\n",
      "Epoch 29 loss is 0.05866701346681116\n",
      "Epoch 39 loss is 0.05279493156188689\n",
      "Epoch 49 loss is 0.0452284514882921\n",
      "Epoch 59 loss is 0.04432152845561317\n",
      "Epoch 69 loss is 0.04120528160817332\n",
      "Epoch 79 loss is 0.03872579528805504\n",
      "Epoch 89 loss is 0.04012878403705545\n",
      "Epoch 99 loss is 0.03670449117350519\n",
      "Epoch 109 loss is 0.03500836662407047\n",
      "Epoch 119 loss is 0.038819575977518325\n",
      "Epoch 129 loss is 0.03518220056085692\n",
      "Epoch 139 loss is 0.0334206599348604\n",
      "Epoch 149 loss is 0.04288051790237454\n",
      "Epoch 159 loss is 0.02946339431988543\n",
      "Epoch 169 loss is 0.028622828355258565\n",
      "Epoch 179 loss is 0.026004774451050074\n",
      "Epoch 189 loss is 0.04234084029874179\n",
      "Epoch 199 loss is 0.030533800342442685\n"
     ]
    },
    {
     "data": {
      "image/png": "[encoded data removed]",
      "text/plain": [
       "<Figure size 800x400 with 1 Axes>"
      ]
     },
     "metadata": {},
     "output_type": "display_data"
    },
    {
     "name": "stdout",
     "output_type": "stream",
     "text": [
      "Train Acc.:  0.9826521674108574\n",
      "Val Acc.:  0.9675269184754742\n",
      "              precision    recall  f1-score   support\n",
      "\n",
      "           0       0.98      0.98      0.98      1063\n",
      "           1       0.96      0.97      0.97      1064\n",
      "           2       1.00      0.99      1.00      1064\n",
      "           3       0.99      0.98      0.99      1064\n",
      "           4       0.98      0.94      0.96      1064\n",
      "           5       0.98      0.96      0.97      1063\n",
      "           6       0.96      0.97      0.96      1064\n",
      "           7       1.00      1.00      1.00      1064\n",
      "           8       1.00      1.00      1.00      1064\n",
      "           9       0.98      0.96      0.97      1064\n",
      "          10       0.98      0.98      0.98      1064\n",
      "\n",
      "   micro avg       0.98      0.98      0.98     11702\n",
      "   macro avg       0.98      0.98      0.98     11702\n",
      "weighted avg       0.98      0.98      0.98     11702\n",
      " samples avg       0.97      0.98      0.97     11702\n",
      "\n"
     ]
    },
    {
     "name": "stderr",
     "output_type": "stream",
     "text": [
      "/tmp/ipykernel_210316/3139655883.py:46: UserWarning: To copy construct from a tensor, it is recommended to use sourceTensor.clone().detach() or sourceTensor.clone().detach().requires_grad_(True), rather than torch.tensor(sourceTensor).\n",
      "  x_train, y_train, x_valid, y_valid = map(\n"
     ]
    },
    {
     "data": {
      "text/html": [
       "Finishing last run (ID:3iyb248f) before initializing another..."
      ],
      "text/plain": [
       "<IPython.core.display.HTML object>"
      ]
     },
     "metadata": {},
     "output_type": "display_data"
    },
    {
     "data": {
      "text/html": [
       "Waiting for W&B process to finish... <strong style=\"color:green\">(success).</strong>"
      ],
      "text/plain": [
       "<IPython.core.display.HTML object>"
      ]
     },
     "metadata": {},
     "output_type": "display_data"
    },
    {
     "data": {
      "application/vnd.jupyter.widget-view+json": {
       "model_id": "550215ef87a247698f89b987897d9742",
       "version_major": 2,
       "version_minor": 0
      },
      "text/plain": [
       "VBox(children=(Label(value='0.001 MB of 0.001 MB uploaded (0.000 MB deduped)\\r'), FloatProgress(value=1.0, max…"
      ]
     },
     "metadata": {},
     "output_type": "display_data"
    },
    {
     "data": {
      "text/html": [
       "<style>\n",
       "    table.wandb td:nth-child(1) { padding: 0 10px; text-align: left ; width: auto;} td:nth-child(2) {text-align: left ; width: 100%}\n",
       "    .wandb-row { display: flex; flex-direction: row; flex-wrap: wrap; justify-content: flex-start; width: 100% }\n",
       "    .wandb-col { display: flex; flex-direction: column; flex-basis: 100%; flex: 1; padding: 10px; }\n",
       "    </style>\n",
       "<div class=\"wandb-row\"><div class=\"wandb-col\"><h3>Run history:</h3><br/><table class=\"wandb\"><tr><td>acc</td><td>▁▅▆▆▆▇▇▇▇▇▇▇█▇███████████████▆███████▇██</td></tr><tr><td>loss</td><td>█▄▃▂▂▂▂▂▂▂▂▁▁▁▁▁▁▁▁▁▁▁▁▁▁▁▁▁▁▁▁▁▁▁▁▁▁▁▁▁</td></tr></table><br/></div><div class=\"wandb-col\"><h3>Run summary:</h3><br/><table class=\"wandb\"><tr><td>acc</td><td>0.97684</td></tr><tr><td>loss</td><td>0.03053</td></tr></table><br/></div></div>"
      ],
      "text/plain": [
       "<IPython.core.display.HTML object>"
      ]
     },
     "metadata": {},
     "output_type": "display_data"
    },
    {
     "data": {
      "text/html": [
       "Synced <strong style=\"color:#cdcd00\">chocolate-spaceship-7</strong>: <a href=\"https://wandb.ai/antonpf/SDD-mlmvn/runs/3iyb248f\" target=\"_blank\">https://wandb.ai/antonpf/SDD-mlmvn/runs/3iyb248f</a><br/>Synced 5 W&B file(s), 0 media file(s), 0 artifact file(s) and 0 other file(s)"
      ],
      "text/plain": [
       "<IPython.core.display.HTML object>"
      ]
     },
     "metadata": {},
     "output_type": "display_data"
    },
    {
     "data": {
      "text/html": [
       "Find logs at: <code>./wandb/run-20220913_173912-3iyb248f/logs</code>"
      ],
      "text/plain": [
       "<IPython.core.display.HTML object>"
      ]
     },
     "metadata": {},
     "output_type": "display_data"
    },
    {
     "data": {
      "text/html": [
       "Successfully finished last run (ID:3iyb248f). Initializing new run:<br/>"
      ],
      "text/plain": [
       "<IPython.core.display.HTML object>"
      ]
     },
     "metadata": {},
     "output_type": "display_data"
    },
    {
     "data": {
      "text/html": [
       "wandb version 0.13.3 is available!  To upgrade, please run:\n",
       " $ pip install wandb --upgrade"
      ],
      "text/plain": [
       "<IPython.core.display.HTML object>"
      ]
     },
     "metadata": {},
     "output_type": "display_data"
    },
    {
     "data": {
      "text/html": [
       "Tracking run with wandb version 0.13.1"
      ],
      "text/plain": [
       "<IPython.core.display.HTML object>"
      ]
     },
     "metadata": {},
     "output_type": "display_data"
    },
    {
     "data": {
      "text/html": [
       "Run data is saved locally in <code>/run/media/antonp/Daten/Dev/mlmvn_pytorch/mlmvn/nbs/examples/autass/wandb/run-20220913_174932-xqb1uy40</code>"
      ],
      "text/plain": [
       "<IPython.core.display.HTML object>"
      ]
     },
     "metadata": {},
     "output_type": "display_data"
    },
    {
     "data": {
      "text/html": [
       "Syncing run <strong><a href=\"https://wandb.ai/antonpf/SDD-mlmvn/runs/xqb1uy40\" target=\"_blank\">stoic-elevator-10</a></strong> to <a href=\"https://wandb.ai/antonpf/SDD-mlmvn\" target=\"_blank\">Weights & Biases</a> (<a href=\"https://wandb.me/run\" target=\"_blank\">docs</a>)<br/>"
      ],
      "text/plain": [
       "<IPython.core.display.HTML object>"
      ]
     },
     "metadata": {},
     "output_type": "display_data"
    },
    {
     "name": "stdout",
     "output_type": "stream",
     "text": [
      "Epoch 9 loss is 0.03280515257786979\n",
      "Epoch 19 loss is 0.026678701807285887\n",
      "Epoch 29 loss is 0.03428249728793015\n",
      "Epoch 39 loss is 0.02977930542467795\n",
      "Epoch 49 loss is 0.025499933276872333\n",
      "Epoch 59 loss is 0.026383428557948122\n",
      "Epoch 69 loss is 0.04087566840573189\n",
      "Epoch 79 loss is 0.03320929960297722\n",
      "Epoch 89 loss is 0.028597431276055053\n",
      "Epoch 99 loss is 0.029255667306228448\n",
      "Epoch 109 loss is 0.02957132606540668\n",
      "Epoch 119 loss is 0.02789161873250058\n",
      "Epoch 129 loss is 0.024786731106916184\n",
      "Epoch 139 loss is 0.02688280216080345\n",
      "Epoch 149 loss is 0.02539790177521539\n",
      "Epoch 159 loss is 0.028236120375813925\n",
      "Epoch 169 loss is 0.026298448108352458\n",
      "Epoch 179 loss is 0.024100379332215163\n",
      "Epoch 189 loss is 0.025749880920152932\n",
      "Epoch 199 loss is 0.023991904507167372\n"
     ]
    },
    {
     "data": {
      "image/png": "[encoded data removed]",
      "text/plain": [
       "<Figure size 800x400 with 1 Axes>"
      ]
     },
     "metadata": {},
     "output_type": "display_data"
    },
    {
     "name": "stdout",
     "output_type": "stream",
     "text": [
      "Train Acc.:  0.9841690345461149\n",
      "Val Acc.:  0.9720560587933686\n",
      "              precision    recall  f1-score   support\n",
      "\n",
      "           0       0.99      0.99      0.99      1063\n",
      "           1       0.97      0.96      0.96      1064\n",
      "           2       1.00      0.99      0.99      1064\n",
      "           3       0.99      0.99      0.99      1063\n",
      "           4       0.97      0.97      0.97      1064\n",
      "           5       0.98      0.97      0.97      1064\n",
      "           6       0.97      0.97      0.97      1064\n",
      "           7       1.00      1.00      1.00      1064\n",
      "           8       1.00      1.00      1.00      1064\n",
      "           9       0.98      0.96      0.97      1064\n",
      "          10       0.99      0.97      0.98      1064\n",
      "\n",
      "   micro avg       0.99      0.98      0.98     11702\n",
      "   macro avg       0.99      0.98      0.98     11702\n",
      "weighted avg       0.99      0.98      0.98     11702\n",
      " samples avg       0.98      0.98      0.98     11702\n",
      "\n"
     ]
    },
    {
     "name": "stderr",
     "output_type": "stream",
     "text": [
      "/tmp/ipykernel_210316/3139655883.py:46: UserWarning: To copy construct from a tensor, it is recommended to use sourceTensor.clone().detach() or sourceTensor.clone().detach().requires_grad_(True), rather than torch.tensor(sourceTensor).\n",
      "  x_train, y_train, x_valid, y_valid = map(\n"
     ]
    },
    {
     "data": {
      "text/html": [
       "Finishing last run (ID:xqb1uy40) before initializing another..."
      ],
      "text/plain": [
       "<IPython.core.display.HTML object>"
      ]
     },
     "metadata": {},
     "output_type": "display_data"
    },
    {
     "data": {
      "text/html": [
       "Waiting for W&B process to finish... <strong style=\"color:green\">(success).</strong>"
      ],
      "text/plain": [
       "<IPython.core.display.HTML object>"
      ]
     },
     "metadata": {},
     "output_type": "display_data"
    },
    {
     "data": {
      "application/vnd.jupyter.widget-view+json": {
       "model_id": "67864c3c824c4a499e65497dcc7ab3d8",
       "version_major": 2,
       "version_minor": 0
      },
      "text/plain": [
       "VBox(children=(Label(value='0.001 MB of 0.001 MB uploaded (0.000 MB deduped)\\r'), FloatProgress(value=1.0, max…"
      ]
     },
     "metadata": {},
     "output_type": "display_data"
    },
    {
     "data": {
      "text/html": [
       "<style>\n",
       "    table.wandb td:nth-child(1) { padding: 0 10px; text-align: left ; width: auto;} td:nth-child(2) {text-align: left ; width: 100%}\n",
       "    .wandb-row { display: flex; flex-direction: row; flex-wrap: wrap; justify-content: flex-start; width: 100% }\n",
       "    .wandb-col { display: flex; flex-direction: column; flex-basis: 100%; flex: 1; padding: 10px; }\n",
       "    </style>\n",
       "<div class=\"wandb-row\"><div class=\"wandb-col\"><h3>Run history:</h3><br/><table class=\"wandb\"><tr><td>acc</td><td>▇▇▇███▇▇██▇▇█▁▇▇▇▇▇▇▇▇▇▇▇██▇██▇▇▇████▇▇█</td></tr><tr><td>loss</td><td>▃▄▃▂▂▂▂▃▂▂▅▄▂█▄▃▂▃▄▂▂▂▂▃▂▂▂▂▂▂▂▂▂▂▂▂▁▂▂▁</td></tr></table><br/></div><div class=\"wandb-col\"><h3>Run summary:</h3><br/><table class=\"wandb\"><tr><td>acc</td><td>0.98203</td></tr><tr><td>loss</td><td>0.02399</td></tr></table><br/></div></div>"
      ],
      "text/plain": [
       "<IPython.core.display.HTML object>"
      ]
     },
     "metadata": {},
     "output_type": "display_data"
    },
    {
     "data": {
      "text/html": [
       "Synced <strong style=\"color:#cdcd00\">stoic-elevator-10</strong>: <a href=\"https://wandb.ai/antonpf/SDD-mlmvn/runs/xqb1uy40\" target=\"_blank\">https://wandb.ai/antonpf/SDD-mlmvn/runs/xqb1uy40</a><br/>Synced 5 W&B file(s), 0 media file(s), 0 artifact file(s) and 0 other file(s)"
      ],
      "text/plain": [
       "<IPython.core.display.HTML object>"
      ]
     },
     "metadata": {},
     "output_type": "display_data"
    },
    {
     "data": {
      "text/html": [
       "Find logs at: <code>./wandb/run-20220913_174932-xqb1uy40/logs</code>"
      ],
      "text/plain": [
       "<IPython.core.display.HTML object>"
      ]
     },
     "metadata": {},
     "output_type": "display_data"
    },
    {
     "data": {
      "text/html": [
       "Successfully finished last run (ID:xqb1uy40). Initializing new run:<br/>"
      ],
      "text/plain": [
       "<IPython.core.display.HTML object>"
      ]
     },
     "metadata": {},
     "output_type": "display_data"
    },
    {
     "data": {
      "text/html": [
       "wandb version 0.13.3 is available!  To upgrade, please run:\n",
       " $ pip install wandb --upgrade"
      ],
      "text/plain": [
       "<IPython.core.display.HTML object>"
      ]
     },
     "metadata": {},
     "output_type": "display_data"
    },
    {
     "data": {
      "text/html": [
       "Tracking run with wandb version 0.13.1"
      ],
      "text/plain": [
       "<IPython.core.display.HTML object>"
      ]
     },
     "metadata": {},
     "output_type": "display_data"
    },
    {
     "data": {
      "text/html": [
       "Run data is saved locally in <code>/run/media/antonp/Daten/Dev/mlmvn_pytorch/mlmvn/nbs/examples/autass/wandb/run-20220913_180159-3b52kg3i</code>"
      ],
      "text/plain": [
       "<IPython.core.display.HTML object>"
      ]
     },
     "metadata": {},
     "output_type": "display_data"
    },
    {
     "data": {
      "text/html": [
       "Syncing run <strong><a href=\"https://wandb.ai/antonpf/SDD-mlmvn/runs/3b52kg3i\" target=\"_blank\">solar-dust-11</a></strong> to <a href=\"https://wandb.ai/antonpf/SDD-mlmvn\" target=\"_blank\">Weights & Biases</a> (<a href=\"https://wandb.me/run\" target=\"_blank\">docs</a>)<br/>"
      ],
      "text/plain": [
       "<IPython.core.display.HTML object>"
      ]
     },
     "metadata": {},
     "output_type": "display_data"
    },
    {
     "name": "stdout",
     "output_type": "stream",
     "text": [
      "Epoch 9 loss is 0.024315663019499303\n",
      "Epoch 19 loss is 0.028146133990004627\n",
      "Epoch 29 loss is 0.02270478246544526\n",
      "Epoch 39 loss is 0.021148692054013384\n",
      "Epoch 49 loss is 0.023284839911956887\n",
      "Epoch 59 loss is 0.027645286788107546\n",
      "Epoch 69 loss is 0.02281399510389467\n",
      "Epoch 79 loss is 0.02319756623110906\n",
      "Epoch 89 loss is 0.02123558722613875\n",
      "Epoch 99 loss is 0.020977528487364023\n",
      "Epoch 109 loss is 0.022513831132867278\n",
      "Epoch 119 loss is 0.02284574053398999\n",
      "Epoch 129 loss is 0.024390965907770356\n",
      "Epoch 139 loss is 0.02461031067423832\n",
      "Epoch 149 loss is 0.02523924936001549\n",
      "Epoch 159 loss is 0.025477035253570448\n",
      "Epoch 169 loss is 0.024535891033339904\n",
      "Epoch 179 loss is 0.02420513021490173\n",
      "Epoch 189 loss is 0.02432077688806886\n",
      "Epoch 199 loss is 0.025956053992028872\n"
     ]
    },
    {
     "data": {
      "image/png": "[encoded data removed]",
      "text/plain": [
       "<Figure size 800x400 with 1 Axes>"
      ]
     },
     "metadata": {},
     "output_type": "display_data"
    },
    {
     "name": "stdout",
     "output_type": "stream",
     "text": [
      "Train Acc.:  0.9850022432542141\n",
      "Val Acc.:  0.9722269697487609\n",
      "              precision    recall  f1-score   support\n",
      "\n",
      "           0       0.99      0.98      0.99      1064\n",
      "           1       0.98      0.95      0.97      1064\n",
      "           2       1.00      0.99      0.99      1064\n",
      "           3       1.00      0.99      0.99      1063\n",
      "           4       0.98      0.96      0.97      1064\n",
      "           5       0.97      0.98      0.97      1064\n",
      "           6       0.98      0.96      0.97      1063\n",
      "           7       1.00      1.00      1.00      1064\n",
      "           8       1.00      1.00      1.00      1064\n",
      "           9       0.97      0.97      0.97      1064\n",
      "          10       0.99      0.98      0.99      1064\n",
      "\n",
      "   micro avg       0.99      0.98      0.98     11702\n",
      "   macro avg       0.99      0.98      0.98     11702\n",
      "weighted avg       0.99      0.98      0.98     11702\n",
      " samples avg       0.97      0.98      0.98     11702\n",
      "\n"
     ]
    },
    {
     "name": "stderr",
     "output_type": "stream",
     "text": [
      "/tmp/ipykernel_210316/3139655883.py:46: UserWarning: To copy construct from a tensor, it is recommended to use sourceTensor.clone().detach() or sourceTensor.clone().detach().requires_grad_(True), rather than torch.tensor(sourceTensor).\n",
      "  x_train, y_train, x_valid, y_valid = map(\n"
     ]
    },
    {
     "data": {
      "text/html": [
       "Finishing last run (ID:3b52kg3i) before initializing another..."
      ],
      "text/plain": [
       "<IPython.core.display.HTML object>"
      ]
     },
     "metadata": {},
     "output_type": "display_data"
    },
    {
     "data": {
      "text/html": [
       "Waiting for W&B process to finish... <strong style=\"color:green\">(success).</strong>"
      ],
      "text/plain": [
       "<IPython.core.display.HTML object>"
      ]
     },
     "metadata": {},
     "output_type": "display_data"
    },
    {
     "data": {
      "application/vnd.jupyter.widget-view+json": {
       "model_id": "6723389f1c564409a231b304709d7910",
       "version_major": 2,
       "version_minor": 0
      },
      "text/plain": [
       "VBox(children=(Label(value='0.001 MB of 0.001 MB uploaded (0.000 MB deduped)\\r'), FloatProgress(value=1.0, max…"
      ]
     },
     "metadata": {},
     "output_type": "display_data"
    },
    {
     "data": {
      "text/html": [
       "<style>\n",
       "    table.wandb td:nth-child(1) { padding: 0 10px; text-align: left ; width: auto;} td:nth-child(2) {text-align: left ; width: 100%}\n",
       "    .wandb-row { display: flex; flex-direction: row; flex-wrap: wrap; justify-content: flex-start; width: 100% }\n",
       "    .wandb-col { display: flex; flex-direction: column; flex-basis: 100%; flex: 1; padding: 10px; }\n",
       "    </style>\n",
       "<div class=\"wandb-row\"><div class=\"wandb-col\"><h3>Run history:</h3><br/><table class=\"wandb\"><tr><td>acc</td><td>█▆▅▆▅▆█▇▆▇▆▅▄▆▅▆▅▇▆▆▆▅█▆▄▅▄▁▄▃▃▂▄▁▃▂▃▃▂▃</td></tr><tr><td>loss</td><td>▃▄▄▄▄▃▃▂▃▂▅▄▅▄▅▅▃▃▃▃▁▄▁▄▇▆▅▆▅▅▆▄▅█▆▆▅▅▆▇</td></tr></table><br/></div><div class=\"wandb-col\"><h3>Run summary:</h3><br/><table class=\"wandb\"><tr><td>acc</td><td>0.97919</td></tr><tr><td>loss</td><td>0.02596</td></tr></table><br/></div></div>"
      ],
      "text/plain": [
       "<IPython.core.display.HTML object>"
      ]
     },
     "metadata": {},
     "output_type": "display_data"
    },
    {
     "data": {
      "text/html": [
       "Synced <strong style=\"color:#cdcd00\">solar-dust-11</strong>: <a href=\"https://wandb.ai/antonpf/SDD-mlmvn/runs/3b52kg3i\" target=\"_blank\">https://wandb.ai/antonpf/SDD-mlmvn/runs/3b52kg3i</a><br/>Synced 5 W&B file(s), 0 media file(s), 0 artifact file(s) and 0 other file(s)"
      ],
      "text/plain": [
       "<IPython.core.display.HTML object>"
      ]
     },
     "metadata": {},
     "output_type": "display_data"
    },
    {
     "data": {
      "text/html": [
       "Find logs at: <code>./wandb/run-20220913_180159-3b52kg3i/logs</code>"
      ],
      "text/plain": [
       "<IPython.core.display.HTML object>"
      ]
     },
     "metadata": {},
     "output_type": "display_data"
    },
    {
     "data": {
      "text/html": [
       "Successfully finished last run (ID:3b52kg3i). Initializing new run:<br/>"
      ],
      "text/plain": [
       "<IPython.core.display.HTML object>"
      ]
     },
     "metadata": {},
     "output_type": "display_data"
    },
    {
     "data": {
      "text/html": [
       "wandb version 0.13.3 is available!  To upgrade, please run:\n",
       " $ pip install wandb --upgrade"
      ],
      "text/plain": [
       "<IPython.core.display.HTML object>"
      ]
     },
     "metadata": {},
     "output_type": "display_data"
    },
    {
     "data": {
      "text/html": [
       "Tracking run with wandb version 0.13.1"
      ],
      "text/plain": [
       "<IPython.core.display.HTML object>"
      ]
     },
     "metadata": {},
     "output_type": "display_data"
    },
    {
     "data": {
      "text/html": [
       "Run data is saved locally in <code>/run/media/antonp/Daten/Dev/mlmvn_pytorch/mlmvn/nbs/examples/autass/wandb/run-20220913_181438-3frdlgu6</code>"
      ],
      "text/plain": [
       "<IPython.core.display.HTML object>"
      ]
     },
     "metadata": {},
     "output_type": "display_data"
    },
    {
     "data": {
      "text/html": [
       "Syncing run <strong><a href=\"https://wandb.ai/antonpf/SDD-mlmvn/runs/3frdlgu6\" target=\"_blank\">charmed-sponge-13</a></strong> to <a href=\"https://wandb.ai/antonpf/SDD-mlmvn\" target=\"_blank\">Weights & Biases</a> (<a href=\"https://wandb.me/run\" target=\"_blank\">docs</a>)<br/>"
      ],
      "text/plain": [
       "<IPython.core.display.HTML object>"
      ]
     },
     "metadata": {},
     "output_type": "display_data"
    },
    {
     "name": "stdout",
     "output_type": "stream",
     "text": [
      "Epoch 9 loss is 0.02304907936105134\n",
      "Epoch 19 loss is 0.02219663404389557\n",
      "Epoch 29 loss is 0.022484629085466813\n",
      "Epoch 39 loss is 0.021750896973484615\n",
      "Epoch 49 loss is 0.024163170235373767\n",
      "Epoch 59 loss is 0.03115489416672411\n",
      "Epoch 69 loss is 0.027110886936363078\n",
      "Epoch 79 loss is 0.02702489104077479\n",
      "Epoch 89 loss is 0.024690306447012863\n",
      "Epoch 99 loss is 0.02456612692250336\n",
      "Epoch 109 loss is 0.02659471034629197\n",
      "Epoch 119 loss is 0.02455203202863955\n",
      "Epoch 129 loss is 0.025641652489555387\n",
      "Epoch 139 loss is 0.043864441527690895\n",
      "Epoch 149 loss is 0.02646372443915028\n",
      "Epoch 159 loss is 0.028787667921727923\n",
      "Epoch 169 loss is 0.032389624229182463\n",
      "Epoch 179 loss is 0.029450554263280984\n",
      "Epoch 189 loss is 0.028827977301186736\n",
      "Epoch 199 loss is 0.02788845972826256\n"
     ]
    },
    {
     "data": {
      "image/png": "[encoded data removed]",
      "text/plain": [
       "<Figure size 800x400 with 1 Axes>"
      ]
     },
     "metadata": {},
     "output_type": "display_data"
    },
    {
     "name": "stdout",
     "output_type": "stream",
     "text": [
      "Train Acc.:  0.9851090648834576\n",
      "Val Acc.:  0.9748760895573406\n",
      "              precision    recall  f1-score   support\n",
      "\n",
      "           0       1.00      0.98      0.99      1063\n",
      "           1       0.98      0.97      0.97      1064\n",
      "           2       1.00      0.99      0.99      1064\n",
      "           3       0.99      0.99      0.99      1063\n",
      "           4       0.97      0.97      0.97      1064\n",
      "           5       0.98      0.97      0.98      1064\n",
      "           6       0.97      0.97      0.97      1064\n",
      "           7       1.00      0.99      1.00      1064\n",
      "           8       1.00      1.00      1.00      1064\n",
      "           9       0.98      0.97      0.98      1064\n",
      "          10       0.99      0.98      0.99      1064\n",
      "\n",
      "   micro avg       0.99      0.98      0.98     11702\n",
      "   macro avg       0.99      0.98      0.98     11702\n",
      "weighted avg       0.99      0.98      0.98     11702\n",
      " samples avg       0.98      0.98      0.98     11702\n",
      "\n"
     ]
    },
    {
     "name": "stderr",
     "output_type": "stream",
     "text": [
      "/tmp/ipykernel_210316/3139655883.py:46: UserWarning: To copy construct from a tensor, it is recommended to use sourceTensor.clone().detach() or sourceTensor.clone().detach().requires_grad_(True), rather than torch.tensor(sourceTensor).\n",
      "  x_train, y_train, x_valid, y_valid = map(\n"
     ]
    },
    {
     "data": {
      "text/html": [
       "Finishing last run (ID:3frdlgu6) before initializing another..."
      ],
      "text/plain": [
       "<IPython.core.display.HTML object>"
      ]
     },
     "metadata": {},
     "output_type": "display_data"
    },
    {
     "data": {
      "text/html": [
       "Waiting for W&B process to finish... <strong style=\"color:green\">(success).</strong>"
      ],
      "text/plain": [
       "<IPython.core.display.HTML object>"
      ]
     },
     "metadata": {},
     "output_type": "display_data"
    },
    {
     "data": {
      "application/vnd.jupyter.widget-view+json": {
       "model_id": "7aeb927a61674f76bede35e9408b14fa",
       "version_major": 2,
       "version_minor": 0
      },
      "text/plain": [
       "VBox(children=(Label(value='0.001 MB of 0.001 MB uploaded (0.000 MB deduped)\\r'), FloatProgress(value=1.0, max…"
      ]
     },
     "metadata": {},
     "output_type": "display_data"
    },
    {
     "data": {
      "text/html": [
       "<style>\n",
       "    table.wandb td:nth-child(1) { padding: 0 10px; text-align: left ; width: auto;} td:nth-child(2) {text-align: left ; width: 100%}\n",
       "    .wandb-row { display: flex; flex-direction: row; flex-wrap: wrap; justify-content: flex-start; width: 100% }\n",
       "    .wandb-col { display: flex; flex-direction: column; flex-basis: 100%; flex: 1; padding: 10px; }\n",
       "    </style>\n",
       "<div class=\"wandb-row\"><div class=\"wandb-col\"><h3>Run history:</h3><br/><table class=\"wandb\"><tr><td>acc</td><td>▇▇▇█▇▆▇█▇▆▇▁▄▃▅▅▅▆▅▄▆▇▇▇▅▆▆▄▅▅▅▅▅▄▄▄▃▅▅▆</td></tr><tr><td>loss</td><td>▂▁▂▂▃▃▁▂▂▃▂█▅▄▄▄▃▂▄▄▃▂▁▂▆▄▃▄▅▄▃▄▄▆▅▆▅▄▄▄</td></tr></table><br/></div><div class=\"wandb-col\"><h3>Run summary:</h3><br/><table class=\"wandb\"><tr><td>acc</td><td>0.98002</td></tr><tr><td>loss</td><td>0.02789</td></tr></table><br/></div></div>"
      ],
      "text/plain": [
       "<IPython.core.display.HTML object>"
      ]
     },
     "metadata": {},
     "output_type": "display_data"
    },
    {
     "data": {
      "text/html": [
       "Synced <strong style=\"color:#cdcd00\">charmed-sponge-13</strong>: <a href=\"https://wandb.ai/antonpf/SDD-mlmvn/runs/3frdlgu6\" target=\"_blank\">https://wandb.ai/antonpf/SDD-mlmvn/runs/3frdlgu6</a><br/>Synced 5 W&B file(s), 0 media file(s), 0 artifact file(s) and 0 other file(s)"
      ],
      "text/plain": [
       "<IPython.core.display.HTML object>"
      ]
     },
     "metadata": {},
     "output_type": "display_data"
    },
    {
     "data": {
      "text/html": [
       "Find logs at: <code>./wandb/run-20220913_181438-3frdlgu6/logs</code>"
      ],
      "text/plain": [
       "<IPython.core.display.HTML object>"
      ]
     },
     "metadata": {},
     "output_type": "display_data"
    },
    {
     "data": {
      "text/html": [
       "Successfully finished last run (ID:3frdlgu6). Initializing new run:<br/>"
      ],
      "text/plain": [
       "<IPython.core.display.HTML object>"
      ]
     },
     "metadata": {},
     "output_type": "display_data"
    },
    {
     "data": {
      "text/html": [
       "wandb version 0.13.3 is available!  To upgrade, please run:\n",
       " $ pip install wandb --upgrade"
      ],
      "text/plain": [
       "<IPython.core.display.HTML object>"
      ]
     },
     "metadata": {},
     "output_type": "display_data"
    },
    {
     "data": {
      "text/html": [
       "Tracking run with wandb version 0.13.1"
      ],
      "text/plain": [
       "<IPython.core.display.HTML object>"
      ]
     },
     "metadata": {},
     "output_type": "display_data"
    },
    {
     "data": {
      "text/html": [
       "Run data is saved locally in <code>/run/media/antonp/Daten/Dev/mlmvn_pytorch/mlmvn/nbs/examples/autass/wandb/run-20220913_182711-2bhy3n4c</code>"
      ],
      "text/plain": [
       "<IPython.core.display.HTML object>"
      ]
     },
     "metadata": {},
     "output_type": "display_data"
    },
    {
     "data": {
      "text/html": [
       "Syncing run <strong><a href=\"https://wandb.ai/antonpf/SDD-mlmvn/runs/2bhy3n4c\" target=\"_blank\">eager-armadillo-15</a></strong> to <a href=\"https://wandb.ai/antonpf/SDD-mlmvn\" target=\"_blank\">Weights & Biases</a> (<a href=\"https://wandb.me/run\" target=\"_blank\">docs</a>)<br/>"
      ],
      "text/plain": [
       "<IPython.core.display.HTML object>"
      ]
     },
     "metadata": {},
     "output_type": "display_data"
    },
    {
     "name": "stdout",
     "output_type": "stream",
     "text": [
      "Epoch 9 loss is 0.02868753717197222\n",
      "Epoch 19 loss is 0.024206067677403572\n",
      "Epoch 29 loss is 0.026760341788020104\n",
      "Epoch 39 loss is 0.027146450485628706\n",
      "Epoch 49 loss is 0.02521556296025377\n",
      "Epoch 59 loss is 0.026459431802319747\n",
      "Epoch 69 loss is 0.025464020568984592\n",
      "Epoch 79 loss is 0.025356624387098445\n",
      "Epoch 89 loss is 0.025717462035970404\n",
      "Epoch 99 loss is 0.02667336908638915\n",
      "Epoch 109 loss is 0.027087383284956256\n",
      "Epoch 119 loss is 0.029282985835724105\n",
      "Epoch 129 loss is 0.028914905926814383\n",
      "Epoch 139 loss is 0.029572675112530124\n",
      "Epoch 149 loss is 0.028363622785860267\n",
      "Epoch 159 loss is 0.03134395028021653\n",
      "Epoch 169 loss is 0.02959949097499508\n",
      "Epoch 179 loss is 0.031079704940657923\n",
      "Epoch 189 loss is 0.0327633203448539\n",
      "Epoch 199 loss is 0.03458949387064709\n"
     ]
    },
    {
     "data": {
      "image/png": "[encoded data removed]",
      "text/plain": [
       "<Figure size 800x400 with 1 Axes>"
      ]
     },
     "metadata": {},
     "output_type": "display_data"
    },
    {
     "name": "stdout",
     "output_type": "stream",
     "text": [
      "Train Acc.:  0.983805841006687\n",
      "Val Acc.:  0.9724833361818492\n",
      "              precision    recall  f1-score   support\n",
      "\n",
      "           0       0.99      0.98      0.99      1064\n",
      "           1       0.96      0.97      0.96      1064\n",
      "           2       1.00      0.99      0.99      1064\n",
      "           3       1.00      0.99      0.99      1064\n",
      "           4       0.97      0.96      0.97      1064\n",
      "           5       0.98      0.97      0.97      1064\n",
      "           6       0.98      0.96      0.97      1063\n",
      "           7       1.00      1.00      1.00      1064\n",
      "           8       1.00      1.00      1.00      1063\n",
      "           9       0.98      0.97      0.98      1064\n",
      "          10       0.99      0.98      0.98      1064\n",
      "\n",
      "   micro avg       0.99      0.98      0.98     11702\n",
      "   macro avg       0.99      0.98      0.98     11702\n",
      "weighted avg       0.99      0.98      0.98     11702\n",
      " samples avg       0.98      0.98      0.98     11702\n",
      "\n"
     ]
    }
   ],
   "source": [
    "sss = StratifiedShuffleSplit(n_splits=5, test_size=0.2, random_state=42)\n",
    "list_acc = []\n",
    "list_loss = []\n",
    "for train_index, test_index in sss.split(X, y):\n",
    "    model_dict: dict = {}\n",
    "    x_train, x_valid, y_train, y_valid = get_splitted_data_by_index(\n",
    "        X, y, neuronCats, train_index, test_index\n",
    "    )\n",
    "    losses, scores = fit(\n",
    "        model,\n",
    "        x_train,\n",
    "        y_train,\n",
    "        epochs=epochs,\n",
    "        batch_size=batch_size,\n",
    "        optimizer=optimizer,\n",
    "        criterion=criterion,\n",
    "        categories=categories,\n",
    "        periodicity=periodicity,\n",
    "    )\n",
    "\n",
    "    model.load_state_dict(torch.load(PATH))\n",
    "\n",
    "    plot_loss(\n",
    "        \"CVNN - Autass\",\n",
    "        losses,\n",
    "        scores,\n",
    "    )\n",
    "\n",
    "    list_acc.append(scores)\n",
    "    list_loss.append(losses)\n",
    "\n",
    "    y_pred = model.predict(x_train)\n",
    "    acc = accuracy(y_pred.squeeze(), y_train)\n",
    "    print(\"Train Acc.: \", acc)\n",
    "\n",
    "    y_pred = model.predict(x_valid)\n",
    "    acc = accuracy(y_pred.squeeze(), y_valid)\n",
    "    print(\"Val Acc.: \", acc)\n",
    "\n",
    "    print(classification_report(y_valid, y_pred.detach().numpy(), zero_division=0))"
   ]
  },
  {
   "cell_type": "code",
   "execution_count": null,
   "metadata": {},
   "outputs": [
    {
     "data": {
      "image/png": "[encoded data removed]",
      "text/plain": [
       "<Figure size 1000x300 with 1 Axes>"
      ]
     },
     "metadata": {},
     "output_type": "display_data"
    }
   ],
   "source": [
    "title = \"MLMVN 48-100-100-11\"\n",
    "image_name = \"results/MLMVN_48-100-11.png\"\n",
    "plot_loss_acc_list(title, list_loss, list_acc, image_name)"
   ]
  },
  {
   "cell_type": "markdown",
   "metadata": {},
   "source": [
    "## Plot Model Weights"
   ]
  },
  {
   "cell_type": "code",
   "execution_count": null,
   "metadata": {},
   "outputs": [],
   "source": [
    "# for key in model_dict:\n",
    "#     print(key)\n",
    "#     list_weights = model_dict[key][\"weights\"]\n",
    "#     list_bias = model_dict[key][\"bias\"]\n",
    "\n",
    "#     weights = []\n",
    "#     biases = []\n",
    "#     for weight, bias in zip(list_weights, list_bias):\n",
    "#         # test = list_weights[0][0].flatten() + list_weights[0][1].flatten()\n",
    "#         weights.append(np.concatenate([weight.flatten()]))\n",
    "#         biases.append(np.concatenate([bias.flatten()]))\n",
    "\n",
    "#     weights_real = np.real(weights)\n",
    "#     weights_imag = np.imag(weights)\n",
    "\n",
    "#     weights_mag = np.abs(weights)\n",
    "#     weights_angle = np.angle(weights)\n",
    "\n",
    "#     bias_real = np.real(biases)\n",
    "#     bias_imag = np.imag(biases)\n",
    "\n",
    "#     bias_mag = np.abs(biases)\n",
    "#     bias_angle = np.angle(biases)\n",
    "\n",
    "#     plot_weights(str(key)+\" weights\", \"Weights [Re]\", \"Weigths [Imag]\", weights_real, weights_imag)\n",
    "#     plot_weights(str(key)+\" bias\", \"Bias [Re]\", \"Bias [Imag]\", bias_real, bias_imag)\n",
    "#     plot_weights(str(key)+\" bias\", \"Bias [Re]\", \"Bias [Imag]\", weights_mag, weights_angle)\n",
    "#     plot_weights(str(key)+\" bias\", \"Bias [Re]\", \"Bias [Imag]\", bias_mag, bias_angle)"
   ]
  }
 ],
 "metadata": {
  "kernelspec": {
   "display_name": "Python 3.9.13 ('mlmvn')",
   "language": "python",
   "name": "python3"
  }
 },
 "nbformat": 4,
 "nbformat_minor": 2
}
