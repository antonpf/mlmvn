{
 "cells": [
  {
   "cell_type": "code",
   "execution_count": null,
   "metadata": {},
   "outputs": [],
   "source": [
    "# hide\n",
    "from nbdev.showdoc import show_doc"
   ]
  },
  {
   "cell_type": "markdown",
   "metadata": {},
   "source": [
    "# Glass Identification\n",
    "> In this example, we will use a standard imbalanced machine learning dataset referred to as the “Glass Identification” dataset."
   ]
  },
  {
   "cell_type": "markdown",
   "metadata": {},
   "source": [
    "The dataset describes the chemical properties of glass and involves classifying samples of glass using their chemical properties as one of seven classes. There are nine input variables that summarize the properties\n",
    "- **RI:** refractive index\n",
    "- **Na:** Sodium (unit measurement: weight percent in corresponding oxide, as are attributes 4-10)\n",
    "- **Mg:** Magnesium\n",
    "- **Al:** Aluminum\n",
    "- **Si:** Silicon\n",
    "- **K:** Potassium\n",
    "- **Ca:** Calcium\n",
    "- **Ba:** Barium\n",
    "- **Fe:** Iron\n",
    "\n",
    "The chemical compositions are measured as the weight percent in corresponding oxide. There are seven types of glass listed (class attribute)\n",
    "- **1:** building_windows_float_processed\n",
    "- **2:** building_windows_non_float_processed\n",
    "- **3:** vehicle_windows_float_processed\n",
    "- **4:** vehicle_windows_non_float_processed (none in this database)\n",
    "- **5:** containers\n",
    "- **6:** tableware\n",
    "- **7:** headlamps"
   ]
  },
  {
   "cell_type": "markdown",
   "metadata": {},
   "source": [
    "## Setup"
   ]
  },
  {
   "cell_type": "code",
   "execution_count": null,
   "metadata": {},
   "outputs": [],
   "source": [
    "import torch\n",
    "import numpy as np\n",
    "import pandas as pd\n",
    "import matplotlib.pyplot as plt\n",
    "\n",
    "from sklearn.preprocessing import StandardScaler, LabelEncoder\n",
    "from sklearn.model_selection import (\n",
    "    LeaveOneOut,\n",
    "    RepeatedStratifiedKFold,\n",
    "    cross_val_score,\n",
    ")\n",
    "\n",
    "from sklearn.svm import SVC\n",
    "from sklearn.neighbors import KNeighborsClassifier\n",
    "from sklearn.ensemble import RandomForestClassifier\n",
    "from sklearn.ensemble import ExtraTreesClassifier\n",
    "from sklearn.ensemble import BaggingClassifier\n",
    "\n",
    "from res.utils import find_project_root\n",
    "from res.datasets import get_glass\n",
    "from res.metrics import accuracy"
   ]
  },
  {
   "cell_type": "markdown",
   "metadata": {},
   "source": [
    "## Define Variables"
   ]
  },
  {
   "cell_type": "code",
   "execution_count": null,
   "metadata": {},
   "outputs": [],
   "source": [
    "PROJECT_ROOT = find_project_root()\n",
    "USE_LOCAL_DATA = False\n",
    "SEED: int = 42\n",
    "DATA_SOURCE_DIRECTORY: str = \"data/glass\"\n",
    "MODEL_TEST_SIZE: float = 0.2\n",
    "MODEL_LEARNING_RATE: float = 0.001\n",
    "MODEL_EPOCHS: int = 10\n",
    "MODEL_BATCH_SIZE: int = 120"
   ]
  },
  {
   "cell_type": "markdown",
   "metadata": {},
   "source": [
    "## Load Dataset"
   ]
  },
  {
   "cell_type": "code",
   "execution_count": null,
   "metadata": {},
   "outputs": [],
   "source": [
    "X, y = get_glass(USE_LOCAL_DATA)"
   ]
  },
  {
   "cell_type": "markdown",
   "metadata": {},
   "source": [
    "## Prepare data"
   ]
  },
  {
   "cell_type": "code",
   "execution_count": null,
   "metadata": {},
   "outputs": [],
   "source": [
    "scaler = StandardScaler()\n",
    "X_scaled = scaler.fit_transform(X)\n",
    "\n",
    "# linear scaling of real-valued inputs to complex-valued inputs (on unit circle)\n",
    "def transform(data, alpha=2 * np.pi):\n",
    "    for feature in range(data.shape[1]):\n",
    "        a = np.min(data[:, feature])\n",
    "        b = np.max(data[:, feature])\n",
    "        data[:, feature] = ((data[:, feature] - a) / (b - a)) * alpha\n",
    "        # ((1.52101 - a) / ( b - a )) * ((2 * np.pi) - (np.pi /8)  ) ????\n",
    "    # data = np.round(data, 3)\n",
    "    # return np.exp(1.j * np.remainder(data, 2*np.pi))\n",
    "    return np.exp(1.0j * data)\n",
    "\n",
    "\n",
    "def transform_unitCircle(data):\n",
    "    return np.exp(1.0j * np.remainder(data, 2 * np.pi))\n",
    "\n",
    "\n",
    "if USE_LOCAL_DATA:\n",
    "    X_scaled = transform(X, alpha=2 * np.pi - np.pi / 8)\n",
    "else:\n",
    "    X_scaled = transform_unitCircle(X)"
   ]
  },
  {
   "cell_type": "code",
   "execution_count": null,
   "metadata": {},
   "outputs": [],
   "source": [
    "# one-hot-encoding for MVN\n",
    "numSamples, numFeatures = X.shape\n",
    "y2 = y + 1  # auxiliary variable so that classes start at 1 and not 0\n",
    "neuronCats = 6  # parameter that determines the number of output neurons\n",
    "no = int(np.ceil(max(y2) / neuronCats))  # number of output neurons\n",
    "if no != 1:\n",
    "    y = torch.zeros(numSamples, no)\n",
    "    for i in range(numSamples):\n",
    "        k = int(np.ceil(y2[i] / neuronCats)) - 1\n",
    "        c = np.mod((y2[i] - 1), neuronCats) + 1\n",
    "        y[i, k] = c"
   ]
  },
  {
   "cell_type": "markdown",
   "metadata": {},
   "source": [
    "### EDA"
   ]
  },
  {
   "cell_type": "markdown",
   "metadata": {},
   "source": [
    "#### Feature Distributions"
   ]
  },
  {
   "cell_type": "code",
   "execution_count": null,
   "metadata": {},
   "outputs": [
    {
     "data": {
      "image/png": "[encoded data removed]",
      "text/plain": [
       "<Figure size 640x480 with 1 Axes>"
      ]
     },
     "metadata": {},
     "output_type": "display_data"
    }
   ],
   "source": [
    "# hide_input\n",
    "plt.boxplot(X)\n",
    "plt.xlabel(\"Features\")\n",
    "plt.ylabel(\"X - Scaled\")\n",
    "plt.title(\"Feature Distributions\")\n",
    "plt.grid()\n",
    "plt.show()"
   ]
  },
  {
   "cell_type": "markdown",
   "metadata": {},
   "source": [
    "#### Class Distributions"
   ]
  },
  {
   "cell_type": "code",
   "execution_count": null,
   "metadata": {},
   "outputs": [
    {
     "name": "stdout",
     "output_type": "stream",
     "text": [
      "Class = 5, Count = 29, Percentage = 13.551%\n",
      "Class = 0, Count = 70, Percentage = 32.710%\n",
      "Class = 1, Count = 76, Percentage = 35.514%\n",
      "Class = 4, Count =  9, Percentage = 4.206%\n",
      "Class = 3, Count = 13, Percentage = 6.075%\n",
      "Class = 2, Count = 17, Percentage = 7.944%\n"
     ]
    }
   ],
   "source": [
    "# hide_input\n",
    "from collections import Counter\n",
    "\n",
    "counter = Counter(y)\n",
    "for k, v in counter.items():\n",
    "    per = v / len(y) * 100\n",
    "    print(\"Class =%2d, Count =%3d, Percentage = %.3f%%\" % (k, v, per))"
   ]
  },
  {
   "cell_type": "markdown",
   "metadata": {},
   "source": [
    "\n",
    "## Support Vector Machine (SVM), k-Nearest Neighbors (KNN), Bagged Decision Trees (BAG), Random Forest (RF), Extra Trees (ET)"
   ]
  },
  {
   "cell_type": "code",
   "execution_count": null,
   "metadata": {},
   "outputs": [],
   "source": [
    "# hide_input\n",
    "\n",
    "# evaluate a model\n",
    "def evaluate_model(X, y, model, cv):\n",
    "    # evaluate model\n",
    "    scores = cross_val_score(model, X, y, scoring=\"accuracy\", cv=cv, n_jobs=-1)\n",
    "    return scores\n",
    "\n",
    "\n",
    "# define models to test\n",
    "def get_models():\n",
    "    models, names = list(), list()\n",
    "    # SVM\n",
    "    models.append(SVC(gamma=\"auto\"))\n",
    "    names.append(\"SVM\")\n",
    "    # KNN\n",
    "    models.append(KNeighborsClassifier())\n",
    "    names.append(\"KNN\")\n",
    "    # # Bagging\n",
    "    models.append(BaggingClassifier(n_estimators=1000))\n",
    "    names.append(\"BAG\")\n",
    "    # RF\n",
    "    models.append(RandomForestClassifier(n_estimators=1000))\n",
    "    names.append(\"RF\")\n",
    "    # # ET\n",
    "    models.append(ExtraTreesClassifier(n_estimators=1000))\n",
    "    names.append(\"ET\")\n",
    "    return models, names"
   ]
  },
  {
   "cell_type": "markdown",
   "metadata": {},
   "source": [
    "## Stratified k-Fold Cross-Validation"
   ]
  },
  {
   "cell_type": "code",
   "execution_count": null,
   "metadata": {},
   "outputs": [],
   "source": [
    "rskf = RepeatedStratifiedKFold(n_splits=5, n_repeats=3, random_state=42)"
   ]
  },
  {
   "cell_type": "code",
   "execution_count": null,
   "metadata": {},
   "outputs": [
    {
     "name": "stdout",
     "output_type": "stream",
     "text": [
      ">SVM 0.662 (0.055)\n",
      ">KNN 0.662 (0.080)\n",
      ">BAG 0.755 (0.061)\n",
      ">RF 0.796 (0.058)\n",
      ">ET 0.793 (0.041)\n"
     ]
    }
   ],
   "source": [
    "# define models\n",
    "models, names = get_models()\n",
    "results = list()\n",
    "# evaluate each model\n",
    "for i in range(len(models)):\n",
    "    # evaluate the model and store results\n",
    "    scores = evaluate_model(X, y.ravel(), models[i], rskf)\n",
    "    results.append(scores)\n",
    "    # summarize performance\n",
    "    print(\">%s %.3f (%.3f)\" % (names[i], mean(scores), std(scores)))"
   ]
  },
  {
   "cell_type": "code",
   "execution_count": null,
   "metadata": {},
   "outputs": [
    {
     "data": {
      "image/png": "[encoded data removed]",
      "text/plain": [
       "<Figure size 640x480 with 1 Axes>"
      ]
     },
     "metadata": {},
     "output_type": "display_data"
    }
   ],
   "source": [
    "# plot the results\n",
    "plt.boxplot(results, labels=names, showmeans=True)\n",
    "plt.grid()\n",
    "plt.show()"
   ]
  },
  {
   "cell_type": "markdown",
   "metadata": {},
   "source": [
    "### Models"
   ]
  },
  {
   "cell_type": "code",
   "execution_count": null,
   "metadata": {},
   "outputs": [],
   "source": [
    "# hide\n",
    "# Add mlmvn results\n",
    "names.append(\"MLMVN\")\n",
    "results.append(scores_test)"
   ]
  },
  {
   "cell_type": "markdown",
   "metadata": {},
   "source": [
    "#### MLMVN"
   ]
  },
  {
   "cell_type": "code",
   "execution_count": null,
   "metadata": {},
   "outputs": [
    {
     "data": {
      "text/plain": [
       "214"
      ]
     },
     "execution_count": null,
     "metadata": {},
     "output_type": "execute_result"
    }
   ],
   "source": [
    "# hide\n",
    "ns, ni = X.shape\n",
    "\n",
    "# Training loop\n",
    "epochs = 100  # how many epochs to train for\n",
    "bs = 300  # batch size\n",
    "loss_vals = []\n",
    "acc_vals = []\n",
    "\n",
    "scores_train = []\n",
    "scores_test = []\n",
    "classif_ratesum = 0\n",
    "\n",
    "loo = LeaveOneOut()\n",
    "loo.get_n_splits(X)\n",
    "\n",
    "# log_param(\"epochs\", epo\n",
    "# chs)\n",
    "# log_param(\"batch size\", bs)"
   ]
  },
  {
   "cell_type": "code",
   "execution_count": null,
   "metadata": {},
   "outputs": [
    {
     "name": "stdout",
     "output_type": "stream",
     "text": [
      "Epoch:     0 -------------- |\n",
      "loss: 4.11741  [0/171]\n",
      "Epoch:    25 -------------- |\n",
      "loss: 0.42983  [0/171]\n",
      "Epoch:    50 -------------- |\n",
      "loss: 0.36630  [0/171]\n",
      "Epoch:    75 -------------- |\n",
      "loss: 0.28856  [0/171]\n",
      "Train Accuracy:  0.8304093567251462\n",
      "Test Accuracy:  0.46511627906976744\n",
      "Epoch:     0 -------------- |\n",
      "loss: 2.38649  [0/171]\n",
      "Epoch:    25 -------------- |\n",
      "loss: 0.48131  [0/171]\n",
      "Epoch:    50 -------------- |\n",
      "loss: 0.26562  [0/171]\n",
      "Epoch:    75 -------------- |\n",
      "loss: 0.27163  [0/171]\n",
      "Train Accuracy:  0.8538011695906432\n",
      "Test Accuracy:  0.5116279069767442\n",
      "Epoch:     0 -------------- |\n",
      "loss: 1.47664  [0/171]\n",
      "Epoch:    25 -------------- |\n",
      "loss: 0.29869  [0/171]\n",
      "Epoch:    50 -------------- |\n",
      "loss: 0.29174  [0/171]\n",
      "Epoch:    75 -------------- |\n",
      "loss: 0.20116  [0/171]\n",
      "Train Accuracy:  0.8128654970760234\n",
      "Test Accuracy:  0.627906976744186\n",
      "Epoch:     0 -------------- |\n",
      "loss: 3.74723  [0/171]\n",
      "Epoch:    25 -------------- |\n",
      "loss: 0.34983  [0/171]\n",
      "Epoch:    50 -------------- |\n",
      "loss: 0.28350  [0/171]\n",
      "Epoch:    75 -------------- |\n",
      "loss: 0.16216  [0/171]\n",
      "Train Accuracy:  0.8654970760233918\n",
      "Test Accuracy:  0.6744186046511628\n",
      "Epoch:     0 -------------- |\n",
      "loss: 5.27221  [0/172]\n",
      "Epoch:    25 -------------- |\n",
      "loss: 0.40942  [0/172]\n",
      "Epoch:    50 -------------- |\n",
      "loss: 0.35493  [0/172]\n",
      "Epoch:    75 -------------- |\n",
      "loss: 0.18865  [0/172]\n",
      "Train Accuracy:  0.8546511627906976\n",
      "Test Accuracy:  0.5714285714285714\n",
      "Epoch:     0 -------------- |\n",
      "loss: 5.07559  [0/171]\n",
      "Epoch:    25 -------------- |\n",
      "loss: 0.41999  [0/171]\n",
      "Epoch:    50 -------------- |\n",
      "loss: 0.37412  [0/171]\n",
      "Epoch:    75 -------------- |\n",
      "loss: 0.21947  [0/171]\n",
      "Train Accuracy:  0.847953216374269\n",
      "Test Accuracy:  0.6046511627906976\n",
      "Epoch:     0 -------------- |\n",
      "loss: 3.19650  [0/171]\n",
      "Epoch:    25 -------------- |\n",
      "loss: 0.40772  [0/171]\n",
      "Epoch:    50 -------------- |\n",
      "loss: 0.43728  [0/171]\n",
      "Epoch:    75 -------------- |\n",
      "loss: 0.28454  [0/171]\n",
      "Train Accuracy:  0.8596491228070176\n",
      "Test Accuracy:  0.6046511627906976\n",
      "Epoch:     0 -------------- |\n",
      "loss: 2.50369  [0/171]\n",
      "Epoch:    25 -------------- |\n",
      "loss: 0.41564  [0/171]\n",
      "Epoch:    50 -------------- |\n",
      "loss: 0.28971  [0/171]\n",
      "Epoch:    75 -------------- |\n",
      "loss: 0.28884  [0/171]\n",
      "Train Accuracy:  0.8304093567251462\n",
      "Test Accuracy:  0.6511627906976745\n",
      "Epoch:     0 -------------- |\n",
      "loss: 2.23878  [0/171]\n",
      "Epoch:    25 -------------- |\n",
      "loss: 0.40334  [0/171]\n",
      "Epoch:    50 -------------- |\n",
      "loss: 0.18318  [0/171]\n",
      "Epoch:    75 -------------- |\n",
      "loss: 0.10724  [0/171]\n",
      "Train Accuracy:  0.8362573099415205\n",
      "Test Accuracy:  0.3488372093023256\n",
      "Epoch:     0 -------------- |\n",
      "loss: 1.93348  [0/172]\n",
      "Epoch:    25 -------------- |\n",
      "loss: 0.34224  [0/172]\n",
      "Epoch:    50 -------------- |\n",
      "loss: 0.27873  [0/172]\n",
      "Epoch:    75 -------------- |\n",
      "loss: 0.13336  [0/172]\n",
      "Train Accuracy:  0.8081395348837209\n",
      "Test Accuracy:  0.5952380952380952\n",
      "Epoch:     0 -------------- |\n",
      "loss: 3.86590  [0/171]\n",
      "Epoch:    25 -------------- |\n",
      "loss: 0.26126  [0/171]\n",
      "Epoch:    50 -------------- |\n",
      "loss: 0.20157  [0/171]\n",
      "Epoch:    75 -------------- |\n",
      "loss: 0.23620  [0/171]\n",
      "Train Accuracy:  0.8538011695906432\n",
      "Test Accuracy:  0.4883720930232558\n",
      "Epoch:     0 -------------- |\n",
      "loss: 4.09745  [0/171]\n",
      "Epoch:    25 -------------- |\n",
      "loss: 0.53568  [0/171]\n",
      "Epoch:    50 -------------- |\n",
      "loss: 0.39230  [0/171]\n",
      "Epoch:    75 -------------- |\n",
      "loss: 0.32749  [0/171]\n",
      "Train Accuracy:  0.8187134502923976\n",
      "Test Accuracy:  0.46511627906976744\n",
      "Epoch:     0 -------------- |\n",
      "loss: 4.03841  [0/171]\n",
      "Epoch:    25 -------------- |\n",
      "loss: 0.42303  [0/171]\n",
      "Epoch:    50 -------------- |\n",
      "loss: 0.37658  [0/171]\n",
      "Epoch:    75 -------------- |\n",
      "loss: 0.31350  [0/171]\n",
      "Train Accuracy:  0.8187134502923976\n",
      "Test Accuracy:  0.7209302325581395\n",
      "Epoch:     0 -------------- |\n",
      "loss: 4.76589  [0/171]\n",
      "Epoch:    25 -------------- |\n",
      "loss: 0.25468  [0/171]\n",
      "Epoch:    50 -------------- |\n",
      "loss: 0.31862  [0/171]\n",
      "Epoch:    75 -------------- |\n",
      "loss: 0.25777  [0/171]\n",
      "Train Accuracy:  0.8362573099415205\n",
      "Test Accuracy:  0.6744186046511628\n",
      "Epoch:     0 -------------- |\n",
      "loss: 4.12557  [0/172]\n",
      "Epoch:    25 -------------- |\n",
      "loss: 0.41257  [0/172]\n",
      "Epoch:    50 -------------- |\n",
      "loss: 0.40114  [0/172]\n",
      "Epoch:    75 -------------- |\n",
      "loss: 0.20200  [0/172]\n",
      "Train Accuracy:  0.8488372093023255\n",
      "Test Accuracy:  0.5476190476190477\n"
     ]
    }
   ],
   "source": [
    "# hide\n",
    "rskf = RepeatedStratifiedKFold(n_splits=5, n_repeats=3, random_state=42)\n",
    "\n",
    "scores_train = []\n",
    "scores_test = []\n",
    "\n",
    "for train_index, test_index in rskf.split(X_scaled, y):\n",
    "    # print(\"TRAIN:\", train_index, \"TEST:\", test_index)\n",
    "    X_train, X_test = X_scaled[train_index], X_scaled[test_index]\n",
    "    y_train, y_test = y[train_index], y[test_index]\n",
    "\n",
    "    # Convert numpy arrays into torch tensors\n",
    "    X_train_t, y_train_t, X_test_t, y_test_t = map(\n",
    "        torch.tensor, (X_train, y_train, X_test, y_test)\n",
    "    )\n",
    "\n",
    "    # MVN\n",
    "    net = NeuralNet(\n",
    "        [\n",
    "            FirstHiddenLayer(input_size=ni, output_size=50),\n",
    "            CmplxActivation(),\n",
    "            # HiddenLayer(input_size = 50, output_size = 36),\n",
    "            # CmplxActivation(),\n",
    "            OutputLayer(input_size=50, output_size=no),\n",
    "            CmplxActivation(),\n",
    "        ]\n",
    "    )\n",
    "\n",
    "    # Define loss and optimizer\n",
    "    loss: Loss = RMSE(categories=6, periodicity=1)\n",
    "    optimizer: Optimizer = ECL()\n",
    "\n",
    "    for epoch in range(epochs):\n",
    "        epoch_loss = []\n",
    "        epoch_acc = []\n",
    "        for i in range((ns - 1) // bs + 1):\n",
    "            start_i = i * bs\n",
    "            end_i = start_i + bs\n",
    "            xb = X_train_t[start_i:end_i]\n",
    "            yb = y_train_t[start_i:end_i]\n",
    "\n",
    "            predicted = net.forward(xb)\n",
    "            angle = loss.angle(predicted, yb)  # delta calculation for the output layer\n",
    "            net.backward(angle)  # delta calculation for further layers\n",
    "            with torch.no_grad():\n",
    "                optimizer.step(net, bs)\n",
    "\n",
    "            epoch_loss.append(loss.loss_angles(predicted, yb))\n",
    "\n",
    "            if epoch % 25 == 0:\n",
    "                print(f\"Epoch: {epoch:>5d} -------------- |\")\n",
    "                print(f\"loss: {epoch_loss[-1]:>.5f}  [{start_i}/{len(X_train_t)}]\")\n",
    "        loss_vals.append(sum(epoch_loss) / len(epoch_loss))\n",
    "\n",
    "    predictions = torch.randn(y_train_t.shape, dtype=torch.double)\n",
    "    for x, i in zip(X_train_t, range(len(y_train_t))):\n",
    "        predicted = net.forward(x)\n",
    "        predictions[i] = loss.angle2class(predicted)\n",
    "\n",
    "    acc = accuracy(predictions, y_train_t)\n",
    "    scores_train.append(acc)\n",
    "    print(\"Train Accuracy: \", acc)\n",
    "\n",
    "    predictions = torch.randn(y_test_t.shape, dtype=torch.double)\n",
    "    for x, y_t, i in zip(X_test_t, y_test_t, range(len(y_test_t))):\n",
    "        predicted = net.forward(x)\n",
    "        predictions[i] = loss.angle2class(predicted)\n",
    "\n",
    "    acc = accuracy(predictions, y_test_t)\n",
    "    scores_test.append(acc)\n",
    "    print(\"Test Accuracy: \", acc)\n",
    "\n",
    "# log_metric(key=\"Mean Train Accuracy\", value=np.mean(scores_train))\n",
    "# log_metric(key=\"Mean Test Accuracy\", value=np.mean(scores_test))"
   ]
  },
  {
   "cell_type": "code",
   "execution_count": null,
   "metadata": {},
   "outputs": [
    {
     "name": "stdout",
     "output_type": "stream",
     "text": [
      "Train: 0.838 (0.018)\n",
      "Test: 0.570 (0.096)\n"
     ]
    }
   ],
   "source": [
    "# hide_input\n",
    "print(\"Train: %.3f (%.3f)\" % (np.mean(scores_train), np.std(scores_train)))\n",
    "print(\"Test: %.3f (%.3f)\" % (np.mean(scores_test), np.std(scores_test)))"
   ]
  },
  {
   "cell_type": "markdown",
   "metadata": {},
   "source": [
    "### Results"
   ]
  },
  {
   "cell_type": "code",
   "execution_count": null,
   "metadata": {},
   "outputs": [
    {
     "data": {
      "image/png": "[encoded data removed]",
      "text/plain": [
       "<Figure size 432x288 with 1 Axes>"
      ]
     },
     "metadata": {
      "needs_background": "light"
     },
     "output_type": "display_data"
    }
   ],
   "source": [
    "# hide_input\n",
    "# plot the results\n",
    "pyplot.boxplot(results, labels=names, showmeans=True)\n",
    "pyplot.grid()\n",
    "pyplot.show()"
   ]
  },
  {
   "cell_type": "markdown",
   "metadata": {},
   "source": [
    "## Leave One-Out Cross-Validation "
   ]
  },
  {
   "cell_type": "markdown",
   "metadata": {},
   "source": [
    "### Models"
   ]
  },
  {
   "cell_type": "markdown",
   "metadata": {},
   "source": [
    "#### MLMVN"
   ]
  },
  {
   "cell_type": "code",
   "execution_count": null,
   "metadata": {},
   "outputs": [],
   "source": [
    "ns, ni = X.shape\n",
    "\n",
    "# Training loop\n",
    "epochs = 1000  # how many epochs to train for\n",
    "bs = 300  # batch size\n",
    "loss_vals = []\n",
    "acc_vals = []\n",
    "\n",
    "scores_train = []\n",
    "scores_test = []\n",
    "classif_ratesum = 0\n",
    "\n",
    "loo = LeaveOneOut()\n",
    "loo.get_n_splits(X)\n",
    "\n",
    "log_param(\"epochs\", epochs)\n",
    "log_param(\"batch size\", bs)"
   ]
  },
  {
   "cell_type": "code",
   "execution_count": null,
   "metadata": {},
   "outputs": [],
   "source": [
    "for train_index, test_index in loo.split(X_scaled):\n",
    "    # print(\"TRAIN:\", train_index, \"TEST:\", test_index)\n",
    "    X_train, X_test = X_scaled[train_index], X_scaled[test_index]\n",
    "    y_train, y_test = y[train_index], y[test_index]\n",
    "\n",
    "    # Convert numpy arrays into torch tensors\n",
    "    X_train, y_train, X_test, y_test = map(\n",
    "        torch.tensor, (X_train, y_train, X_test, y_test)\n",
    "    )\n",
    "\n",
    "    # mlmvn\n",
    "    model = NeuralNet(\n",
    "        [\n",
    "            FirstHiddenLayer(input_size=ni, output_size=36),\n",
    "            CmplxActivation(),\n",
    "            # HiddenLayer(input_size = 36, output_size = 2),\n",
    "            # CmplxActivation(),\n",
    "            OutputLayer(input_size=36, output_size=no),\n",
    "            CmplxActivation(),\n",
    "        ]\n",
    "    )\n",
    "    # model.load('mlmvn_debug_matlab_weights')\n",
    "\n",
    "    # Define loss and optimizer\n",
    "    loss: Loss = RMSE(categories=6, periodicity=1)\n",
    "    optimizer: Optimizer = ECL()\n",
    "\n",
    "    for epoch in range(epochs):\n",
    "        epoch_loss = []\n",
    "        epoch_acc = []\n",
    "        # print(f\"Epoch: {epoch:>5d} -------------- |\")\n",
    "        for i in range((ns - 1) // bs + 1):\n",
    "            start_i = i * bs\n",
    "            end_i = start_i + bs\n",
    "            xb = X_train[start_i:end_i]\n",
    "            yb = y_train[start_i:end_i]\n",
    "\n",
    "            predicted = model.forward(xb)\n",
    "            angle = loss.angle(predicted, yb)  # delta calculation for the output layer\n",
    "            model.backward(angle)  # delta calculation for further layers\n",
    "            with torch.no_grad():\n",
    "                optimizer.step(model, xb.size(0))  # bs\n",
    "\n",
    "            epoch_loss.append(loss.loss_angles(predicted, yb))\n",
    "            # if i % 100 == 0:\n",
    "            #     print(f\"loss: {epoch_loss[-1]:>.5f}  [{start_i}/{len(X_train)}]\")\n",
    "        loss_vals.append(sum(epoch_loss) / len(epoch_loss))\n",
    "        log_metric(key=\"Epoch loss\", value=loss_vals[-1], step=epoch)\n",
    "\n",
    "    print(f\"Leave one out at index {test_index[0]:>5d} -------------- |\")\n",
    "\n",
    "    predictions = torch.randn(y_train.shape, dtype=torch.double)\n",
    "    for x, i in zip(X_train, range(len(y_train))):\n",
    "        predicted = model.forward(x)\n",
    "        predictions[i] = loss.angle2class(predicted)\n",
    "        # valid_loss = loss.loss(predicted, y_t)\n",
    "\n",
    "    acc = accuracy(predictions, y_train)\n",
    "    scores_train.append(acc)\n",
    "    log_metric(key=\"Train Accuracy\", value=acc, step=epoch)\n",
    "    print(\"Train Accuracy: \", acc)\n",
    "\n",
    "    predictions = torch.randn(y_test.shape, dtype=torch.double)\n",
    "    for x, y_t, i in zip(X_test, y_test, range(len(y_test))):\n",
    "        predicted = model.forward(x)\n",
    "        predictions[i] = loss.angle2class(predicted)\n",
    "        # valid_loss = loss.loss(predicted, y_t)\n",
    "\n",
    "    acc = accuracy(predictions, y_test)\n",
    "    scores_test.append(acc)\n",
    "    print(\"Test Accuracy: \", acc)"
   ]
  },
  {
   "cell_type": "code",
   "execution_count": null,
   "metadata": {},
   "outputs": [],
   "source": [
    "log_metric(key=\"Mean Train Accuracy\", value=np.mean(scores_train))\n",
    "log_metric(key=\"Mean Test Accuracy\", value=np.mean(scores_test))\n",
    "print(\"Train: %.3f (%.3f)\" % (np.mean(scores_train), np.std(scores_train)))\n",
    "print(\"Test: %.3f (%.3f)\" % (np.mean(scores_test), np.std(scores_test)))\n",
    "print(\"\\Glass test end ...\")"
   ]
  }
 ],
 "metadata": {
  "kernelspec": {
   "display_name": "python3",
   "language": "python",
   "name": "python3"
  }
 },
 "nbformat": 4,
 "nbformat_minor": 2
}
