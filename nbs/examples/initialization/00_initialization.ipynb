{
 "cells": [
  {
   "cell_type": "code",
   "execution_count": null,
   "metadata": {},
   "outputs": [
    {
     "name": "stderr",
     "output_type": "stream",
     "text": [
      "/home/antonp/anaconda3/envs/cplxmodule/lib/python3.10/site-packages/tqdm/auto.py:22: TqdmWarning: IProgress not found. Please update jupyter and ipywidgets. See https://ipywidgets.readthedocs.io/en/stable/user_install.html\n",
      "  from .autonotebook import tqdm as notebook_tqdm\n"
     ]
    }
   ],
   "source": [
    "import numpy as np\n",
    "import torch\n",
    "import torch.nn.functional as F\n",
    "from cplxmodule import cplx\n",
    "from cplxmodule.nn import init, CplxLinear, CplxConv2d"
   ]
  },
  {
   "cell_type": "code",
   "execution_count": null,
   "metadata": {},
   "outputs": [],
   "source": [
    "def randn(shape):\n",
    "    return torch.randn(shape, dtype=torch.double)"
   ]
  },
  {
   "cell_type": "code",
   "execution_count": null,
   "metadata": {},
   "outputs": [],
   "source": [
    "sx = 32, 12, 31, 47\n",
    "sw = 7, 12, 7, 11\n",
    "\n",
    "x = cplx.Cplx(randn(sx), randn(sx))\n",
    "w = cplx.Cplx(randn(sw), randn(sw))\n",
    "b = cplx.Cplx(randn(sw[0]), randn(sw[0]))\n",
    "\n",
    "# do the 2d convo manually\n",
    "re = F.conv2d(x.real, w.real, bias=b.real) - F.conv2d(x.imag, w.imag, bias=None)\n",
    "im = F.conv2d(x.real, w.imag, bias=b.imag) + F.conv2d(x.imag, w.real, bias=None)\n",
    "\n",
    "# use the function from cplx\n",
    "cc = cplx.conv2d(x, w, bias=b)"
   ]
  },
  {
   "cell_type": "code",
   "execution_count": null,
   "metadata": {},
   "outputs": [],
   "source": [
    "def cplx_trabelsi_independent_(mod):\n",
    "    if not hasattr(mod, \"weight\"):\n",
    "        return\n",
    "\n",
    "    # Trabelsi orthogonal weight initializer\n",
    "    if isinstance(mod.weight, cplx):\n",
    "        init.cplx_trabelsi_independent_(mod.weight)"
   ]
  },
  {
   "cell_type": "code",
   "execution_count": null,
   "metadata": {},
   "outputs": [],
   "source": [
    "import torch\n",
    "import numpy as np\n",
    "\n",
    "from cplxmodule import Cplx\n",
    "from cplxmodule.nn import init, CplxLinear, CplxConv2d\n",
    "\n",
    "\n",
    "def cplx_trabelsi_independent_(mod):\n",
    "    if not hasattr(mod, \"weight\"):\n",
    "        return\n",
    "\n",
    "    # Trabelsi orthogonal weight initializer\n",
    "    if isinstance(mod.weight, Cplx):\n",
    "        init.cplx_trabelsi_independent_(mod.weight)\n",
    "\n",
    "\n",
    "# a model with some structure\n",
    "module = torch.nn.ModuleDict(\n",
    "    {\n",
    "        \"linear\": CplxLinear(11, 17),\n",
    "        \"conv\": CplxConv2d(13, 19, 5),\n",
    "    }\n",
    ").double()\n",
    "\n",
    "# standard torch functionality `module.apply`\n",
    "module.apply(cplx_trabelsi_independent_)\n",
    "\n",
    "# according to Trabelsi et al. (2018) the reshaped weight bust be an almost unitary matrix\n",
    "w = module[\"conv\"].weight\n",
    "m = w.reshape(w.shape[:2].numel(), w.shape[2:].numel()).detach().numpy()\n",
    "mHm = m.conjugate().T @ m"
   ]
  }
 ],
 "metadata": {
  "kernelspec": {
   "display_name": "python3",
   "language": "python",
   "name": "python3"
  }
 },
 "nbformat": 4,
 "nbformat_minor": 2
}
