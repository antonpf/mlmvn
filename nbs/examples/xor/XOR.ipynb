{
 "cells": [
  {
   "cell_type": "code",
   "execution_count": null,
   "metadata": {},
   "outputs": [],
   "source": [
    "# import libraries \n",
    "import torch\n",
    "import torch.nn as nn\n",
    "from torch.autograd import Variable"
   ]
  },
  {
   "cell_type": "code",
   "execution_count": null,
   "metadata": {},
   "outputs": [],
   "source": [
    "# create data\n",
    "Xs = torch.Tensor([[0., 0.],\n",
    "               [0., 1.],\n",
    "               [1., 0.],\n",
    "               [1., 1.]])\n",
    "\n",
    "y = torch.Tensor([0., 1., 1., 0.]).reshape(Xs.shape[0], 1)"
   ]
  },
  {
   "cell_type": "code",
   "execution_count": null,
   "metadata": {},
   "outputs": [],
   "source": [
    "class XOR(nn.Module):\n",
    "    def __init__(self):\n",
    "        super(XOR, self).__init__()\n",
    "        self.linear = nn.Linear(2, 2)\n",
    "        self.Sigmoid = nn.Sigmoid()\n",
    "        self.linear2 = nn.Linear(2, 1)\n",
    "\n",
    "    def forward(self, input):\n",
    "      x = self.linear(input)\n",
    "      sig = self.Sigmoid(x)\n",
    "      yh = self.linear2(sig)\n",
    "      return yh"
   ]
  },
  {
   "cell_type": "code",
   "execution_count": null,
   "metadata": {},
   "outputs": [],
   "source": [
    "xor_network = XOR()"
   ]
  },
  {
   "cell_type": "code",
   "execution_count": null,
   "metadata": {},
   "outputs": [],
   "source": [
    "from torch.autograd import Function\n",
    "\n",
    "#######################################################\n",
    "class MyMSELoss(Function):\n",
    "    \n",
    "    @staticmethod\n",
    "    def forward(ctx, y_pred, y):    \n",
    "        ctx.save_for_backward(y_pred, y)\n",
    "        return ( (y - y_pred)**2 ).mean()\n",
    "    \n",
    "    @staticmethod\n",
    "    def backward(ctx, grad_output):\n",
    "        y_pred, y = ctx.saved_tensors\n",
    "        grad_input = 2 * (y_pred - y) / y_pred.shape[0]        \n",
    "        return grad_input, None\n",
    "    \n",
    "#######################################################"
   ]
  },
  {
   "cell_type": "code",
   "execution_count": null,
   "metadata": {},
   "outputs": [
    {
     "name": "stdout",
     "output_type": "stream",
     "text": [
      "Epoch: 0 completed\n",
      "Epoch: 500 completed\n"
     ]
    }
   ],
   "source": [
    "epochs = 1000\n",
    "# mseloss = nn.MSELoss()\n",
    "mseloss = MyMSELoss.apply\n",
    "optimizer = torch.optim.Adam(xor_network.parameters(), lr = 0.03)\n",
    "all_losses = []\n",
    "current_loss = 0\n",
    "plot_every = 50\n",
    "\n",
    "for epoch in range(epochs):\n",
    "\n",
    "  # input training example and return the prediction\n",
    "  yhat = xor_network.forward(Xs)\n",
    "\n",
    "  # calculate MSE loss\n",
    "  loss = mseloss(yhat, y)\n",
    "  \n",
    "  # backpropogate through the loss gradiants\n",
    "  loss.backward()\n",
    "\n",
    "  # update model weights\n",
    "  optimizer.step()\n",
    "\n",
    "  # remove current gradients for next iteration\n",
    "  optimizer.zero_grad()\n",
    "\n",
    "  # append to loss\n",
    "  current_loss += loss\n",
    "  if epoch % plot_every == 0:\n",
    "      all_losses.append((current_loss / plot_every).detach().numpy())\n",
    "      current_loss = 0\n",
    "  \n",
    "  # print progress\n",
    "  if epoch % 500 == 0:\n",
    "    print(f'Epoch: {epoch} completed')"
   ]
  },
  {
   "cell_type": "code",
   "execution_count": null,
   "metadata": {},
   "outputs": [
    {
     "data": {
      "text/plain": [
       "tensor(0., grad_fn=<MyMSELossBackward>)"
      ]
     },
     "execution_count": null,
     "metadata": {},
     "output_type": "execute_result"
    }
   ],
   "source": [
    "loss"
   ]
  },
  {
   "cell_type": "code",
   "execution_count": null,
   "metadata": {},
   "outputs": [
    {
     "data": {
      "image/png": "[encoded data removed]",
      "text/plain": [
       "<Figure size 432x288 with 1 Axes>"
      ]
     },
     "metadata": {
      "needs_background": "light"
     },
     "output_type": "display_data"
    }
   ],
   "source": [
    "import matplotlib.pyplot as plt\n",
    "plt.plot(all_losses)\n",
    "plt.ylabel('Loss')\n",
    "plt.show()"
   ]
  },
  {
   "cell_type": "code",
   "execution_count": null,
   "metadata": {},
   "outputs": [
    {
     "name": "stdout",
     "output_type": "stream",
     "text": [
      "linear.weight tensor([[ 6.7004,  6.2427],\n",
      "        [-3.1109, -3.0586]])\n",
      "linear.bias tensor([-2.6735,  4.3534])\n",
      "linear2.weight tensor([[1.4605, 1.6122]])\n",
      "linear2.bias tensor([-1.6860])\n"
     ]
    }
   ],
   "source": [
    "# show weights and bias\n",
    "for name, param in xor_network.named_parameters():\n",
    "    if param.requires_grad:\n",
    "        print(name, param.data)"
   ]
  },
  {
   "cell_type": "code",
   "execution_count": null,
   "metadata": {},
   "outputs": [
    {
     "name": "stdout",
     "output_type": "stream",
     "text": [
      "tensor([1.], grad_fn=<RoundBackward0>)\n"
     ]
    }
   ],
   "source": [
    "# test input\n",
    "input = torch.tensor([1., 0.])\n",
    "out = xor_network(input)\n",
    "print(out.round())"
   ]
  }
 ],
 "metadata": {
  "kernelspec": {
   "display_name": "Python 3.9.13 ('mlmvn')",
   "language": "python",
   "name": "python3"
  },
  "language_info": {
   "name": "python",
   "version": "3.9.13"
  },
  "vscode": {
   "interpreter": {
    "hash": "60921e9341117d933bcb4a7bf88489ff9d34b3e2ff6ec9ca6bb1293af9510160"
   }
  }
 },
 "nbformat": 4,
 "nbformat_minor": 0
}
