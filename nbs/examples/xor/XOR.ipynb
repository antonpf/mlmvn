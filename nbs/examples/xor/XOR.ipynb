{
 "cells": [
  {
   "cell_type": "code",
   "execution_count": 1,
   "metadata": {},
   "outputs": [
    {
     "data": {
      "text/plain": [
       "<torch._C.Generator at 0x10c7a7030>"
      ]
     },
     "execution_count": 1,
     "metadata": {},
     "output_type": "execute_result"
    }
   ],
   "source": [
    "# import libraries \n",
    "import torch\n",
    "import torch.nn as nn\n",
    "from torch.autograd import Variable\n",
    "import numpy as np\n",
    "from mlmvn.layers import OutputLayer\n",
    "from mlmvn.loss import ComplexMSELoss\n",
    "\n",
    "torch.manual_seed(0)  #  for repeatable results"
   ]
  },
  {
   "cell_type": "code",
   "execution_count": 2,
   "metadata": {},
   "outputs": [],
   "source": [
    "# create data\n",
    "x = torch.Tensor([[1., 1.],\n",
    "               [1., -1.],\n",
    "               [-1., 1.],\n",
    "               [-1., -1.]])\n",
    "\n",
    "x = x.type(torch.cdouble)\n",
    "\n",
    "y = torch.Tensor([0., 1., 1., 0.]).reshape(x.shape[0], 1)\n"
   ]
  },
  {
   "cell_type": "code",
   "execution_count": 3,
   "metadata": {},
   "outputs": [],
   "source": [
    "class BasicModel(nn.Module):\n",
    "    def __init__(self):\n",
    "        super().__init__()\n",
    "        self.linear = OutputLayer(2, 1)\n",
    "        # self.phase_act = cmplx_phase_activation()\n",
    "\n",
    "    def forward(self, x):\n",
    "        x = self.linear(x)\n",
    "        # x = self.phase_act(x)\n",
    "        return x"
   ]
  },
  {
   "cell_type": "code",
   "execution_count": 4,
   "metadata": {},
   "outputs": [],
   "source": [
    "model = BasicModel()\n",
    "criterion = ComplexMSELoss.apply\n",
    "optimizer = torch.optim.SGD(model.parameters(), lr=1)\n",
    "categories =  2\n",
    "periodicity = 2\n"
   ]
  },
  {
   "cell_type": "code",
   "execution_count": 5,
   "metadata": {},
   "outputs": [],
   "source": [
    "for t in range(20):\n",
    "    # Forward pass: Compute predicted y by passing x to the model\n",
    "    y_pred = model(x)\n",
    "\n",
    "    loss = criterion(y_pred.view(-1), y, categories, periodicity)\n",
    "    if t % 100 == 99:\n",
    "        print(t, torch.abs(loss))\n",
    "\n",
    "    # Zero gradients, perform a backward pass, and update the weights.\n",
    "    optimizer.zero_grad()\n",
    "    loss.backward()\n",
    "    optimizer.step()"
   ]
  },
  {
   "cell_type": "code",
   "execution_count": 6,
   "metadata": {},
   "outputs": [],
   "source": [
    "predictions = model(x)"
   ]
  },
  {
   "cell_type": "code",
   "execution_count": 7,
   "metadata": {},
   "outputs": [
    {
     "data": {
      "text/plain": [
       "tensor([[0.],\n",
       "        [1.],\n",
       "        [1.],\n",
       "        [0.]], dtype=torch.float64, grad_fn=<RemainderBackward0>)"
      ]
     },
     "execution_count": 7,
     "metadata": {},
     "output_type": "execute_result"
    }
   ],
   "source": [
    "def angle2class(x: torch.tensor, categories, periodicity) -> torch.tensor:\n",
    "    tmp = x.angle() + 2 * np.pi\n",
    "    angle = torch.remainder(tmp, 2 * np.pi)\n",
    "\n",
    "    # This will be the discrete output (the number of sector)\n",
    "    o = torch.floor(categories * periodicity * angle / (2 * np.pi))\n",
    "    return torch.remainder(o, categories)\n",
    "\n",
    "angle2class(predictions, 2, 2)"
   ]
  }
 ],
 "metadata": {
  "kernelspec": {
   "display_name": "Python 3.9.13 ('mlmvn')",
   "language": "python",
   "name": "python3"
  },
  "language_info": {
   "codemirror_mode": {
    "name": "ipython",
    "version": 3
   },
   "file_extension": ".py",
   "mimetype": "text/x-python",
   "name": "python",
   "nbconvert_exporter": "python",
   "pygments_lexer": "ipython3",
   "version": "3.9.13"
  },
  "vscode": {
   "interpreter": {
    "hash": "60921e9341117d933bcb4a7bf88489ff9d34b3e2ff6ec9ca6bb1293af9510160"
   }
  }
 },
 "nbformat": 4,
 "nbformat_minor": 0
}
