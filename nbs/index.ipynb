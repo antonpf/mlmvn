{
 "cells": [
  {
   "cell_type": "code",
   "execution_count": null,
   "metadata": {},
   "outputs": [],
   "source": [
    "#|hide\n",
    "from mlmvn.core import *"
   ]
  },
  {
   "cell_type": "markdown",
   "metadata": {},
   "source": [
    "# MLMVN - Multilayer Feedforward Neural Network Based on Multi-Valued Neurons\n",
    "\n",
    "> mlmvn is a Python package that provides an implementation of complex-valued neural networks with multi-valued neurons."
   ]
  },
  {
   "cell_type": "markdown",
   "metadata": {},
   "source": [
    "## Install\n",
    "\n",
    "The source code is currently hosted on GitLab at: ...\n",
    "\n",
    "To install the latest released version run:"
   ]
  },
  {
   "cell_type": "markdown",
   "metadata": {},
   "source": [
    "`pip install your_project_name`"
   ]
  },
  {
   "cell_type": "markdown",
   "metadata": {},
   "source": [
    "## How to use"
   ]
  },
  {
   "cell_type": "markdown",
   "metadata": {},
   "source": [
    "### Loading Data\n",
    "> TODO"
   ]
  },
  {
   "cell_type": "code",
   "execution_count": null,
   "metadata": {},
   "outputs": [
    {
     "name": "stdout",
     "output_type": "stream",
     "text": [
      "test\n"
     ]
    }
   ],
   "source": [
    "print(\"test\")"
   ]
  },
  {
   "cell_type": "markdown",
   "metadata": {},
   "source": [
    "### Creating Models\n",
    "\n",
    "To define a MLMVN, we create an object from `NeuralNet`. We set the layers of the network and specify number of neurons in the input layer and output layer. "
   ]
  },
  {
   "cell_type": "code",
   "execution_count": null,
   "metadata": {},
   "outputs": [],
   "source": [
    "from mlmvn.nn import NeuralNet\n",
    "from mlmvn.layers import FirstHiddenLayer, HiddenLayer, CmplxActivation, OutputLayer\n",
    "from mlmvn.loss import Loss, RMSE\n",
    "from mlmvn.optim import Optimizer, ECL\n",
    "\n",
    "ni = 10\n",
    "no = 1\n",
    "\n",
    "# MVN\n",
    "model = NeuralNet(\n",
    "    [\n",
    "        FirstHiddenLayer(input_size=ni, output_size=36),\n",
    "        CmplxActivation(),\n",
    "        HiddenLayer(input_size=36, output_size=36),\n",
    "        CmplxActivation(),\n",
    "        OutputLayer(input_size=36, output_size=no),\n",
    "        CmplxActivation(),\n",
    "    ]\n",
    ")"
   ]
  },
  {
   "cell_type": "code",
   "execution_count": null,
   "metadata": {},
   "outputs": [],
   "source": [
    "# Define loss and optimizer\n",
    "loss: Loss = RMSE(categories=6, periodicity=1)\n",
    "optimizer: Optimizer = ECL()"
   ]
  },
  {
   "cell_type": "markdown",
   "metadata": {},
   "source": [
    "## Training"
   ]
  },
  {
   "cell_type": "code",
   "execution_count": null,
   "metadata": {},
   "outputs": [
    {
     "ename": "",
     "evalue": "",
     "output_type": "error",
     "traceback": [
      "\u001b[1;31mJupyter kann nicht gestartet werden. Fehler beim Versuch, Jupyter zu finden: Das Ausführen von Zellen mit „Python 3.9.13 ('mlmvn')“ erfordert das jupyter und notebook-Paket.\n",
      "Führen Sie den folgenden Befehl aus, um „jupyter und notebook“ in der Python-Umgebung zu installieren. \r\n",
      "Befehl: „python -m pip install jupyter notebook -U\n",
      "or\n",
      "conda install jupyter notebook -U“\n",
      "Klicken Sie <a href='https://aka.ms/installJupyterForVSCode'>hier</a>, um weitere Informationen zu erhalten."
     ]
    }
   ],
   "source": [
    "for epoch in range(epochs):\n",
    "    for i in range((ns - 1) // bs + 1):\n",
    "        start_i = i * bs\n",
    "        end_i = start_i + bs\n",
    "        xb = X_train[start_i:end_i]\n",
    "        yb = y_train[start_i:end_i]\n",
    "\n",
    "        # Compute prediction error\n",
    "        predicted = model.forward(xb)\n",
    "        angle = loss.angle(predicted, yb)\n",
    "\n",
    "        # Backpropagation\n",
    "        model.backward(angle)\n",
    "        optimizer.step(model, xb.size(0))"
   ]
  }
 ],
 "metadata": {
  "kernelspec": {
   "display_name": "Python 3.9.13 ('mlmvn')",
   "language": "python",
   "name": "python3"
  }
 },
 "nbformat": 4,
 "nbformat_minor": 4
}
