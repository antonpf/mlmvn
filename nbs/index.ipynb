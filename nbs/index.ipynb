{
 "cells": [
  {
   "cell_type": "code",
   "execution_count": null,
   "metadata": {},
   "outputs": [],
   "source": [
    "# |hide\n",
    "# from mlmvn.core import *"
   ]
  },
  {
   "cell_type": "markdown",
   "metadata": {},
   "source": [
    "# MLMVN\n",
    "\n",
    "> mlmvn is a Python package that provides an implementation of complex-valued neural networks with multi-valued neurons."
   ]
  },
  {
   "cell_type": "markdown",
   "metadata": {},
   "source": [
    "## Install\n",
    "\n",
    "Clone this repository\n",
    "\n",
    "```\n",
    "git clone https://github.com/antonpf/mlmvn.git\n",
    "```\n",
    "\n",
    "and install the required packages\n",
    "\n",
    "```\n",
    "cd mlmvn\n",
    "conda env create -f environment.yml\n",
    "conda activate mlmvn\n",
    "```\n",
    "\n",
    "Next, the mlmvn package can be installed with pip\n",
    "\n",
    "```\n",
    "pip install .\n",
    "```"
   ]
  },
  {
   "cell_type": "markdown",
   "metadata": {},
   "source": [
    "## How to use"
   ]
  },
  {
   "cell_type": "markdown",
   "metadata": {},
   "source": [
    "As a small example, the XOR problem is described here. The XOR problem is an example of how a single real-valued neuron cannot learn a simple but non-linear relationship. At least, this holds if we do not extend the dimensionality of the feature space. "
   ]
  },
  {
   "cell_type": "markdown",
   "metadata": {},
   "source": [
    "### Setup"
   ]
  },
  {
   "cell_type": "code",
   "execution_count": null,
   "metadata": {},
   "outputs": [],
   "source": [
    "import torch\n",
    "import torch.nn as nn\n",
    "import numpy as np\n",
    "from mlmvn.layers import FirstLayer, OutputLayer, cmplx_phase_activation\n",
    "from mlmvn.loss import ComplexMSELoss\n",
    "from mlmvn.optim import ECL"
   ]
  },
  {
   "cell_type": "markdown",
   "metadata": {},
   "source": [
    "### Loading Data\n",
    "The dataset contains four input-output mappings with binary classes. The two-dimensional input $x$ is mapped to a class label $y$. The following table shows the truth table with associated labels for the XOR gate.\n",
    "\n",
    "$$\n",
    "\\begin{aligned}\n",
    "    \\begin{array}{cc|c|cc}\n",
    "        x_1 & x_2 & y & z & arg(z) \\\\\n",
    "        \\hline\n",
    "\t\t1 &  1\t& 0\t&  1+j &  45° \\\\\n",
    "\t\t1 & -1\t& 1\t&  1-j & 315° \\\\\n",
    "\t\t-1 &  1\t& 1\t& -1+j & 135° \\\\\n",
    "\t\t-1 & -1\t& 0\t& -1-j & 225° \\\\\n",
    "    \\end{array}\n",
    "\\end{aligned}\n",
    "$$"
   ]
  },
  {
   "cell_type": "code",
   "execution_count": null,
   "metadata": {},
   "outputs": [],
   "source": [
    "# Create data\n",
    "x = torch.Tensor([[1.0, 1.0], [1.0, -1.0], [-1.0, 1.0], [-1.0, -1.0]])\n",
    "x = x.type(torch.cdouble)\n",
    "y = torch.Tensor([0.0, 1.0, 1.0, 0.0]).reshape(x.shape[0], 1)"
   ]
  },
  {
   "cell_type": "markdown",
   "metadata": {},
   "source": [
    "### Creating Models"
   ]
  },
  {
   "cell_type": "code",
   "execution_count": null,
   "metadata": {},
   "outputs": [],
   "source": [
    "class BasicModel(nn.Module):\n",
    "    def __init__(self):\n",
    "        super().__init__()\n",
    "        self.linear = FirstLayer(2, 2)\n",
    "        self.phase_act = cmplx_phase_activation()\n",
    "        self.linear1 = OutputLayer(2, 1)\n",
    "        self.phase_act = cmplx_phase_activation()\n",
    "\n",
    "    def forward(self, x):\n",
    "        x = self.linear(x)\n",
    "        x = self.linear1(x)\n",
    "        x = self.phase_act(x)\n",
    "        return x"
   ]
  },
  {
   "cell_type": "code",
   "execution_count": null,
   "metadata": {},
   "outputs": [],
   "source": [
    "model = BasicModel()\n",
    "criterion = ComplexMSELoss.apply\n",
    "optimizer = ECL(model.parameters(), lr=1)\n",
    "categories = 2\n",
    "periodicity = 2"
   ]
  },
  {
   "cell_type": "markdown",
   "metadata": {},
   "source": [
    "## Training"
   ]
  },
  {
   "cell_type": "code",
   "execution_count": null,
   "metadata": {},
   "outputs": [
    {
     "name": "stdout",
     "output_type": "stream",
     "text": [
      "0 tensor(0.2833, dtype=torch.float64, grad_fn=<AbsBackward0>)\n",
      "1 tensor(1.3938, dtype=torch.float64, grad_fn=<AbsBackward0>)\n",
      "2 tensor(0.3198, dtype=torch.float64, grad_fn=<AbsBackward0>)\n",
      "3 tensor(0.0371, dtype=torch.float64, grad_fn=<AbsBackward0>)\n",
      "4 tensor(0.0036, dtype=torch.float64, grad_fn=<AbsBackward0>)\n"
     ]
    }
   ],
   "source": [
    "for t in range(5):\n",
    "    # Forward pass: Compute predicted y by passing x to the model\n",
    "    y_pred = model(x)\n",
    "    loss = criterion(y_pred, y, categories, periodicity)\n",
    "    print(t, torch.abs(loss))\n",
    "\n",
    "    # Zero gradients, perform a backward pass, and update the weights.\n",
    "    optimizer.zero_grad()\n",
    "    loss.backward()\n",
    "    optimizer.step(inputs=x, layers=list(model.children()))"
   ]
  },
  {
   "cell_type": "markdown",
   "metadata": {},
   "source": [
    "### Evaluation"
   ]
  },
  {
   "cell_type": "code",
   "execution_count": null,
   "metadata": {},
   "outputs": [
    {
     "data": {
      "text/plain": [
       "tensor([[0.],\n",
       "        [1.],\n",
       "        [1.],\n",
       "        [0.]], dtype=torch.float64, grad_fn=<RemainderBackward0>)"
      ]
     },
     "execution_count": null,
     "metadata": {},
     "output_type": "execute_result"
    }
   ],
   "source": [
    "predictions = model(x)\n",
    "\n",
    "\n",
    "def angle2class(x: torch.tensor, categories, periodicity) -> torch.tensor:\n",
    "    tmp = x.angle() + 2 * np.pi\n",
    "    angle = torch.remainder(tmp, 2 * np.pi)\n",
    "\n",
    "    # This will be the discrete output (the number of sector)\n",
    "    o = torch.floor(categories * periodicity * angle / (2 * np.pi))\n",
    "    return torch.remainder(o, categories)\n",
    "\n",
    "\n",
    "angle2class(predictions, 2, 2)"
   ]
  }
 ],
 "metadata": {
  "kernelspec": {
   "display_name": "python3",
   "language": "python",
   "name": "python3"
  }
 },
 "nbformat": 4,
 "nbformat_minor": 4
}
